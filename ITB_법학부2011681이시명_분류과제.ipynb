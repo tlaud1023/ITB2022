{
  "nbformat": 4,
  "nbformat_minor": 0,
  "metadata": {
    "colab": {
      "provenance": [],
      "include_colab_link": true
    },
    "kernelspec": {
      "name": "python3",
      "display_name": "Python 3"
    },
    "language_info": {
      "name": "python"
    }
  },
  "cells": [
    {
      "cell_type": "markdown",
      "metadata": {
        "id": "view-in-github",
        "colab_type": "text"
      },
      "source": [
        "<a href=\"https://colab.research.google.com/github/tlaud1023/ITB2022/blob/main/ITB_%EB%B2%95%ED%95%99%EB%B6%802011681%EC%9D%B4%EC%8B%9C%EB%AA%85_%EB%B6%84%EB%A5%98%EA%B3%BC%EC%A0%9C.ipynb\" target=\"_parent\"><img src=\"https://colab.research.google.com/assets/colab-badge.svg\" alt=\"Open In Colab\"/></a>"
      ]
    },
    {
      "cell_type": "code",
      "execution_count": 1,
      "metadata": {
        "id": "eFG6fpQGZD_Z"
      },
      "outputs": [],
      "source": [
        "import pandas as pd"
      ]
    },
    {
      "cell_type": "code",
      "source": [
        "%matplotlib inline \n",
        "import pandas as pd\n",
        "import seaborn as sns           # Seaborn 로딩하기\n",
        "import matplotlib.pyplot as plt # Matplotlib의 pyplot 로딩하기"
      ],
      "metadata": {
        "id": "NKI_ih2fv_nS"
      },
      "execution_count": 2,
      "outputs": []
    },
    {
      "cell_type": "code",
      "source": [
        "# 간단하게 그림을 그릴 수 있는 mglearn 라이브러리 사용 (!pip install mglearn 명령어로 설치)\n",
        "!pip install mglearn \n",
        "!pip install --upgrade joblib==1.1.0\n",
        "import mglearn"
      ],
      "metadata": {
        "id": "lVqXKU4SvlM-"
      },
      "execution_count": null,
      "outputs": []
    },
    {
      "cell_type": "code",
      "source": [
        "# 외부 화일을 가져와서 데이터프레임으로 저장하기 \n",
        "fpath = 'https://raw.githubusercontent.com/tlaud1023/ITB2022/main/health_data.csv' #github에서 url로 바로 가져옴(raw)\n",
        "hd = pd.read_csv(fpath) #url변수 삽입\n",
        "\n",
        "print(type(hd))\n",
        "\n",
        "\n",
        "#print(hd.columns)\n",
        "#display(hd.info())"
      ],
      "metadata": {
        "id": "xdkVWyZ8Zwjg",
        "colab": {
          "base_uri": "https://localhost:8080/"
        },
        "outputId": "966f262f-49c2-4234-853c-36b451054799"
      },
      "execution_count": 4,
      "outputs": [
        {
          "output_type": "stream",
          "name": "stdout",
          "text": [
            "<class 'pandas.core.frame.DataFrame'>\n"
          ]
        }
      ]
    },
    {
      "cell_type": "code",
      "source": [
        "#영문명 변수로 변경하기\n",
        "\n",
        "hd= hd.rename(columns = {'기준년도': 'HCHK_YEAR'})\n",
        "hd= hd.rename(columns = {'가입자일련번호': 'IDV_ID'})\n",
        "hd= hd.rename(columns = {'시도코드': 'SIDO'})\n",
        "hd= hd.rename(columns = {'성별코드': 'SEX'})\n",
        "hd= hd.rename(columns = {'연령대코드(5세단위)': 'AGE_GROUP'})\n",
        "hd= hd.rename(columns = {'신장(5Cm단위)': 'HEIGHT'})\n",
        "hd= hd.rename(columns = {'체중(5Kg 단위)': 'WEIGHT'})\n",
        "hd= hd.rename(columns = {'허리둘레': 'WAIST'})\n",
        "hd= hd.rename(columns = {'시력(좌)': 'SIGHT_LEFT'})\n",
        "hd= hd.rename(columns = {'시력(우)': 'SIGHT_RIGHT'})\n",
        "hd= hd.rename(columns = {'청력(좌)': 'HEAR_LEFT'})\n",
        "hd= hd.rename(columns = {'청력(우)': 'HEAR_RIGHT'})\n",
        "hd= hd.rename(columns = {'수축기혈압': 'BP_HIGH'})\n",
        "hd= hd.rename(columns = {'이완기혈압': 'BP_LWST'})\n",
        "hd= hd.rename(columns = {'식전혈당(공복혈당)': 'BLDS'})\n",
        "hd= hd.rename(columns = {'총콜레스테롤': 'TOT_CHOLE'})\n",
        "hd= hd.rename(columns = {'트리글리세라이드': 'TRIGLYCERIDE'})\n",
        "hd= hd.rename(columns = {'HDL콜레스테롤': 'HDL_CHOLE'})\n",
        "hd= hd.rename(columns = {'LDL콜레스테롤': 'LDL_CHOLE'})\n",
        "hd= hd.rename(columns = {'혈색소': 'HMG'})\n",
        "hd= hd.rename(columns = {'요단백': 'OLIG_PROTE_CD'})\n",
        "hd= hd.rename(columns = {'혈청크레아티닌': 'CREATININE'})\n",
        "hd= hd.rename(columns = {'(혈청지오티)AST': 'SGOT_AST'})\n",
        "hd= hd.rename(columns = {'(혈청지오티)ALT': 'SGPT_ALT'})\n",
        "hd= hd.rename(columns = {'감마지티피': 'GAMMA_GTP'})\n",
        "hd= hd.rename(columns = {'흡연상태': 'SMK_STAT_TYPE_CD'})\n",
        "hd= hd.rename(columns = {'음주여부': 'DRK_YN'})\n",
        "hd= hd.rename(columns = {'구강검진 수검여부': 'HCHK_OE_INSPEC_YN'})\n",
        "hd= hd.rename(columns = {'치아우식증유무': 'CRS_YN'})\n",
        "hd= hd.rename(columns = {'치석': 'TTR_YN'})\n",
        "hd= hd.rename(columns = {'데이터공개일자': 'DATA_STD__DT'})\n",
        "\n",
        "display(hd.info())"
      ],
      "metadata": {
        "id": "e3JBKXdtyhJM"
      },
      "execution_count": null,
      "outputs": []
    },
    {
      "cell_type": "markdown",
      "source": [
        "# 간질환 관리를 위한 모델 구축 하기\n",
        "\n",
        "간질환은 간섬유화를 거쳐 간경변과 간암 등 중증으로 발전하면 치료제가 없어 회복이 불가능해 어느 질병보다 조기 예측 및 진단이 중요하다."
      ],
      "metadata": {
        "id": "n1gN90PpMkTw"
      }
    },
    {
      "cell_type": "markdown",
      "source": [
        "알고리즘 및 패키지 호출 "
      ],
      "metadata": {
        "id": "nPLdTbFpu0Vz"
      }
    },
    {
      "cell_type": "code",
      "source": [
        "from sklearn.preprocessing import MinMaxScaler #정규화\n",
        "from sklearn.tree import DecisionTreeClassifier as DTC #의사결정나무\n",
        "from sklearn.tree import plot_tree\n",
        "from sklearn.ensemble import RandomForestClassifier as RFC #랜덤포레스트"
      ],
      "metadata": {
        "id": "GQNtdVAquzBd"
      },
      "execution_count": 6,
      "outputs": []
    },
    {
      "cell_type": "markdown",
      "source": [
        "**데이터 전처리 및 독립/종속변수 선택**\n",
        "\n",
        "1) BMI 변수 생성 (독립변수)\n",
        "\n",
        "2) 데이터셋 결측치 보간 및 결측행 제거\n",
        "\n",
        "3) LIVER_DISEASE (종속변수) 생성 : SGOT_AST와 SGOT_ALT 모두 40을 초과하면 Y, 아니면 N\n",
        "\n",
        "4) 독립변수 one hot incoding (더미변수로 변경)"
      ],
      "metadata": {
        "id": "LkbdXnUBDBuu"
      }
    },
    {
      "cell_type": "code",
      "source": [
        "# 1) BMI 변수 생성 (독립변수)\n",
        "hd2 = hd.copy()\n",
        "hd2['BMI'] = hd2['WEIGHT']/((hd2['HEIGHT']/100)**2) #bmi 변수 생성"
      ],
      "metadata": {
        "id": "rx1grI1w5Ezb"
      },
      "execution_count": 7,
      "outputs": []
    },
    {
      "cell_type": "code",
      "source": [
        "#분석할 데이터셋(HD) 설정 - 결측치 보간 및 결측행 제거\n",
        "\n",
        "#hd2.iloc[:,15:19] : 결측치가 제일 많은 열의 값 보간하기\n",
        "\n",
        "from sklearn.impute import SimpleImputer\n",
        "\n",
        "imputer = SimpleImputer(strategy = \"median\") # median(중앙값)으로 보간\n",
        "hd_impute = pd.DataFrame(imputer.fit_transform(hd2.iloc[:,15:19]))\n",
        "print(\"\\n중간값으로 보간:\", hd_impute.shape)  \n",
        "\n",
        "hd2.iloc[:,15:19] = hd_impute\n",
        "#print(hd2.isna().sum())\n",
        "\n",
        "HD = hd2.dropna() #결측행 제거\n",
        "display(HD) #최종 데이터셋의 사례는 3237개"
      ],
      "metadata": {
        "id": "MTofbeaYfzbf",
        "colab": {
          "base_uri": "https://localhost:8080/",
          "height": 645
        },
        "outputId": "c62b02fe-844d-462e-f9a1-7db1cdac1028"
      },
      "execution_count": 10,
      "outputs": [
        {
          "output_type": "stream",
          "name": "stdout",
          "text": [
            "\n",
            "중간값으로 보간: (10000, 4)\n"
          ]
        },
        {
          "output_type": "display_data",
          "data": {
            "text/plain": [
              "      HCHK_YEAR  IDV_ID  SIDO SEX  AGE_GROUP  HEIGHT  WEIGHT  WAIST  \\\n",
              "3          2020       4    31   M         13     160      70   90.8   \n",
              "6          2020       7    44   M          9     165      80   93.0   \n",
              "7          2020       8    41   M         13     160      65   92.0   \n",
              "12         2020      13    41   M         14     175      80   90.0   \n",
              "16         2020      17    30   M         11     160      65   90.0   \n",
              "...         ...     ...   ...  ..        ...     ...     ...    ...   \n",
              "9981       2020    9982    11   M         12     170      70   88.0   \n",
              "9982       2020    9983    42   F         13     155      55   81.5   \n",
              "9983       2020    9984    28   M         12     160      65   79.0   \n",
              "9988       2020    9989    11   M         14     160      50   76.0   \n",
              "9996       2020    9997    43   F         11     160      55   77.5   \n",
              "\n",
              "      SIGHT_LEFT  SIGHT_RIGHT  ...  SGOT_AST  SGPT_ALT  GAMMA_GTP  \\\n",
              "3            1.0          1.0  ...      65.0      97.0       72.0   \n",
              "6            0.8          0.7  ...      18.0      20.0       35.0   \n",
              "7            0.5          0.5  ...      18.0      17.0       19.0   \n",
              "12           0.8          0.7  ...      21.0      21.0       41.0   \n",
              "16           0.6          0.6  ...      29.0      54.0       24.0   \n",
              "...          ...          ...  ...       ...       ...        ...   \n",
              "9981         1.2          1.0  ...      31.0      39.0       42.0   \n",
              "9982         1.0          0.9  ...      27.0      20.0       22.0   \n",
              "9983         1.5          1.2  ...      24.0      21.0       13.0   \n",
              "9988         0.6          1.0  ...      17.0      11.0       21.0   \n",
              "9996         1.0          1.2  ...      24.0      22.0       21.0   \n",
              "\n",
              "      SMK_STAT_TYPE_CD  DRK_YN  구강검진수검여부  CRS_YN  TTR_YN  DATA_STD__DT  \\\n",
              "3                   No      No         1     0.0     0.0    12/29/2021   \n",
              "6                  Yes     Yes         1     0.0     1.0    12/29/2021   \n",
              "7                  Yes      No         1     0.0     2.0    12/29/2021   \n",
              "12                 Yes     Yes         1     0.0     0.0    12/29/2021   \n",
              "16                  No     Yes         1     0.0     1.0    12/29/2021   \n",
              "...                ...     ...       ...     ...     ...           ...   \n",
              "9981            NotNow      No         1     0.0     0.0    12/29/2021   \n",
              "9982                No     Yes         1     1.0     1.0    12/29/2021   \n",
              "9983            NotNow     Yes         1     0.0     0.0    12/29/2021   \n",
              "9988               Yes      No         1     1.0     0.0    12/29/2021   \n",
              "9996                No     Yes         1     0.0     0.0    12/29/2021   \n",
              "\n",
              "            BMI  \n",
              "3     27.343750  \n",
              "6     29.384757  \n",
              "7     25.390625  \n",
              "12    26.122449  \n",
              "16    25.390625  \n",
              "...         ...  \n",
              "9981  24.221453  \n",
              "9982  22.892820  \n",
              "9983  25.390625  \n",
              "9988  19.531250  \n",
              "9996  21.484375  \n",
              "\n",
              "[3237 rows x 32 columns]"
            ],
            "text/html": [
              "\n",
              "  <div id=\"df-a33e77af-4391-4356-9870-d5f75278f890\">\n",
              "    <div class=\"colab-df-container\">\n",
              "      <div>\n",
              "<style scoped>\n",
              "    .dataframe tbody tr th:only-of-type {\n",
              "        vertical-align: middle;\n",
              "    }\n",
              "\n",
              "    .dataframe tbody tr th {\n",
              "        vertical-align: top;\n",
              "    }\n",
              "\n",
              "    .dataframe thead th {\n",
              "        text-align: right;\n",
              "    }\n",
              "</style>\n",
              "<table border=\"1\" class=\"dataframe\">\n",
              "  <thead>\n",
              "    <tr style=\"text-align: right;\">\n",
              "      <th></th>\n",
              "      <th>HCHK_YEAR</th>\n",
              "      <th>IDV_ID</th>\n",
              "      <th>SIDO</th>\n",
              "      <th>SEX</th>\n",
              "      <th>AGE_GROUP</th>\n",
              "      <th>HEIGHT</th>\n",
              "      <th>WEIGHT</th>\n",
              "      <th>WAIST</th>\n",
              "      <th>SIGHT_LEFT</th>\n",
              "      <th>SIGHT_RIGHT</th>\n",
              "      <th>...</th>\n",
              "      <th>SGOT_AST</th>\n",
              "      <th>SGPT_ALT</th>\n",
              "      <th>GAMMA_GTP</th>\n",
              "      <th>SMK_STAT_TYPE_CD</th>\n",
              "      <th>DRK_YN</th>\n",
              "      <th>구강검진수검여부</th>\n",
              "      <th>CRS_YN</th>\n",
              "      <th>TTR_YN</th>\n",
              "      <th>DATA_STD__DT</th>\n",
              "      <th>BMI</th>\n",
              "    </tr>\n",
              "  </thead>\n",
              "  <tbody>\n",
              "    <tr>\n",
              "      <th>3</th>\n",
              "      <td>2020</td>\n",
              "      <td>4</td>\n",
              "      <td>31</td>\n",
              "      <td>M</td>\n",
              "      <td>13</td>\n",
              "      <td>160</td>\n",
              "      <td>70</td>\n",
              "      <td>90.8</td>\n",
              "      <td>1.0</td>\n",
              "      <td>1.0</td>\n",
              "      <td>...</td>\n",
              "      <td>65.0</td>\n",
              "      <td>97.0</td>\n",
              "      <td>72.0</td>\n",
              "      <td>No</td>\n",
              "      <td>No</td>\n",
              "      <td>1</td>\n",
              "      <td>0.0</td>\n",
              "      <td>0.0</td>\n",
              "      <td>12/29/2021</td>\n",
              "      <td>27.343750</td>\n",
              "    </tr>\n",
              "    <tr>\n",
              "      <th>6</th>\n",
              "      <td>2020</td>\n",
              "      <td>7</td>\n",
              "      <td>44</td>\n",
              "      <td>M</td>\n",
              "      <td>9</td>\n",
              "      <td>165</td>\n",
              "      <td>80</td>\n",
              "      <td>93.0</td>\n",
              "      <td>0.8</td>\n",
              "      <td>0.7</td>\n",
              "      <td>...</td>\n",
              "      <td>18.0</td>\n",
              "      <td>20.0</td>\n",
              "      <td>35.0</td>\n",
              "      <td>Yes</td>\n",
              "      <td>Yes</td>\n",
              "      <td>1</td>\n",
              "      <td>0.0</td>\n",
              "      <td>1.0</td>\n",
              "      <td>12/29/2021</td>\n",
              "      <td>29.384757</td>\n",
              "    </tr>\n",
              "    <tr>\n",
              "      <th>7</th>\n",
              "      <td>2020</td>\n",
              "      <td>8</td>\n",
              "      <td>41</td>\n",
              "      <td>M</td>\n",
              "      <td>13</td>\n",
              "      <td>160</td>\n",
              "      <td>65</td>\n",
              "      <td>92.0</td>\n",
              "      <td>0.5</td>\n",
              "      <td>0.5</td>\n",
              "      <td>...</td>\n",
              "      <td>18.0</td>\n",
              "      <td>17.0</td>\n",
              "      <td>19.0</td>\n",
              "      <td>Yes</td>\n",
              "      <td>No</td>\n",
              "      <td>1</td>\n",
              "      <td>0.0</td>\n",
              "      <td>2.0</td>\n",
              "      <td>12/29/2021</td>\n",
              "      <td>25.390625</td>\n",
              "    </tr>\n",
              "    <tr>\n",
              "      <th>12</th>\n",
              "      <td>2020</td>\n",
              "      <td>13</td>\n",
              "      <td>41</td>\n",
              "      <td>M</td>\n",
              "      <td>14</td>\n",
              "      <td>175</td>\n",
              "      <td>80</td>\n",
              "      <td>90.0</td>\n",
              "      <td>0.8</td>\n",
              "      <td>0.7</td>\n",
              "      <td>...</td>\n",
              "      <td>21.0</td>\n",
              "      <td>21.0</td>\n",
              "      <td>41.0</td>\n",
              "      <td>Yes</td>\n",
              "      <td>Yes</td>\n",
              "      <td>1</td>\n",
              "      <td>0.0</td>\n",
              "      <td>0.0</td>\n",
              "      <td>12/29/2021</td>\n",
              "      <td>26.122449</td>\n",
              "    </tr>\n",
              "    <tr>\n",
              "      <th>16</th>\n",
              "      <td>2020</td>\n",
              "      <td>17</td>\n",
              "      <td>30</td>\n",
              "      <td>M</td>\n",
              "      <td>11</td>\n",
              "      <td>160</td>\n",
              "      <td>65</td>\n",
              "      <td>90.0</td>\n",
              "      <td>0.6</td>\n",
              "      <td>0.6</td>\n",
              "      <td>...</td>\n",
              "      <td>29.0</td>\n",
              "      <td>54.0</td>\n",
              "      <td>24.0</td>\n",
              "      <td>No</td>\n",
              "      <td>Yes</td>\n",
              "      <td>1</td>\n",
              "      <td>0.0</td>\n",
              "      <td>1.0</td>\n",
              "      <td>12/29/2021</td>\n",
              "      <td>25.390625</td>\n",
              "    </tr>\n",
              "    <tr>\n",
              "      <th>...</th>\n",
              "      <td>...</td>\n",
              "      <td>...</td>\n",
              "      <td>...</td>\n",
              "      <td>...</td>\n",
              "      <td>...</td>\n",
              "      <td>...</td>\n",
              "      <td>...</td>\n",
              "      <td>...</td>\n",
              "      <td>...</td>\n",
              "      <td>...</td>\n",
              "      <td>...</td>\n",
              "      <td>...</td>\n",
              "      <td>...</td>\n",
              "      <td>...</td>\n",
              "      <td>...</td>\n",
              "      <td>...</td>\n",
              "      <td>...</td>\n",
              "      <td>...</td>\n",
              "      <td>...</td>\n",
              "      <td>...</td>\n",
              "      <td>...</td>\n",
              "    </tr>\n",
              "    <tr>\n",
              "      <th>9981</th>\n",
              "      <td>2020</td>\n",
              "      <td>9982</td>\n",
              "      <td>11</td>\n",
              "      <td>M</td>\n",
              "      <td>12</td>\n",
              "      <td>170</td>\n",
              "      <td>70</td>\n",
              "      <td>88.0</td>\n",
              "      <td>1.2</td>\n",
              "      <td>1.0</td>\n",
              "      <td>...</td>\n",
              "      <td>31.0</td>\n",
              "      <td>39.0</td>\n",
              "      <td>42.0</td>\n",
              "      <td>NotNow</td>\n",
              "      <td>No</td>\n",
              "      <td>1</td>\n",
              "      <td>0.0</td>\n",
              "      <td>0.0</td>\n",
              "      <td>12/29/2021</td>\n",
              "      <td>24.221453</td>\n",
              "    </tr>\n",
              "    <tr>\n",
              "      <th>9982</th>\n",
              "      <td>2020</td>\n",
              "      <td>9983</td>\n",
              "      <td>42</td>\n",
              "      <td>F</td>\n",
              "      <td>13</td>\n",
              "      <td>155</td>\n",
              "      <td>55</td>\n",
              "      <td>81.5</td>\n",
              "      <td>1.0</td>\n",
              "      <td>0.9</td>\n",
              "      <td>...</td>\n",
              "      <td>27.0</td>\n",
              "      <td>20.0</td>\n",
              "      <td>22.0</td>\n",
              "      <td>No</td>\n",
              "      <td>Yes</td>\n",
              "      <td>1</td>\n",
              "      <td>1.0</td>\n",
              "      <td>1.0</td>\n",
              "      <td>12/29/2021</td>\n",
              "      <td>22.892820</td>\n",
              "    </tr>\n",
              "    <tr>\n",
              "      <th>9983</th>\n",
              "      <td>2020</td>\n",
              "      <td>9984</td>\n",
              "      <td>28</td>\n",
              "      <td>M</td>\n",
              "      <td>12</td>\n",
              "      <td>160</td>\n",
              "      <td>65</td>\n",
              "      <td>79.0</td>\n",
              "      <td>1.5</td>\n",
              "      <td>1.2</td>\n",
              "      <td>...</td>\n",
              "      <td>24.0</td>\n",
              "      <td>21.0</td>\n",
              "      <td>13.0</td>\n",
              "      <td>NotNow</td>\n",
              "      <td>Yes</td>\n",
              "      <td>1</td>\n",
              "      <td>0.0</td>\n",
              "      <td>0.0</td>\n",
              "      <td>12/29/2021</td>\n",
              "      <td>25.390625</td>\n",
              "    </tr>\n",
              "    <tr>\n",
              "      <th>9988</th>\n",
              "      <td>2020</td>\n",
              "      <td>9989</td>\n",
              "      <td>11</td>\n",
              "      <td>M</td>\n",
              "      <td>14</td>\n",
              "      <td>160</td>\n",
              "      <td>50</td>\n",
              "      <td>76.0</td>\n",
              "      <td>0.6</td>\n",
              "      <td>1.0</td>\n",
              "      <td>...</td>\n",
              "      <td>17.0</td>\n",
              "      <td>11.0</td>\n",
              "      <td>21.0</td>\n",
              "      <td>Yes</td>\n",
              "      <td>No</td>\n",
              "      <td>1</td>\n",
              "      <td>1.0</td>\n",
              "      <td>0.0</td>\n",
              "      <td>12/29/2021</td>\n",
              "      <td>19.531250</td>\n",
              "    </tr>\n",
              "    <tr>\n",
              "      <th>9996</th>\n",
              "      <td>2020</td>\n",
              "      <td>9997</td>\n",
              "      <td>43</td>\n",
              "      <td>F</td>\n",
              "      <td>11</td>\n",
              "      <td>160</td>\n",
              "      <td>55</td>\n",
              "      <td>77.5</td>\n",
              "      <td>1.0</td>\n",
              "      <td>1.2</td>\n",
              "      <td>...</td>\n",
              "      <td>24.0</td>\n",
              "      <td>22.0</td>\n",
              "      <td>21.0</td>\n",
              "      <td>No</td>\n",
              "      <td>Yes</td>\n",
              "      <td>1</td>\n",
              "      <td>0.0</td>\n",
              "      <td>0.0</td>\n",
              "      <td>12/29/2021</td>\n",
              "      <td>21.484375</td>\n",
              "    </tr>\n",
              "  </tbody>\n",
              "</table>\n",
              "<p>3237 rows × 32 columns</p>\n",
              "</div>\n",
              "      <button class=\"colab-df-convert\" onclick=\"convertToInteractive('df-a33e77af-4391-4356-9870-d5f75278f890')\"\n",
              "              title=\"Convert this dataframe to an interactive table.\"\n",
              "              style=\"display:none;\">\n",
              "        \n",
              "  <svg xmlns=\"http://www.w3.org/2000/svg\" height=\"24px\"viewBox=\"0 0 24 24\"\n",
              "       width=\"24px\">\n",
              "    <path d=\"M0 0h24v24H0V0z\" fill=\"none\"/>\n",
              "    <path d=\"M18.56 5.44l.94 2.06.94-2.06 2.06-.94-2.06-.94-.94-2.06-.94 2.06-2.06.94zm-11 1L8.5 8.5l.94-2.06 2.06-.94-2.06-.94L8.5 2.5l-.94 2.06-2.06.94zm10 10l.94 2.06.94-2.06 2.06-.94-2.06-.94-.94-2.06-.94 2.06-2.06.94z\"/><path d=\"M17.41 7.96l-1.37-1.37c-.4-.4-.92-.59-1.43-.59-.52 0-1.04.2-1.43.59L10.3 9.45l-7.72 7.72c-.78.78-.78 2.05 0 2.83L4 21.41c.39.39.9.59 1.41.59.51 0 1.02-.2 1.41-.59l7.78-7.78 2.81-2.81c.8-.78.8-2.07 0-2.86zM5.41 20L4 18.59l7.72-7.72 1.47 1.35L5.41 20z\"/>\n",
              "  </svg>\n",
              "      </button>\n",
              "      \n",
              "  <style>\n",
              "    .colab-df-container {\n",
              "      display:flex;\n",
              "      flex-wrap:wrap;\n",
              "      gap: 12px;\n",
              "    }\n",
              "\n",
              "    .colab-df-convert {\n",
              "      background-color: #E8F0FE;\n",
              "      border: none;\n",
              "      border-radius: 50%;\n",
              "      cursor: pointer;\n",
              "      display: none;\n",
              "      fill: #1967D2;\n",
              "      height: 32px;\n",
              "      padding: 0 0 0 0;\n",
              "      width: 32px;\n",
              "    }\n",
              "\n",
              "    .colab-df-convert:hover {\n",
              "      background-color: #E2EBFA;\n",
              "      box-shadow: 0px 1px 2px rgba(60, 64, 67, 0.3), 0px 1px 3px 1px rgba(60, 64, 67, 0.15);\n",
              "      fill: #174EA6;\n",
              "    }\n",
              "\n",
              "    [theme=dark] .colab-df-convert {\n",
              "      background-color: #3B4455;\n",
              "      fill: #D2E3FC;\n",
              "    }\n",
              "\n",
              "    [theme=dark] .colab-df-convert:hover {\n",
              "      background-color: #434B5C;\n",
              "      box-shadow: 0px 1px 3px 1px rgba(0, 0, 0, 0.15);\n",
              "      filter: drop-shadow(0px 1px 2px rgba(0, 0, 0, 0.3));\n",
              "      fill: #FFFFFF;\n",
              "    }\n",
              "  </style>\n",
              "\n",
              "      <script>\n",
              "        const buttonEl =\n",
              "          document.querySelector('#df-a33e77af-4391-4356-9870-d5f75278f890 button.colab-df-convert');\n",
              "        buttonEl.style.display =\n",
              "          google.colab.kernel.accessAllowed ? 'block' : 'none';\n",
              "\n",
              "        async function convertToInteractive(key) {\n",
              "          const element = document.querySelector('#df-a33e77af-4391-4356-9870-d5f75278f890');\n",
              "          const dataTable =\n",
              "            await google.colab.kernel.invokeFunction('convertToInteractive',\n",
              "                                                     [key], {});\n",
              "          if (!dataTable) return;\n",
              "\n",
              "          const docLinkHtml = 'Like what you see? Visit the ' +\n",
              "            '<a target=\"_blank\" href=https://colab.research.google.com/notebooks/data_table.ipynb>data table notebook</a>'\n",
              "            + ' to learn more about interactive tables.';\n",
              "          element.innerHTML = '';\n",
              "          dataTable['output_type'] = 'display_data';\n",
              "          await google.colab.output.renderOutput(dataTable, element);\n",
              "          const docLink = document.createElement('div');\n",
              "          docLink.innerHTML = docLinkHtml;\n",
              "          element.appendChild(docLink);\n",
              "        }\n",
              "      </script>\n",
              "    </div>\n",
              "  </div>\n",
              "  "
            ]
          },
          "metadata": {}
        }
      ]
    },
    {
      "cell_type": "markdown",
      "source": [
        "독립변수 및 종속변수 선택\n",
        "\n",
        "> 종속변수 : SGOT_AST와 SGOT_ALT 모두 40을 초과하면 Y, 아니면 N\n",
        "\n",
        "> 독립변수 : 간수치와 관련된 변수를 제외하여, 간수치를 제외하고 간질환 발생에 유의미한 변수를 알아보려고 함.\n",
        "종속변수에 사용된 SGOT_AST,SGOT_ALT 제외 + 여성과 남성이 달라 애매하여 쓰지 못했던 변수 GAMMA_GTP 또한 제외 + 더미변수화\n",
        "\n"
      ],
      "metadata": {
        "id": "JzXLLEpLENMx"
      }
    },
    {
      "cell_type": "code",
      "source": [
        "# 종속 (target)변수 : LIVER_DISEASE => 간질환 의심 변수 생성\n",
        "\n",
        "import numpy as np\n",
        "conditions = [(HD['SGOT_AST'] > 40) & (HD['SGPT_ALT'] > 40),\n",
        "              (HD['SGOT_AST'] <= 40) | (HD['SGPT_ALT'] <= 40)]\n",
        "\n",
        "vals = ['Y','N']\n",
        "\n",
        "HD['LIVER_DISEASE'] = np.select(conditions, vals)\n",
        "\n",
        "y = HD[['LIVER_DISEASE']]\n",
        "display(y)"
      ],
      "metadata": {
        "id": "piz0kgzDHF5c"
      },
      "execution_count": null,
      "outputs": []
    },
    {
      "cell_type": "code",
      "source": [
        "#독립변수\n",
        "X = HD.drop(['HCHK_YEAR','IDV_ID','SIDO','HEIGHT', 'WEIGHT',\n",
        "       'WAIST','SIGHT_LEFT', 'SIGHT_RIGHT', 'HEAR_LEFT', 'HEAR_RIGHT','구강검진수검여부',\n",
        "       'CRS_YN', 'TTR_YN', 'DATA_STD__DT','LIVER_DISEASE','SGOT_AST','SGPT_ALT', 'GAMMA_GTP'],axis =1)\n",
        "X = pd.get_dummies(X) #더미변수 처리"
      ],
      "metadata": {
        "id": "R6I5CeWoIL3S"
      },
      "execution_count": 13,
      "outputs": []
    },
    {
      "cell_type": "code",
      "source": [
        "HD.\tLIVER_DISEASE.value_counts() #간질환 의심환자는 212명"
      ],
      "metadata": {
        "colab": {
          "base_uri": "https://localhost:8080/"
        },
        "id": "7T_KYPNwMEeo",
        "outputId": "621ccbbc-66a2-48f0-f486-f709574fda7f"
      },
      "execution_count": 14,
      "outputs": [
        {
          "output_type": "execute_result",
          "data": {
            "text/plain": [
              "N    3025\n",
              "Y     212\n",
              "Name: LIVER_DISEASE, dtype: int64"
            ]
          },
          "metadata": {},
          "execution_count": 14
        }
      ]
    },
    {
      "cell_type": "markdown",
      "source": [
        "데이터셋 분할"
      ],
      "metadata": {
        "id": "Hhd2x7Q7vUnE"
      }
    },
    {
      "cell_type": "code",
      "source": [
        "# 데이터셋을 학습(train)과 테스트(test) 세트로 분할\n",
        "\n",
        "from sklearn.model_selection import train_test_split #훈련 : 시험 데이터 분리\n",
        "X_train, X_test, y_train, y_test = train_test_split(X, y, test_size = 0.2, random_state=42)\n",
        "#시험 데이터 20 : 훈련 80으로 분류"
      ],
      "metadata": {
        "id": "gK3Wcftj4Kug"
      },
      "execution_count": 15,
      "outputs": []
    },
    {
      "cell_type": "code",
      "source": [
        "# 훈련 데이터 비율\n",
        "y_train.value_counts(normalize=True)"
      ],
      "metadata": {
        "colab": {
          "base_uri": "https://localhost:8080/"
        },
        "id": "KIFRea3vHpP8",
        "outputId": "3776d5e3-e60e-4db6-ecd1-13065aeaae8b"
      },
      "execution_count": 16,
      "outputs": [
        {
          "output_type": "execute_result",
          "data": {
            "text/plain": [
              "LIVER_DISEASE\n",
              "N                0.933951\n",
              "Y                0.066049\n",
              "dtype: float64"
            ]
          },
          "metadata": {},
          "execution_count": 16
        }
      ]
    },
    {
      "cell_type": "code",
      "source": [
        "# 테스트 데이터 비율\n",
        "y_test.value_counts(normalize=True)"
      ],
      "metadata": {
        "colab": {
          "base_uri": "https://localhost:8080/"
        },
        "id": "_JM5OJBqHt1z",
        "outputId": "1890ca53-c0db-483d-dee6-0ffe9098cb08"
      },
      "execution_count": 17,
      "outputs": [
        {
          "output_type": "execute_result",
          "data": {
            "text/plain": [
              "LIVER_DISEASE\n",
              "N                0.936728\n",
              "Y                0.063272\n",
              "dtype: float64"
            ]
          },
          "metadata": {},
          "execution_count": 17
        }
      ]
    },
    {
      "cell_type": "markdown",
      "source": [
        "**모델 1. 의사결정나무**"
      ],
      "metadata": {
        "id": "wr0ixm5D3Kar"
      }
    },
    {
      "cell_type": "code",
      "source": [
        "tree = DTC(random_state=0)  \n",
        "tree.fit(X_train, y_train) #학습나무가 만들어짐\n",
        "print(\"학습용 데이터 정확도: {:.3f}\".format(tree.score(X_train, y_train)))\n",
        "print(\"시험용 데이터 정확도: {:.3f}\".format(tree.score(X_test, y_test)))"
      ],
      "metadata": {
        "colab": {
          "base_uri": "https://localhost:8080/"
        },
        "id": "pFLxprIaMmAU",
        "outputId": "aa8cd466-a7da-4ead-c4ac-76a21ced9bb9"
      },
      "execution_count": 18,
      "outputs": [
        {
          "output_type": "stream",
          "name": "stdout",
          "text": [
            "학습용 데이터 정확도: 1.000\n",
            "시험용 데이터 정확도: 0.869\n"
          ]
        }
      ]
    },
    {
      "cell_type": "code",
      "source": [
        "tree = DTC(max_depth=7, random_state=0) #깊이가 7\n",
        "tree.fit(X_train, y_train)\n",
        "\n",
        "print(\"학습용 데이터 정확도: {:.3f}\".format(tree.score(X_train, y_train)))\n",
        "print(\"시험용 데이터 정확도: {:.3f}\".format(tree.score(X_test, y_test)))"
      ],
      "metadata": {
        "colab": {
          "base_uri": "https://localhost:8080/"
        },
        "id": "I_2Qy7jTF95y",
        "outputId": "14abd4a7-510c-4d2a-bfdd-2057cbc1fc53"
      },
      "execution_count": 19,
      "outputs": [
        {
          "output_type": "stream",
          "name": "stdout",
          "text": [
            "학습용 데이터 정확도: 0.949\n",
            "시험용 데이터 정확도: 0.927\n"
          ]
        }
      ]
    },
    {
      "cell_type": "code",
      "source": [
        "#graphviz 라이브러리를 이용하여 의사결정나무 그리기 \n",
        "from sklearn.tree import export_graphviz\n",
        "import graphviz\n",
        "\n",
        "# filled = True: 색상의 진하기로 클래스를 나타냄, impurity: 불순도 계산값 보여주기 옵션\n",
        "export_graphviz(tree, out_file=\"tree.dot\", class_names=[ \"NO\", \"YES\"],\n",
        "                feature_names=X.columns[:], impurity=False, filled=True)\n",
        "\n",
        "with open(\"tree.dot\") as f:\n",
        "    dot_graph = f.read()\n",
        "\n",
        "display(graphviz.Source(dot_graph))"
      ],
      "metadata": {
        "colab": {
          "base_uri": "https://localhost:8080/",
          "height": 1000
        },
        "id": "cpjiXGw44NI9",
        "outputId": "14babe4d-7222-4b69-9903-d5e6f5e06f3a"
      },
      "execution_count": 20,
      "outputs": [
        {
          "output_type": "display_data",
          "data": {
            "text/plain": [
              "<graphviz.files.Source at 0x7fd0d82c1f50>"
            ],
            "image/svg+xml": "<?xml version=\"1.0\" encoding=\"UTF-8\" standalone=\"no\"?>\n<!DOCTYPE svg PUBLIC \"-//W3C//DTD SVG 1.1//EN\"\n \"http://www.w3.org/Graphics/SVG/1.1/DTD/svg11.dtd\">\n<!-- Generated by graphviz version 2.40.1 (20161225.0304)\n -->\n<!-- Title: Tree Pages: 1 -->\n<svg width=\"3278pt\" height=\"789pt\"\n viewBox=\"0.00 0.00 3278.00 789.00\" xmlns=\"http://www.w3.org/2000/svg\" xmlns:xlink=\"http://www.w3.org/1999/xlink\">\n<g id=\"graph0\" class=\"graph\" transform=\"scale(1 1) rotate(0) translate(4 785)\">\n<title>Tree</title>\n<polygon fill=\"#ffffff\" stroke=\"transparent\" points=\"-4,4 -4,-785 3274,-785 3274,4 -4,4\"/>\n<!-- 0 -->\n<g id=\"node1\" class=\"node\">\n<title>0</title>\n<polygon fill=\"#e78a47\" stroke=\"#000000\" points=\"2389.5,-781 2249.5,-781 2249.5,-713 2389.5,-713 2389.5,-781\"/>\n<text text-anchor=\"middle\" x=\"2319.5\" y=\"-765.8\" font-family=\"Helvetica,sans-Serif\" font-size=\"14.00\" fill=\"#000000\">BMI &lt;= 25.832</text>\n<text text-anchor=\"middle\" x=\"2319.5\" y=\"-750.8\" font-family=\"Helvetica,sans-Serif\" font-size=\"14.00\" fill=\"#000000\">samples = 2589</text>\n<text text-anchor=\"middle\" x=\"2319.5\" y=\"-735.8\" font-family=\"Helvetica,sans-Serif\" font-size=\"14.00\" fill=\"#000000\">value = [2418, 171]</text>\n<text text-anchor=\"middle\" x=\"2319.5\" y=\"-720.8\" font-family=\"Helvetica,sans-Serif\" font-size=\"14.00\" fill=\"#000000\">class = NO</text>\n</g>\n<!-- 1 -->\n<g id=\"node2\" class=\"node\">\n<title>1</title>\n<polygon fill=\"#e68640\" stroke=\"#000000\" points=\"2155.5,-677 1971.5,-677 1971.5,-609 2155.5,-609 2155.5,-677\"/>\n<text text-anchor=\"middle\" x=\"2063.5\" y=\"-661.8\" font-family=\"Helvetica,sans-Serif\" font-size=\"14.00\" fill=\"#000000\">TRIGLYCERIDE &lt;= 436.5</text>\n<text text-anchor=\"middle\" x=\"2063.5\" y=\"-646.8\" font-family=\"Helvetica,sans-Serif\" font-size=\"14.00\" fill=\"#000000\">samples = 1755</text>\n<text text-anchor=\"middle\" x=\"2063.5\" y=\"-631.8\" font-family=\"Helvetica,sans-Serif\" font-size=\"14.00\" fill=\"#000000\">value = [1692, 63]</text>\n<text text-anchor=\"middle\" x=\"2063.5\" y=\"-616.8\" font-family=\"Helvetica,sans-Serif\" font-size=\"14.00\" fill=\"#000000\">class = NO</text>\n</g>\n<!-- 0&#45;&gt;1 -->\n<g id=\"edge1\" class=\"edge\">\n<title>0&#45;&gt;1</title>\n<path fill=\"none\" stroke=\"#000000\" d=\"M2249.2083,-718.444C2220.6358,-706.8364 2187.2113,-693.2577 2156.6546,-680.844\"/>\n<polygon fill=\"#000000\" stroke=\"#000000\" points=\"2157.8541,-677.5536 2147.2721,-677.0324 2155.2194,-684.0389 2157.8541,-677.5536\"/>\n<text text-anchor=\"middle\" x=\"2156.9964\" y=\"-696.3636\" font-family=\"Helvetica,sans-Serif\" font-size=\"14.00\" fill=\"#000000\">True</text>\n</g>\n<!-- 38 -->\n<g id=\"node39\" class=\"node\">\n<title>38</title>\n<polygon fill=\"#e99456\" stroke=\"#000000\" points=\"2494.5,-677 2362.5,-677 2362.5,-609 2494.5,-609 2494.5,-677\"/>\n<text text-anchor=\"middle\" x=\"2428.5\" y=\"-661.8\" font-family=\"Helvetica,sans-Serif\" font-size=\"14.00\" fill=\"#000000\">BMI &lt;= 31.829</text>\n<text text-anchor=\"middle\" x=\"2428.5\" y=\"-646.8\" font-family=\"Helvetica,sans-Serif\" font-size=\"14.00\" fill=\"#000000\">samples = 834</text>\n<text text-anchor=\"middle\" x=\"2428.5\" y=\"-631.8\" font-family=\"Helvetica,sans-Serif\" font-size=\"14.00\" fill=\"#000000\">value = [726, 108]</text>\n<text text-anchor=\"middle\" x=\"2428.5\" y=\"-616.8\" font-family=\"Helvetica,sans-Serif\" font-size=\"14.00\" fill=\"#000000\">class = NO</text>\n</g>\n<!-- 0&#45;&gt;38 -->\n<g id=\"edge38\" class=\"edge\">\n<title>0&#45;&gt;38</title>\n<path fill=\"none\" stroke=\"#000000\" d=\"M2355.1907,-712.9465C2364.7891,-703.7884 2375.2747,-693.7838 2385.2366,-684.2788\"/>\n<polygon fill=\"#000000\" stroke=\"#000000\" points=\"2387.9102,-686.5655 2392.7291,-677.13 2383.0779,-681.5009 2387.9102,-686.5655\"/>\n<text text-anchor=\"middle\" x=\"2392.1424\" y=\"-698.4231\" font-family=\"Helvetica,sans-Serif\" font-size=\"14.00\" fill=\"#000000\">False</text>\n</g>\n<!-- 2 -->\n<g id=\"node3\" class=\"node\">\n<title>2</title>\n<polygon fill=\"#e68540\" stroke=\"#000000\" points=\"1770.5,-573 1638.5,-573 1638.5,-505 1770.5,-505 1770.5,-573\"/>\n<text text-anchor=\"middle\" x=\"1704.5\" y=\"-557.8\" font-family=\"Helvetica,sans-Serif\" font-size=\"14.00\" fill=\"#000000\">HMG &lt;= 17.7</text>\n<text text-anchor=\"middle\" x=\"1704.5\" y=\"-542.8\" font-family=\"Helvetica,sans-Serif\" font-size=\"14.00\" fill=\"#000000\">samples = 1748</text>\n<text text-anchor=\"middle\" x=\"1704.5\" y=\"-527.8\" font-family=\"Helvetica,sans-Serif\" font-size=\"14.00\" fill=\"#000000\">value = [1689, 59]</text>\n<text text-anchor=\"middle\" x=\"1704.5\" y=\"-512.8\" font-family=\"Helvetica,sans-Serif\" font-size=\"14.00\" fill=\"#000000\">class = NO</text>\n</g>\n<!-- 1&#45;&gt;2 -->\n<g id=\"edge2\" class=\"edge\">\n<title>1&#45;&gt;2</title>\n<path fill=\"none\" stroke=\"#000000\" d=\"M1971.0486,-616.2174C1911.8611,-599.0712 1836.0129,-577.0984 1780.3708,-560.9793\"/>\n<polygon fill=\"#000000\" stroke=\"#000000\" points=\"1781.1538,-557.5623 1770.5748,-558.1415 1779.206,-564.2858 1781.1538,-557.5623\"/>\n</g>\n<!-- 33 -->\n<g id=\"node34\" class=\"node\">\n<title>33</title>\n<polygon fill=\"#cee6f8\" stroke=\"#000000\" points=\"2132,-573 1995,-573 1995,-505 2132,-505 2132,-573\"/>\n<text text-anchor=\"middle\" x=\"2063.5\" y=\"-557.8\" font-family=\"Helvetica,sans-Serif\" font-size=\"14.00\" fill=\"#000000\">BP_LWST &lt;= 90.0</text>\n<text text-anchor=\"middle\" x=\"2063.5\" y=\"-542.8\" font-family=\"Helvetica,sans-Serif\" font-size=\"14.00\" fill=\"#000000\">samples = 7</text>\n<text text-anchor=\"middle\" x=\"2063.5\" y=\"-527.8\" font-family=\"Helvetica,sans-Serif\" font-size=\"14.00\" fill=\"#000000\">value = [3, 4]</text>\n<text text-anchor=\"middle\" x=\"2063.5\" y=\"-512.8\" font-family=\"Helvetica,sans-Serif\" font-size=\"14.00\" fill=\"#000000\">class = YES</text>\n</g>\n<!-- 1&#45;&gt;33 -->\n<g id=\"edge33\" class=\"edge\">\n<title>1&#45;&gt;33</title>\n<path fill=\"none\" stroke=\"#000000\" d=\"M2063.5,-608.9465C2063.5,-600.776 2063.5,-591.9318 2063.5,-583.3697\"/>\n<polygon fill=\"#000000\" stroke=\"#000000\" points=\"2067.0001,-583.13 2063.5,-573.13 2060.0001,-583.13 2067.0001,-583.13\"/>\n</g>\n<!-- 3 -->\n<g id=\"node4\" class=\"node\">\n<title>3</title>\n<polygon fill=\"#e68540\" stroke=\"#000000\" points=\"1160,-469 1023,-469 1023,-401 1160,-401 1160,-469\"/>\n<text text-anchor=\"middle\" x=\"1091.5\" y=\"-453.8\" font-family=\"Helvetica,sans-Serif\" font-size=\"14.00\" fill=\"#000000\">BP_LWST &lt;= 87.5</text>\n<text text-anchor=\"middle\" x=\"1091.5\" y=\"-438.8\" font-family=\"Helvetica,sans-Serif\" font-size=\"14.00\" fill=\"#000000\">samples = 1740</text>\n<text text-anchor=\"middle\" x=\"1091.5\" y=\"-423.8\" font-family=\"Helvetica,sans-Serif\" font-size=\"14.00\" fill=\"#000000\">value = [1684, 56]</text>\n<text text-anchor=\"middle\" x=\"1091.5\" y=\"-408.8\" font-family=\"Helvetica,sans-Serif\" font-size=\"14.00\" fill=\"#000000\">class = NO</text>\n</g>\n<!-- 2&#45;&gt;3 -->\n<g id=\"edge3\" class=\"edge\">\n<title>2&#45;&gt;3</title>\n<path fill=\"none\" stroke=\"#000000\" d=\"M1638.3158,-527.7714C1524.492,-508.4603 1292.1701,-469.0452 1170.23,-448.3571\"/>\n<polygon fill=\"#000000\" stroke=\"#000000\" points=\"1170.6572,-444.8797 1160.2126,-446.6576 1169.4863,-451.7811 1170.6572,-444.8797\"/>\n</g>\n<!-- 30 -->\n<g id=\"node31\" class=\"node\">\n<title>30</title>\n<polygon fill=\"#f5cdb0\" stroke=\"#000000\" points=\"1796.5,-469 1612.5,-469 1612.5,-401 1796.5,-401 1796.5,-469\"/>\n<text text-anchor=\"middle\" x=\"1704.5\" y=\"-453.8\" font-family=\"Helvetica,sans-Serif\" font-size=\"14.00\" fill=\"#000000\">TRIGLYCERIDE &lt;= 116.0</text>\n<text text-anchor=\"middle\" x=\"1704.5\" y=\"-438.8\" font-family=\"Helvetica,sans-Serif\" font-size=\"14.00\" fill=\"#000000\">samples = 8</text>\n<text text-anchor=\"middle\" x=\"1704.5\" y=\"-423.8\" font-family=\"Helvetica,sans-Serif\" font-size=\"14.00\" fill=\"#000000\">value = [5, 3]</text>\n<text text-anchor=\"middle\" x=\"1704.5\" y=\"-408.8\" font-family=\"Helvetica,sans-Serif\" font-size=\"14.00\" fill=\"#000000\">class = NO</text>\n</g>\n<!-- 2&#45;&gt;30 -->\n<g id=\"edge30\" class=\"edge\">\n<title>2&#45;&gt;30</title>\n<path fill=\"none\" stroke=\"#000000\" d=\"M1704.5,-504.9465C1704.5,-496.776 1704.5,-487.9318 1704.5,-479.3697\"/>\n<polygon fill=\"#000000\" stroke=\"#000000\" points=\"1708.0001,-479.13 1704.5,-469.13 1701.0001,-479.13 1708.0001,-479.13\"/>\n</g>\n<!-- 4 -->\n<g id=\"node5\" class=\"node\">\n<title>4</title>\n<polygon fill=\"#e6843e\" stroke=\"#000000\" points=\"708.5,-365 524.5,-365 524.5,-297 708.5,-297 708.5,-365\"/>\n<text text-anchor=\"middle\" x=\"616.5\" y=\"-349.8\" font-family=\"Helvetica,sans-Serif\" font-size=\"14.00\" fill=\"#000000\">TRIGLYCERIDE &lt;= 305.5</text>\n<text text-anchor=\"middle\" x=\"616.5\" y=\"-334.8\" font-family=\"Helvetica,sans-Serif\" font-size=\"14.00\" fill=\"#000000\">samples = 1561</text>\n<text text-anchor=\"middle\" x=\"616.5\" y=\"-319.8\" font-family=\"Helvetica,sans-Serif\" font-size=\"14.00\" fill=\"#000000\">value = [1520, 41]</text>\n<text text-anchor=\"middle\" x=\"616.5\" y=\"-304.8\" font-family=\"Helvetica,sans-Serif\" font-size=\"14.00\" fill=\"#000000\">class = NO</text>\n</g>\n<!-- 3&#45;&gt;4 -->\n<g id=\"edge4\" class=\"edge\">\n<title>3&#45;&gt;4</title>\n<path fill=\"none\" stroke=\"#000000\" d=\"M1022.9382,-419.9886C943.119,-402.5124 810.5165,-373.4794 718.5777,-353.3497\"/>\n<polygon fill=\"#000000\" stroke=\"#000000\" points=\"719.2115,-349.9056 708.6942,-351.1857 717.7142,-356.7436 719.2115,-349.9056\"/>\n</g>\n<!-- 17 -->\n<g id=\"node18\" class=\"node\">\n<title>17</title>\n<polygon fill=\"#e78d4b\" stroke=\"#000000\" points=\"1160,-365 1023,-365 1023,-297 1160,-297 1160,-365\"/>\n<text text-anchor=\"middle\" x=\"1091.5\" y=\"-349.8\" font-family=\"Helvetica,sans-Serif\" font-size=\"14.00\" fill=\"#000000\">BP_LWST &lt;= 88.5</text>\n<text text-anchor=\"middle\" x=\"1091.5\" y=\"-334.8\" font-family=\"Helvetica,sans-Serif\" font-size=\"14.00\" fill=\"#000000\">samples = 179</text>\n<text text-anchor=\"middle\" x=\"1091.5\" y=\"-319.8\" font-family=\"Helvetica,sans-Serif\" font-size=\"14.00\" fill=\"#000000\">value = [164, 15]</text>\n<text text-anchor=\"middle\" x=\"1091.5\" y=\"-304.8\" font-family=\"Helvetica,sans-Serif\" font-size=\"14.00\" fill=\"#000000\">class = NO</text>\n</g>\n<!-- 3&#45;&gt;17 -->\n<g id=\"edge17\" class=\"edge\">\n<title>3&#45;&gt;17</title>\n<path fill=\"none\" stroke=\"#000000\" d=\"M1091.5,-400.9465C1091.5,-392.776 1091.5,-383.9318 1091.5,-375.3697\"/>\n<polygon fill=\"#000000\" stroke=\"#000000\" points=\"1095.0001,-375.13 1091.5,-365.13 1088.0001,-375.13 1095.0001,-375.13\"/>\n</g>\n<!-- 5 -->\n<g id=\"node6\" class=\"node\">\n<title>5</title>\n<polygon fill=\"#e6843e\" stroke=\"#000000\" points=\"458.5,-261 326.5,-261 326.5,-193 458.5,-193 458.5,-261\"/>\n<text text-anchor=\"middle\" x=\"392.5\" y=\"-245.8\" font-family=\"Helvetica,sans-Serif\" font-size=\"14.00\" fill=\"#000000\">BMI &lt;= 25.182</text>\n<text text-anchor=\"middle\" x=\"392.5\" y=\"-230.8\" font-family=\"Helvetica,sans-Serif\" font-size=\"14.00\" fill=\"#000000\">samples = 1548</text>\n<text text-anchor=\"middle\" x=\"392.5\" y=\"-215.8\" font-family=\"Helvetica,sans-Serif\" font-size=\"14.00\" fill=\"#000000\">value = [1510, 38]</text>\n<text text-anchor=\"middle\" x=\"392.5\" y=\"-200.8\" font-family=\"Helvetica,sans-Serif\" font-size=\"14.00\" fill=\"#000000\">class = NO</text>\n</g>\n<!-- 4&#45;&gt;5 -->\n<g id=\"edge5\" class=\"edge\">\n<title>4&#45;&gt;5</title>\n<path fill=\"none\" stroke=\"#000000\" d=\"M543.154,-296.9465C519.0553,-285.7578 492.2352,-273.3056 467.9809,-262.0447\"/>\n<polygon fill=\"#000000\" stroke=\"#000000\" points=\"469.3658,-258.8289 458.8218,-257.7923 466.418,-265.178 469.3658,-258.8289\"/>\n</g>\n<!-- 12 -->\n<g id=\"node13\" class=\"node\">\n<title>12</title>\n<polygon fill=\"#eda774\" stroke=\"#000000\" points=\"687,-261 546,-261 546,-193 687,-193 687,-261\"/>\n<text text-anchor=\"middle\" x=\"616.5\" y=\"-245.8\" font-family=\"Helvetica,sans-Serif\" font-size=\"14.00\" fill=\"#000000\">BP_HIGH &lt;= 113.5</text>\n<text text-anchor=\"middle\" x=\"616.5\" y=\"-230.8\" font-family=\"Helvetica,sans-Serif\" font-size=\"14.00\" fill=\"#000000\">samples = 13</text>\n<text text-anchor=\"middle\" x=\"616.5\" y=\"-215.8\" font-family=\"Helvetica,sans-Serif\" font-size=\"14.00\" fill=\"#000000\">value = [10, 3]</text>\n<text text-anchor=\"middle\" x=\"616.5\" y=\"-200.8\" font-family=\"Helvetica,sans-Serif\" font-size=\"14.00\" fill=\"#000000\">class = NO</text>\n</g>\n<!-- 4&#45;&gt;12 -->\n<g id=\"edge12\" class=\"edge\">\n<title>4&#45;&gt;12</title>\n<path fill=\"none\" stroke=\"#000000\" d=\"M616.5,-296.9465C616.5,-288.776 616.5,-279.9318 616.5,-271.3697\"/>\n<polygon fill=\"#000000\" stroke=\"#000000\" points=\"620.0001,-271.13 616.5,-261.13 613.0001,-271.13 620.0001,-271.13\"/>\n</g>\n<!-- 6 -->\n<g id=\"node7\" class=\"node\">\n<title>6</title>\n<polygon fill=\"#e6843d\" stroke=\"#000000\" points=\"258,-157 125,-157 125,-89 258,-89 258,-157\"/>\n<text text-anchor=\"middle\" x=\"191.5\" y=\"-141.8\" font-family=\"Helvetica,sans-Serif\" font-size=\"14.00\" fill=\"#000000\">BP_HIGH &lt;= 91.0</text>\n<text text-anchor=\"middle\" x=\"191.5\" y=\"-126.8\" font-family=\"Helvetica,sans-Serif\" font-size=\"14.00\" fill=\"#000000\">samples = 1383</text>\n<text text-anchor=\"middle\" x=\"191.5\" y=\"-111.8\" font-family=\"Helvetica,sans-Serif\" font-size=\"14.00\" fill=\"#000000\">value = [1356, 27]</text>\n<text text-anchor=\"middle\" x=\"191.5\" y=\"-96.8\" font-family=\"Helvetica,sans-Serif\" font-size=\"14.00\" fill=\"#000000\">class = NO</text>\n</g>\n<!-- 5&#45;&gt;6 -->\n<g id=\"edge6\" class=\"edge\">\n<title>5&#45;&gt;6</title>\n<path fill=\"none\" stroke=\"#000000\" d=\"M326.6851,-192.9465C307.4235,-182.9803 286.2245,-172.0117 266.4409,-161.7754\"/>\n<polygon fill=\"#000000\" stroke=\"#000000\" points=\"267.9528,-158.6169 257.4628,-157.13 264.7359,-164.834 267.9528,-158.6169\"/>\n</g>\n<!-- 9 -->\n<g id=\"node10\" class=\"node\">\n<title>9</title>\n<polygon fill=\"#e78a47\" stroke=\"#000000\" points=\"463,-157 322,-157 322,-89 463,-89 463,-157\"/>\n<text text-anchor=\"middle\" x=\"392.5\" y=\"-141.8\" font-family=\"Helvetica,sans-Serif\" font-size=\"14.00\" fill=\"#000000\">BP_HIGH &lt;= 105.5</text>\n<text text-anchor=\"middle\" x=\"392.5\" y=\"-126.8\" font-family=\"Helvetica,sans-Serif\" font-size=\"14.00\" fill=\"#000000\">samples = 165</text>\n<text text-anchor=\"middle\" x=\"392.5\" y=\"-111.8\" font-family=\"Helvetica,sans-Serif\" font-size=\"14.00\" fill=\"#000000\">value = [154, 11]</text>\n<text text-anchor=\"middle\" x=\"392.5\" y=\"-96.8\" font-family=\"Helvetica,sans-Serif\" font-size=\"14.00\" fill=\"#000000\">class = NO</text>\n</g>\n<!-- 5&#45;&gt;9 -->\n<g id=\"edge9\" class=\"edge\">\n<title>5&#45;&gt;9</title>\n<path fill=\"none\" stroke=\"#000000\" d=\"M392.5,-192.9465C392.5,-184.776 392.5,-175.9318 392.5,-167.3697\"/>\n<polygon fill=\"#000000\" stroke=\"#000000\" points=\"396.0001,-167.13 392.5,-157.13 389.0001,-167.13 396.0001,-167.13\"/>\n</g>\n<!-- 7 -->\n<g id=\"node8\" class=\"node\">\n<title>7</title>\n<polygon fill=\"#e9965a\" stroke=\"#000000\" points=\"107,-53 0,-53 0,0 107,0 107,-53\"/>\n<text text-anchor=\"middle\" x=\"53.5\" y=\"-37.8\" font-family=\"Helvetica,sans-Serif\" font-size=\"14.00\" fill=\"#000000\">samples = 14</text>\n<text text-anchor=\"middle\" x=\"53.5\" y=\"-22.8\" font-family=\"Helvetica,sans-Serif\" font-size=\"14.00\" fill=\"#000000\">value = [12, 2]</text>\n<text text-anchor=\"middle\" x=\"53.5\" y=\"-7.8\" font-family=\"Helvetica,sans-Serif\" font-size=\"14.00\" fill=\"#000000\">class = NO</text>\n</g>\n<!-- 6&#45;&gt;7 -->\n<g id=\"edge7\" class=\"edge\">\n<title>6&#45;&gt;7</title>\n<path fill=\"none\" stroke=\"#000000\" d=\"M142.8464,-88.9777C128.9657,-79.2713 113.8786,-68.7213 100.1223,-59.1018\"/>\n<polygon fill=\"#000000\" stroke=\"#000000\" points=\"101.9526,-56.1109 91.7517,-53.2485 97.9411,-61.8475 101.9526,-56.1109\"/>\n</g>\n<!-- 8 -->\n<g id=\"node9\" class=\"node\">\n<title>8</title>\n<polygon fill=\"#e5833d\" stroke=\"#000000\" points=\"257.5,-53 125.5,-53 125.5,0 257.5,0 257.5,-53\"/>\n<text text-anchor=\"middle\" x=\"191.5\" y=\"-37.8\" font-family=\"Helvetica,sans-Serif\" font-size=\"14.00\" fill=\"#000000\">samples = 1369</text>\n<text text-anchor=\"middle\" x=\"191.5\" y=\"-22.8\" font-family=\"Helvetica,sans-Serif\" font-size=\"14.00\" fill=\"#000000\">value = [1344, 25]</text>\n<text text-anchor=\"middle\" x=\"191.5\" y=\"-7.8\" font-family=\"Helvetica,sans-Serif\" font-size=\"14.00\" fill=\"#000000\">class = NO</text>\n</g>\n<!-- 6&#45;&gt;8 -->\n<g id=\"edge8\" class=\"edge\">\n<title>6&#45;&gt;8</title>\n<path fill=\"none\" stroke=\"#000000\" d=\"M191.5,-88.9777C191.5,-80.7364 191.5,-71.887 191.5,-63.5153\"/>\n<polygon fill=\"#000000\" stroke=\"#000000\" points=\"195.0001,-63.2484 191.5,-53.2485 188.0001,-63.2485 195.0001,-63.2484\"/>\n</g>\n<!-- 10 -->\n<g id=\"node11\" class=\"node\">\n<title>10</title>\n<polygon fill=\"#ffffff\" stroke=\"#000000\" points=\"375,-53 276,-53 276,0 375,0 375,-53\"/>\n<text text-anchor=\"middle\" x=\"325.5\" y=\"-37.8\" font-family=\"Helvetica,sans-Serif\" font-size=\"14.00\" fill=\"#000000\">samples = 6</text>\n<text text-anchor=\"middle\" x=\"325.5\" y=\"-22.8\" font-family=\"Helvetica,sans-Serif\" font-size=\"14.00\" fill=\"#000000\">value = [3, 3]</text>\n<text text-anchor=\"middle\" x=\"325.5\" y=\"-7.8\" font-family=\"Helvetica,sans-Serif\" font-size=\"14.00\" fill=\"#000000\">class = NO</text>\n</g>\n<!-- 9&#45;&gt;10 -->\n<g id=\"edge10\" class=\"edge\">\n<title>9&#45;&gt;10</title>\n<path fill=\"none\" stroke=\"#000000\" d=\"M368.8783,-88.9777C362.7113,-80.0954 356.0539,-70.5067 349.8499,-61.5711\"/>\n<polygon fill=\"#000000\" stroke=\"#000000\" points=\"352.6497,-59.4666 344.0715,-53.2485 346.8997,-63.4589 352.6497,-59.4666\"/>\n</g>\n<!-- 11 -->\n<g id=\"node12\" class=\"node\">\n<title>11</title>\n<polygon fill=\"#e68843\" stroke=\"#000000\" points=\"509.5,-53 393.5,-53 393.5,0 509.5,0 509.5,-53\"/>\n<text text-anchor=\"middle\" x=\"451.5\" y=\"-37.8\" font-family=\"Helvetica,sans-Serif\" font-size=\"14.00\" fill=\"#000000\">samples = 159</text>\n<text text-anchor=\"middle\" x=\"451.5\" y=\"-22.8\" font-family=\"Helvetica,sans-Serif\" font-size=\"14.00\" fill=\"#000000\">value = [151, 8]</text>\n<text text-anchor=\"middle\" x=\"451.5\" y=\"-7.8\" font-family=\"Helvetica,sans-Serif\" font-size=\"14.00\" fill=\"#000000\">class = NO</text>\n</g>\n<!-- 9&#45;&gt;11 -->\n<g id=\"edge11\" class=\"edge\">\n<title>9&#45;&gt;11</title>\n<path fill=\"none\" stroke=\"#000000\" d=\"M413.3012,-88.9777C418.6758,-80.187 424.4735,-70.7044 429.8885,-61.8477\"/>\n<polygon fill=\"#000000\" stroke=\"#000000\" points=\"432.9158,-63.6059 435.146,-53.2485 426.9436,-59.9545 432.9158,-63.6059\"/>\n</g>\n<!-- 13 -->\n<g id=\"node14\" class=\"node\">\n<title>13</title>\n<polygon fill=\"#399de5\" stroke=\"#000000\" points=\"603,-149.5 504,-149.5 504,-96.5 603,-96.5 603,-149.5\"/>\n<text text-anchor=\"middle\" x=\"553.5\" y=\"-134.3\" font-family=\"Helvetica,sans-Serif\" font-size=\"14.00\" fill=\"#000000\">samples = 2</text>\n<text text-anchor=\"middle\" x=\"553.5\" y=\"-119.3\" font-family=\"Helvetica,sans-Serif\" font-size=\"14.00\" fill=\"#000000\">value = [0, 2]</text>\n<text text-anchor=\"middle\" x=\"553.5\" y=\"-104.3\" font-family=\"Helvetica,sans-Serif\" font-size=\"14.00\" fill=\"#000000\">class = YES</text>\n</g>\n<!-- 12&#45;&gt;13 -->\n<g id=\"edge13\" class=\"edge\">\n<title>12&#45;&gt;13</title>\n<path fill=\"none\" stroke=\"#000000\" d=\"M595.8714,-192.9465C589.1322,-181.8215 581.6363,-169.4473 574.8455,-158.237\"/>\n<polygon fill=\"#000000\" stroke=\"#000000\" points=\"577.7533,-156.2818 569.5784,-149.5422 571.7661,-159.9087 577.7533,-156.2818\"/>\n</g>\n<!-- 14 -->\n<g id=\"node15\" class=\"node\">\n<title>14</title>\n<polygon fill=\"#e88e4d\" stroke=\"#000000\" points=\"737.5,-157 621.5,-157 621.5,-89 737.5,-89 737.5,-157\"/>\n<text text-anchor=\"middle\" x=\"679.5\" y=\"-141.8\" font-family=\"Helvetica,sans-Serif\" font-size=\"14.00\" fill=\"#000000\">BLDS &lt;= 228.5</text>\n<text text-anchor=\"middle\" x=\"679.5\" y=\"-126.8\" font-family=\"Helvetica,sans-Serif\" font-size=\"14.00\" fill=\"#000000\">samples = 11</text>\n<text text-anchor=\"middle\" x=\"679.5\" y=\"-111.8\" font-family=\"Helvetica,sans-Serif\" font-size=\"14.00\" fill=\"#000000\">value = [10, 1]</text>\n<text text-anchor=\"middle\" x=\"679.5\" y=\"-96.8\" font-family=\"Helvetica,sans-Serif\" font-size=\"14.00\" fill=\"#000000\">class = NO</text>\n</g>\n<!-- 12&#45;&gt;14 -->\n<g id=\"edge14\" class=\"edge\">\n<title>12&#45;&gt;14</title>\n<path fill=\"none\" stroke=\"#000000\" d=\"M637.1286,-192.9465C642.3499,-184.3271 648.0255,-174.9579 653.4755,-165.9611\"/>\n<polygon fill=\"#000000\" stroke=\"#000000\" points=\"656.6374,-167.4965 658.8251,-157.13 650.6503,-163.8697 656.6374,-167.4965\"/>\n</g>\n<!-- 15 -->\n<g id=\"node16\" class=\"node\">\n<title>15</title>\n<polygon fill=\"#e58139\" stroke=\"#000000\" points=\"635,-53 528,-53 528,0 635,0 635,-53\"/>\n<text text-anchor=\"middle\" x=\"581.5\" y=\"-37.8\" font-family=\"Helvetica,sans-Serif\" font-size=\"14.00\" fill=\"#000000\">samples = 10</text>\n<text text-anchor=\"middle\" x=\"581.5\" y=\"-22.8\" font-family=\"Helvetica,sans-Serif\" font-size=\"14.00\" fill=\"#000000\">value = [10, 0]</text>\n<text text-anchor=\"middle\" x=\"581.5\" y=\"-7.8\" font-family=\"Helvetica,sans-Serif\" font-size=\"14.00\" fill=\"#000000\">class = NO</text>\n</g>\n<!-- 14&#45;&gt;15 -->\n<g id=\"edge15\" class=\"edge\">\n<title>14&#45;&gt;15</title>\n<path fill=\"none\" stroke=\"#000000\" d=\"M644.9489,-88.9777C635.5566,-79.7292 625.3864,-69.7147 615.9971,-60.4691\"/>\n<polygon fill=\"#000000\" stroke=\"#000000\" points=\"618.2454,-57.7709 608.6643,-53.2485 613.3339,-62.7587 618.2454,-57.7709\"/>\n</g>\n<!-- 16 -->\n<g id=\"node17\" class=\"node\">\n<title>16</title>\n<polygon fill=\"#399de5\" stroke=\"#000000\" points=\"752,-53 653,-53 653,0 752,0 752,-53\"/>\n<text text-anchor=\"middle\" x=\"702.5\" y=\"-37.8\" font-family=\"Helvetica,sans-Serif\" font-size=\"14.00\" fill=\"#000000\">samples = 1</text>\n<text text-anchor=\"middle\" x=\"702.5\" y=\"-22.8\" font-family=\"Helvetica,sans-Serif\" font-size=\"14.00\" fill=\"#000000\">value = [0, 1]</text>\n<text text-anchor=\"middle\" x=\"702.5\" y=\"-7.8\" font-family=\"Helvetica,sans-Serif\" font-size=\"14.00\" fill=\"#000000\">class = YES</text>\n</g>\n<!-- 14&#45;&gt;16 -->\n<g id=\"edge16\" class=\"edge\">\n<title>14&#45;&gt;16</title>\n<path fill=\"none\" stroke=\"#000000\" d=\"M687.6089,-88.9777C689.595,-80.6449 691.7293,-71.6903 693.7442,-63.2364\"/>\n<polygon fill=\"#000000\" stroke=\"#000000\" points=\"697.2108,-63.7875 696.1247,-53.2485 690.4015,-62.1645 697.2108,-63.7875\"/>\n</g>\n<!-- 18 -->\n<g id=\"node19\" class=\"node\">\n<title>18</title>\n<polygon fill=\"#ea9a60\" stroke=\"#000000\" points=\"1072,-261 961,-261 961,-193 1072,-193 1072,-261\"/>\n<text text-anchor=\"middle\" x=\"1016.5\" y=\"-245.8\" font-family=\"Helvetica,sans-Serif\" font-size=\"14.00\" fill=\"#000000\">HMG &lt;= 15.55</text>\n<text text-anchor=\"middle\" x=\"1016.5\" y=\"-230.8\" font-family=\"Helvetica,sans-Serif\" font-size=\"14.00\" fill=\"#000000\">samples = 49</text>\n<text text-anchor=\"middle\" x=\"1016.5\" y=\"-215.8\" font-family=\"Helvetica,sans-Serif\" font-size=\"14.00\" fill=\"#000000\">value = [41, 8]</text>\n<text text-anchor=\"middle\" x=\"1016.5\" y=\"-200.8\" font-family=\"Helvetica,sans-Serif\" font-size=\"14.00\" fill=\"#000000\">class = NO</text>\n</g>\n<!-- 17&#45;&gt;18 -->\n<g id=\"edge18\" class=\"edge\">\n<title>17&#45;&gt;18</title>\n<path fill=\"none\" stroke=\"#000000\" d=\"M1066.9422,-296.9465C1060.5968,-288.1475 1053.6879,-278.5672 1047.0764,-269.3993\"/>\n<polygon fill=\"#000000\" stroke=\"#000000\" points=\"1049.8011,-267.1937 1041.113,-261.13 1044.1234,-271.2882 1049.8011,-267.1937\"/>\n</g>\n<!-- 23 -->\n<g id=\"node24\" class=\"node\">\n<title>23</title>\n<polygon fill=\"#e68844\" stroke=\"#000000\" points=\"1237,-261 1096,-261 1096,-193 1237,-193 1237,-261\"/>\n<text text-anchor=\"middle\" x=\"1166.5\" y=\"-245.8\" font-family=\"Helvetica,sans-Serif\" font-size=\"14.00\" fill=\"#000000\">BP_HIGH &lt;= 132.5</text>\n<text text-anchor=\"middle\" x=\"1166.5\" y=\"-230.8\" font-family=\"Helvetica,sans-Serif\" font-size=\"14.00\" fill=\"#000000\">samples = 130</text>\n<text text-anchor=\"middle\" x=\"1166.5\" y=\"-215.8\" font-family=\"Helvetica,sans-Serif\" font-size=\"14.00\" fill=\"#000000\">value = [123, 7]</text>\n<text text-anchor=\"middle\" x=\"1166.5\" y=\"-200.8\" font-family=\"Helvetica,sans-Serif\" font-size=\"14.00\" fill=\"#000000\">class = NO</text>\n</g>\n<!-- 17&#45;&gt;23 -->\n<g id=\"edge23\" class=\"edge\">\n<title>17&#45;&gt;23</title>\n<path fill=\"none\" stroke=\"#000000\" d=\"M1116.0578,-296.9465C1122.4032,-288.1475 1129.3121,-278.5672 1135.9236,-269.3993\"/>\n<polygon fill=\"#000000\" stroke=\"#000000\" points=\"1138.8766,-271.2882 1141.887,-261.13 1133.1989,-267.1937 1138.8766,-271.2882\"/>\n</g>\n<!-- 19 -->\n<g id=\"node20\" class=\"node\">\n<title>19</title>\n<polygon fill=\"#eda674\" stroke=\"#000000\" points=\"945,-157 834,-157 834,-89 945,-89 945,-157\"/>\n<text text-anchor=\"middle\" x=\"889.5\" y=\"-141.8\" font-family=\"Helvetica,sans-Serif\" font-size=\"14.00\" fill=\"#000000\">BMI &lt;= 24.591</text>\n<text text-anchor=\"middle\" x=\"889.5\" y=\"-126.8\" font-family=\"Helvetica,sans-Serif\" font-size=\"14.00\" fill=\"#000000\">samples = 35</text>\n<text text-anchor=\"middle\" x=\"889.5\" y=\"-111.8\" font-family=\"Helvetica,sans-Serif\" font-size=\"14.00\" fill=\"#000000\">value = [27, 8]</text>\n<text text-anchor=\"middle\" x=\"889.5\" y=\"-96.8\" font-family=\"Helvetica,sans-Serif\" font-size=\"14.00\" fill=\"#000000\">class = NO</text>\n</g>\n<!-- 18&#45;&gt;19 -->\n<g id=\"edge19\" class=\"edge\">\n<title>18&#45;&gt;19</title>\n<path fill=\"none\" stroke=\"#000000\" d=\"M974.9155,-192.9465C963.5127,-183.6088 951.0353,-173.3911 939.2257,-163.7203\"/>\n<polygon fill=\"#000000\" stroke=\"#000000\" points=\"941.1324,-160.7578 931.178,-157.13 936.6974,-166.1736 941.1324,-160.7578\"/>\n</g>\n<!-- 22 -->\n<g id=\"node23\" class=\"node\">\n<title>22</title>\n<polygon fill=\"#e58139\" stroke=\"#000000\" points=\"1070,-149.5 963,-149.5 963,-96.5 1070,-96.5 1070,-149.5\"/>\n<text text-anchor=\"middle\" x=\"1016.5\" y=\"-134.3\" font-family=\"Helvetica,sans-Serif\" font-size=\"14.00\" fill=\"#000000\">samples = 14</text>\n<text text-anchor=\"middle\" x=\"1016.5\" y=\"-119.3\" font-family=\"Helvetica,sans-Serif\" font-size=\"14.00\" fill=\"#000000\">value = [14, 0]</text>\n<text text-anchor=\"middle\" x=\"1016.5\" y=\"-104.3\" font-family=\"Helvetica,sans-Serif\" font-size=\"14.00\" fill=\"#000000\">class = NO</text>\n</g>\n<!-- 18&#45;&gt;22 -->\n<g id=\"edge22\" class=\"edge\">\n<title>18&#45;&gt;22</title>\n<path fill=\"none\" stroke=\"#000000\" d=\"M1016.5,-192.9465C1016.5,-182.2621 1016.5,-170.4254 1016.5,-159.5742\"/>\n<polygon fill=\"#000000\" stroke=\"#000000\" points=\"1020.0001,-159.5421 1016.5,-149.5422 1013.0001,-159.5422 1020.0001,-159.5421\"/>\n</g>\n<!-- 20 -->\n<g id=\"node21\" class=\"node\">\n<title>20</title>\n<polygon fill=\"#ea9b62\" stroke=\"#000000\" points=\"877,-53 770,-53 770,0 877,0 877,-53\"/>\n<text text-anchor=\"middle\" x=\"823.5\" y=\"-37.8\" font-family=\"Helvetica,sans-Serif\" font-size=\"14.00\" fill=\"#000000\">samples = 29</text>\n<text text-anchor=\"middle\" x=\"823.5\" y=\"-22.8\" font-family=\"Helvetica,sans-Serif\" font-size=\"14.00\" fill=\"#000000\">value = [24, 5]</text>\n<text text-anchor=\"middle\" x=\"823.5\" y=\"-7.8\" font-family=\"Helvetica,sans-Serif\" font-size=\"14.00\" fill=\"#000000\">class = NO</text>\n</g>\n<!-- 19&#45;&gt;20 -->\n<g id=\"edge20\" class=\"edge\">\n<title>19&#45;&gt;20</title>\n<path fill=\"none\" stroke=\"#000000\" d=\"M866.2309,-88.9777C860.156,-80.0954 853.5979,-70.5067 847.4865,-61.5711\"/>\n<polygon fill=\"#000000\" stroke=\"#000000\" points=\"850.3286,-59.5267 841.7943,-53.2485 844.5507,-63.4785 850.3286,-59.5267\"/>\n</g>\n<!-- 21 -->\n<g id=\"node22\" class=\"node\">\n<title>21</title>\n<polygon fill=\"#ffffff\" stroke=\"#000000\" points=\"994,-53 895,-53 895,0 994,0 994,-53\"/>\n<text text-anchor=\"middle\" x=\"944.5\" y=\"-37.8\" font-family=\"Helvetica,sans-Serif\" font-size=\"14.00\" fill=\"#000000\">samples = 6</text>\n<text text-anchor=\"middle\" x=\"944.5\" y=\"-22.8\" font-family=\"Helvetica,sans-Serif\" font-size=\"14.00\" fill=\"#000000\">value = [3, 3]</text>\n<text text-anchor=\"middle\" x=\"944.5\" y=\"-7.8\" font-family=\"Helvetica,sans-Serif\" font-size=\"14.00\" fill=\"#000000\">class = NO</text>\n</g>\n<!-- 19&#45;&gt;21 -->\n<g id=\"edge21\" class=\"edge\">\n<title>19&#45;&gt;21</title>\n<path fill=\"none\" stroke=\"#000000\" d=\"M908.8909,-88.9777C913.849,-80.2786 919.1933,-70.9018 924.1958,-62.1247\"/>\n<polygon fill=\"#000000\" stroke=\"#000000\" points=\"927.3438,-63.6696 929.2548,-53.2485 921.2622,-60.2033 927.3438,-63.6696\"/>\n</g>\n<!-- 24 -->\n<g id=\"node25\" class=\"node\">\n<title>24</title>\n<polygon fill=\"#ea975b\" stroke=\"#000000\" points=\"1244.5,-157 1088.5,-157 1088.5,-89 1244.5,-89 1244.5,-157\"/>\n<text text-anchor=\"middle\" x=\"1166.5\" y=\"-141.8\" font-family=\"Helvetica,sans-Serif\" font-size=\"14.00\" fill=\"#000000\">CREATININE &lt;= 0.55</text>\n<text text-anchor=\"middle\" x=\"1166.5\" y=\"-126.8\" font-family=\"Helvetica,sans-Serif\" font-size=\"14.00\" fill=\"#000000\">samples = 27</text>\n<text text-anchor=\"middle\" x=\"1166.5\" y=\"-111.8\" font-family=\"Helvetica,sans-Serif\" font-size=\"14.00\" fill=\"#000000\">value = [23, 4]</text>\n<text text-anchor=\"middle\" x=\"1166.5\" y=\"-96.8\" font-family=\"Helvetica,sans-Serif\" font-size=\"14.00\" fill=\"#000000\">class = NO</text>\n</g>\n<!-- 23&#45;&gt;24 -->\n<g id=\"edge24\" class=\"edge\">\n<title>23&#45;&gt;24</title>\n<path fill=\"none\" stroke=\"#000000\" d=\"M1166.5,-192.9465C1166.5,-184.776 1166.5,-175.9318 1166.5,-167.3697\"/>\n<polygon fill=\"#000000\" stroke=\"#000000\" points=\"1170.0001,-167.13 1166.5,-157.13 1163.0001,-167.13 1170.0001,-167.13\"/>\n</g>\n<!-- 27 -->\n<g id=\"node28\" class=\"node\">\n<title>27</title>\n<polygon fill=\"#e6853f\" stroke=\"#000000\" points=\"1378.5,-157 1262.5,-157 1262.5,-89 1378.5,-89 1378.5,-157\"/>\n<text text-anchor=\"middle\" x=\"1320.5\" y=\"-141.8\" font-family=\"Helvetica,sans-Serif\" font-size=\"14.00\" fill=\"#000000\">BLDS &lt;= 78.0</text>\n<text text-anchor=\"middle\" x=\"1320.5\" y=\"-126.8\" font-family=\"Helvetica,sans-Serif\" font-size=\"14.00\" fill=\"#000000\">samples = 103</text>\n<text text-anchor=\"middle\" x=\"1320.5\" y=\"-111.8\" font-family=\"Helvetica,sans-Serif\" font-size=\"14.00\" fill=\"#000000\">value = [100, 3]</text>\n<text text-anchor=\"middle\" x=\"1320.5\" y=\"-96.8\" font-family=\"Helvetica,sans-Serif\" font-size=\"14.00\" fill=\"#000000\">class = NO</text>\n</g>\n<!-- 23&#45;&gt;27 -->\n<g id=\"edge27\" class=\"edge\">\n<title>23&#45;&gt;27</title>\n<path fill=\"none\" stroke=\"#000000\" d=\"M1216.9254,-192.9465C1231.1512,-183.3395 1246.7563,-172.8009 1261.4398,-162.8848\"/>\n<polygon fill=\"#000000\" stroke=\"#000000\" points=\"1263.6329,-165.6272 1269.9614,-157.13 1259.7153,-159.8261 1263.6329,-165.6272\"/>\n</g>\n<!-- 25 -->\n<g id=\"node26\" class=\"node\">\n<title>25</title>\n<polygon fill=\"#399de5\" stroke=\"#000000\" points=\"1111,-53 1012,-53 1012,0 1111,0 1111,-53\"/>\n<text text-anchor=\"middle\" x=\"1061.5\" y=\"-37.8\" font-family=\"Helvetica,sans-Serif\" font-size=\"14.00\" fill=\"#000000\">samples = 1</text>\n<text text-anchor=\"middle\" x=\"1061.5\" y=\"-22.8\" font-family=\"Helvetica,sans-Serif\" font-size=\"14.00\" fill=\"#000000\">value = [0, 1]</text>\n<text text-anchor=\"middle\" x=\"1061.5\" y=\"-7.8\" font-family=\"Helvetica,sans-Serif\" font-size=\"14.00\" fill=\"#000000\">class = YES</text>\n</g>\n<!-- 24&#45;&gt;25 -->\n<g id=\"edge25\" class=\"edge\">\n<title>24&#45;&gt;25</title>\n<path fill=\"none\" stroke=\"#000000\" d=\"M1129.4809,-88.9777C1119.3181,-79.6376 1108.3053,-69.5163 1098.1626,-60.1947\"/>\n<polygon fill=\"#000000\" stroke=\"#000000\" points=\"1100.3358,-57.4383 1090.6046,-53.2485 1095.599,-62.5923 1100.3358,-57.4383\"/>\n</g>\n<!-- 26 -->\n<g id=\"node27\" class=\"node\">\n<title>26</title>\n<polygon fill=\"#e89153\" stroke=\"#000000\" points=\"1236,-53 1129,-53 1129,0 1236,0 1236,-53\"/>\n<text text-anchor=\"middle\" x=\"1182.5\" y=\"-37.8\" font-family=\"Helvetica,sans-Serif\" font-size=\"14.00\" fill=\"#000000\">samples = 26</text>\n<text text-anchor=\"middle\" x=\"1182.5\" y=\"-22.8\" font-family=\"Helvetica,sans-Serif\" font-size=\"14.00\" fill=\"#000000\">value = [23, 3]</text>\n<text text-anchor=\"middle\" x=\"1182.5\" y=\"-7.8\" font-family=\"Helvetica,sans-Serif\" font-size=\"14.00\" fill=\"#000000\">class = NO</text>\n</g>\n<!-- 24&#45;&gt;26 -->\n<g id=\"edge26\" class=\"edge\">\n<title>24&#45;&gt;26</title>\n<path fill=\"none\" stroke=\"#000000\" d=\"M1172.141,-88.9777C1173.5226,-80.6449 1175.0073,-71.6903 1176.409,-63.2364\"/>\n<polygon fill=\"#000000\" stroke=\"#000000\" points=\"1179.8821,-63.6863 1178.065,-53.2485 1172.9764,-62.5413 1179.8821,-63.6863\"/>\n</g>\n<!-- 28 -->\n<g id=\"node29\" class=\"node\">\n<title>28</title>\n<polygon fill=\"#f2c09c\" stroke=\"#000000\" points=\"1353,-53 1254,-53 1254,0 1353,0 1353,-53\"/>\n<text text-anchor=\"middle\" x=\"1303.5\" y=\"-37.8\" font-family=\"Helvetica,sans-Serif\" font-size=\"14.00\" fill=\"#000000\">samples = 3</text>\n<text text-anchor=\"middle\" x=\"1303.5\" y=\"-22.8\" font-family=\"Helvetica,sans-Serif\" font-size=\"14.00\" fill=\"#000000\">value = [2, 1]</text>\n<text text-anchor=\"middle\" x=\"1303.5\" y=\"-7.8\" font-family=\"Helvetica,sans-Serif\" font-size=\"14.00\" fill=\"#000000\">class = NO</text>\n</g>\n<!-- 27&#45;&gt;28 -->\n<g id=\"edge28\" class=\"edge\">\n<title>27&#45;&gt;28</title>\n<path fill=\"none\" stroke=\"#000000\" d=\"M1314.5064,-88.9777C1313.0385,-80.6449 1311.461,-71.6903 1309.9717,-63.2364\"/>\n<polygon fill=\"#000000\" stroke=\"#000000\" points=\"1313.3941,-62.4896 1308.2122,-53.2485 1306.5003,-63.7041 1313.3941,-62.4896\"/>\n</g>\n<!-- 29 -->\n<g id=\"node30\" class=\"node\">\n<title>29</title>\n<polygon fill=\"#e6843d\" stroke=\"#000000\" points=\"1483.5,-53 1371.5,-53 1371.5,0 1483.5,0 1483.5,-53\"/>\n<text text-anchor=\"middle\" x=\"1427.5\" y=\"-37.8\" font-family=\"Helvetica,sans-Serif\" font-size=\"14.00\" fill=\"#000000\">samples = 100</text>\n<text text-anchor=\"middle\" x=\"1427.5\" y=\"-22.8\" font-family=\"Helvetica,sans-Serif\" font-size=\"14.00\" fill=\"#000000\">value = [98, 2]</text>\n<text text-anchor=\"middle\" x=\"1427.5\" y=\"-7.8\" font-family=\"Helvetica,sans-Serif\" font-size=\"14.00\" fill=\"#000000\">class = NO</text>\n</g>\n<!-- 27&#45;&gt;29 -->\n<g id=\"edge29\" class=\"edge\">\n<title>27&#45;&gt;29</title>\n<path fill=\"none\" stroke=\"#000000\" d=\"M1358.2242,-88.9777C1368.5806,-79.6376 1379.8031,-69.5163 1390.139,-60.1947\"/>\n<polygon fill=\"#000000\" stroke=\"#000000\" points=\"1392.7591,-62.5449 1397.8411,-53.2485 1388.0709,-57.3467 1392.7591,-62.5449\"/>\n</g>\n<!-- 31 -->\n<g id=\"node32\" class=\"node\">\n<title>31</title>\n<polygon fill=\"#e58139\" stroke=\"#000000\" points=\"1650,-357.5 1551,-357.5 1551,-304.5 1650,-304.5 1650,-357.5\"/>\n<text text-anchor=\"middle\" x=\"1600.5\" y=\"-342.3\" font-family=\"Helvetica,sans-Serif\" font-size=\"14.00\" fill=\"#000000\">samples = 5</text>\n<text text-anchor=\"middle\" x=\"1600.5\" y=\"-327.3\" font-family=\"Helvetica,sans-Serif\" font-size=\"14.00\" fill=\"#000000\">value = [5, 0]</text>\n<text text-anchor=\"middle\" x=\"1600.5\" y=\"-312.3\" font-family=\"Helvetica,sans-Serif\" font-size=\"14.00\" fill=\"#000000\">class = NO</text>\n</g>\n<!-- 30&#45;&gt;31 -->\n<g id=\"edge31\" class=\"edge\">\n<title>30&#45;&gt;31</title>\n<path fill=\"none\" stroke=\"#000000\" d=\"M1670.4465,-400.9465C1658.8809,-389.3809 1645.9652,-376.4652 1634.4107,-364.9107\"/>\n<polygon fill=\"#000000\" stroke=\"#000000\" points=\"1636.5881,-362.1384 1627.0422,-357.5422 1631.6384,-367.0881 1636.5881,-362.1384\"/>\n</g>\n<!-- 32 -->\n<g id=\"node33\" class=\"node\">\n<title>32</title>\n<polygon fill=\"#399de5\" stroke=\"#000000\" points=\"1767,-357.5 1668,-357.5 1668,-304.5 1767,-304.5 1767,-357.5\"/>\n<text text-anchor=\"middle\" x=\"1717.5\" y=\"-342.3\" font-family=\"Helvetica,sans-Serif\" font-size=\"14.00\" fill=\"#000000\">samples = 3</text>\n<text text-anchor=\"middle\" x=\"1717.5\" y=\"-327.3\" font-family=\"Helvetica,sans-Serif\" font-size=\"14.00\" fill=\"#000000\">value = [0, 3]</text>\n<text text-anchor=\"middle\" x=\"1717.5\" y=\"-312.3\" font-family=\"Helvetica,sans-Serif\" font-size=\"14.00\" fill=\"#000000\">class = YES</text>\n</g>\n<!-- 30&#45;&gt;32 -->\n<g id=\"edge32\" class=\"edge\">\n<title>30&#45;&gt;32</title>\n<path fill=\"none\" stroke=\"#000000\" d=\"M1708.7567,-400.9465C1710.0922,-390.2621 1711.5718,-378.4254 1712.9282,-367.5742\"/>\n<polygon fill=\"#000000\" stroke=\"#000000\" points=\"1716.4148,-367.8991 1714.1822,-357.5422 1709.4688,-367.0308 1716.4148,-367.8991\"/>\n</g>\n<!-- 34 -->\n<g id=\"node35\" class=\"node\">\n<title>34</title>\n<polygon fill=\"#eeab7b\" stroke=\"#000000\" points=\"2090,-469 1851,-469 1851,-401 2090,-401 2090,-469\"/>\n<text text-anchor=\"middle\" x=\"1970.5\" y=\"-453.8\" font-family=\"Helvetica,sans-Serif\" font-size=\"14.00\" fill=\"#000000\">SMK_STAT_TYPE_CD_No &lt;= 0.5</text>\n<text text-anchor=\"middle\" x=\"1970.5\" y=\"-438.8\" font-family=\"Helvetica,sans-Serif\" font-size=\"14.00\" fill=\"#000000\">samples = 4</text>\n<text text-anchor=\"middle\" x=\"1970.5\" y=\"-423.8\" font-family=\"Helvetica,sans-Serif\" font-size=\"14.00\" fill=\"#000000\">value = [3, 1]</text>\n<text text-anchor=\"middle\" x=\"1970.5\" y=\"-408.8\" font-family=\"Helvetica,sans-Serif\" font-size=\"14.00\" fill=\"#000000\">class = NO</text>\n</g>\n<!-- 33&#45;&gt;34 -->\n<g id=\"edge34\" class=\"edge\">\n<title>33&#45;&gt;34</title>\n<path fill=\"none\" stroke=\"#000000\" d=\"M2033.0483,-504.9465C2025.0194,-495.968 2016.263,-486.1758 2007.9133,-476.8385\"/>\n<polygon fill=\"#000000\" stroke=\"#000000\" points=\"2010.295,-474.2512 2001.0201,-469.13 2005.077,-478.9174 2010.295,-474.2512\"/>\n</g>\n<!-- 37 -->\n<g id=\"node38\" class=\"node\">\n<title>37</title>\n<polygon fill=\"#399de5\" stroke=\"#000000\" points=\"2207,-461.5 2108,-461.5 2108,-408.5 2207,-408.5 2207,-461.5\"/>\n<text text-anchor=\"middle\" x=\"2157.5\" y=\"-446.3\" font-family=\"Helvetica,sans-Serif\" font-size=\"14.00\" fill=\"#000000\">samples = 3</text>\n<text text-anchor=\"middle\" x=\"2157.5\" y=\"-431.3\" font-family=\"Helvetica,sans-Serif\" font-size=\"14.00\" fill=\"#000000\">value = [0, 3]</text>\n<text text-anchor=\"middle\" x=\"2157.5\" y=\"-416.3\" font-family=\"Helvetica,sans-Serif\" font-size=\"14.00\" fill=\"#000000\">class = YES</text>\n</g>\n<!-- 33&#45;&gt;37 -->\n<g id=\"edge37\" class=\"edge\">\n<title>33&#45;&gt;37</title>\n<path fill=\"none\" stroke=\"#000000\" d=\"M2094.2791,-504.9465C2104.6331,-493.491 2116.1842,-480.711 2126.5513,-469.2412\"/>\n<polygon fill=\"#000000\" stroke=\"#000000\" points=\"2129.4011,-471.3078 2133.51,-461.5422 2124.208,-466.614 2129.4011,-471.3078\"/>\n</g>\n<!-- 35 -->\n<g id=\"node36\" class=\"node\">\n<title>35</title>\n<polygon fill=\"#e58139\" stroke=\"#000000\" points=\"1933,-357.5 1834,-357.5 1834,-304.5 1933,-304.5 1933,-357.5\"/>\n<text text-anchor=\"middle\" x=\"1883.5\" y=\"-342.3\" font-family=\"Helvetica,sans-Serif\" font-size=\"14.00\" fill=\"#000000\">samples = 3</text>\n<text text-anchor=\"middle\" x=\"1883.5\" y=\"-327.3\" font-family=\"Helvetica,sans-Serif\" font-size=\"14.00\" fill=\"#000000\">value = [3, 0]</text>\n<text text-anchor=\"middle\" x=\"1883.5\" y=\"-312.3\" font-family=\"Helvetica,sans-Serif\" font-size=\"14.00\" fill=\"#000000\">class = NO</text>\n</g>\n<!-- 34&#45;&gt;35 -->\n<g id=\"edge35\" class=\"edge\">\n<title>34&#45;&gt;35</title>\n<path fill=\"none\" stroke=\"#000000\" d=\"M1942.0129,-400.9465C1932.43,-389.491 1921.739,-376.711 1912.1441,-365.2412\"/>\n<polygon fill=\"#000000\" stroke=\"#000000\" points=\"1914.8045,-362.9666 1905.7035,-357.5422 1909.4354,-367.458 1914.8045,-362.9666\"/>\n</g>\n<!-- 36 -->\n<g id=\"node37\" class=\"node\">\n<title>36</title>\n<polygon fill=\"#399de5\" stroke=\"#000000\" points=\"2050,-357.5 1951,-357.5 1951,-304.5 2050,-304.5 2050,-357.5\"/>\n<text text-anchor=\"middle\" x=\"2000.5\" y=\"-342.3\" font-family=\"Helvetica,sans-Serif\" font-size=\"14.00\" fill=\"#000000\">samples = 1</text>\n<text text-anchor=\"middle\" x=\"2000.5\" y=\"-327.3\" font-family=\"Helvetica,sans-Serif\" font-size=\"14.00\" fill=\"#000000\">value = [0, 1]</text>\n<text text-anchor=\"middle\" x=\"2000.5\" y=\"-312.3\" font-family=\"Helvetica,sans-Serif\" font-size=\"14.00\" fill=\"#000000\">class = YES</text>\n</g>\n<!-- 34&#45;&gt;36 -->\n<g id=\"edge36\" class=\"edge\">\n<title>34&#45;&gt;36</title>\n<path fill=\"none\" stroke=\"#000000\" d=\"M1980.3231,-400.9465C1983.437,-390.1519 1986.89,-378.1813 1990.0465,-367.2389\"/>\n<polygon fill=\"#000000\" stroke=\"#000000\" points=\"1993.4348,-368.1205 1992.8436,-357.5422 1986.709,-366.1803 1993.4348,-368.1205\"/>\n</g>\n<!-- 39 -->\n<g id=\"node40\" class=\"node\">\n<title>39</title>\n<polygon fill=\"#e89152\" stroke=\"#000000\" points=\"2490.5,-573 2366.5,-573 2366.5,-505 2490.5,-505 2490.5,-573\"/>\n<text text-anchor=\"middle\" x=\"2428.5\" y=\"-557.8\" font-family=\"Helvetica,sans-Serif\" font-size=\"14.00\" fill=\"#000000\">HMG &lt;= 17.55</text>\n<text text-anchor=\"middle\" x=\"2428.5\" y=\"-542.8\" font-family=\"Helvetica,sans-Serif\" font-size=\"14.00\" fill=\"#000000\">samples = 767</text>\n<text text-anchor=\"middle\" x=\"2428.5\" y=\"-527.8\" font-family=\"Helvetica,sans-Serif\" font-size=\"14.00\" fill=\"#000000\">value = [680, 87]</text>\n<text text-anchor=\"middle\" x=\"2428.5\" y=\"-512.8\" font-family=\"Helvetica,sans-Serif\" font-size=\"14.00\" fill=\"#000000\">class = NO</text>\n</g>\n<!-- 38&#45;&gt;39 -->\n<g id=\"edge39\" class=\"edge\">\n<title>38&#45;&gt;39</title>\n<path fill=\"none\" stroke=\"#000000\" d=\"M2428.5,-608.9465C2428.5,-600.776 2428.5,-591.9318 2428.5,-583.3697\"/>\n<polygon fill=\"#000000\" stroke=\"#000000\" points=\"2432.0001,-583.13 2428.5,-573.13 2425.0001,-583.13 2432.0001,-583.13\"/>\n</g>\n<!-- 70 -->\n<g id=\"node71\" class=\"node\">\n<title>70</title>\n<polygon fill=\"#f1bb93\" stroke=\"#000000\" points=\"2911.5,-573 2795.5,-573 2795.5,-505 2911.5,-505 2911.5,-573\"/>\n<text text-anchor=\"middle\" x=\"2853.5\" y=\"-557.8\" font-family=\"Helvetica,sans-Serif\" font-size=\"14.00\" fill=\"#000000\">BLDS &lt;= 131.5</text>\n<text text-anchor=\"middle\" x=\"2853.5\" y=\"-542.8\" font-family=\"Helvetica,sans-Serif\" font-size=\"14.00\" fill=\"#000000\">samples = 67</text>\n<text text-anchor=\"middle\" x=\"2853.5\" y=\"-527.8\" font-family=\"Helvetica,sans-Serif\" font-size=\"14.00\" fill=\"#000000\">value = [46, 21]</text>\n<text text-anchor=\"middle\" x=\"2853.5\" y=\"-512.8\" font-family=\"Helvetica,sans-Serif\" font-size=\"14.00\" fill=\"#000000\">class = NO</text>\n</g>\n<!-- 38&#45;&gt;70 -->\n<g id=\"edge70\" class=\"edge\">\n<title>38&#45;&gt;70</title>\n<path fill=\"none\" stroke=\"#000000\" d=\"M2494.9063,-626.75C2574.0492,-607.3832 2705.5937,-575.1935 2785.4528,-555.6515\"/>\n<polygon fill=\"#000000\" stroke=\"#000000\" points=\"2786.5263,-558.9922 2795.4077,-553.2155 2784.8624,-552.1928 2786.5263,-558.9922\"/>\n</g>\n<!-- 40 -->\n<g id=\"node41\" class=\"node\">\n<title>40</title>\n<polygon fill=\"#e89051\" stroke=\"#000000\" points=\"2400,-469 2243,-469 2243,-401 2400,-401 2400,-469\"/>\n<text text-anchor=\"middle\" x=\"2321.5\" y=\"-453.8\" font-family=\"Helvetica,sans-Serif\" font-size=\"14.00\" fill=\"#000000\">HDL_CHOLE &lt;= 39.5</text>\n<text text-anchor=\"middle\" x=\"2321.5\" y=\"-438.8\" font-family=\"Helvetica,sans-Serif\" font-size=\"14.00\" fill=\"#000000\">samples = 757</text>\n<text text-anchor=\"middle\" x=\"2321.5\" y=\"-423.8\" font-family=\"Helvetica,sans-Serif\" font-size=\"14.00\" fill=\"#000000\">value = [675, 82]</text>\n<text text-anchor=\"middle\" x=\"2321.5\" y=\"-408.8\" font-family=\"Helvetica,sans-Serif\" font-size=\"14.00\" fill=\"#000000\">class = NO</text>\n</g>\n<!-- 39&#45;&gt;40 -->\n<g id=\"edge40\" class=\"edge\">\n<title>39&#45;&gt;40</title>\n<path fill=\"none\" stroke=\"#000000\" d=\"M2393.4642,-504.9465C2384.0419,-495.7884 2373.7487,-485.7838 2363.9696,-476.2788\"/>\n<polygon fill=\"#000000\" stroke=\"#000000\" points=\"2366.2249,-473.59 2356.6145,-469.13 2361.346,-478.6097 2366.2249,-473.59\"/>\n</g>\n<!-- 63 -->\n<g id=\"node64\" class=\"node\">\n<title>63</title>\n<polygon fill=\"#ffffff\" stroke=\"#000000\" points=\"2615,-469 2454,-469 2454,-401 2615,-401 2615,-469\"/>\n<text text-anchor=\"middle\" x=\"2534.5\" y=\"-453.8\" font-family=\"Helvetica,sans-Serif\" font-size=\"14.00\" fill=\"#000000\">AGE_GROUP &lt;= 11.5</text>\n<text text-anchor=\"middle\" x=\"2534.5\" y=\"-438.8\" font-family=\"Helvetica,sans-Serif\" font-size=\"14.00\" fill=\"#000000\">samples = 10</text>\n<text text-anchor=\"middle\" x=\"2534.5\" y=\"-423.8\" font-family=\"Helvetica,sans-Serif\" font-size=\"14.00\" fill=\"#000000\">value = [5, 5]</text>\n<text text-anchor=\"middle\" x=\"2534.5\" y=\"-408.8\" font-family=\"Helvetica,sans-Serif\" font-size=\"14.00\" fill=\"#000000\">class = NO</text>\n</g>\n<!-- 39&#45;&gt;63 -->\n<g id=\"edge63\" class=\"edge\">\n<title>39&#45;&gt;63</title>\n<path fill=\"none\" stroke=\"#000000\" d=\"M2463.2084,-504.9465C2472.5426,-495.7884 2482.7396,-485.7838 2492.4273,-476.2788\"/>\n<polygon fill=\"#000000\" stroke=\"#000000\" points=\"2495.0267,-478.6318 2499.7137,-469.13 2490.1243,-473.6351 2495.0267,-478.6318\"/>\n</g>\n<!-- 41 -->\n<g id=\"node42\" class=\"node\">\n<title>41</title>\n<polygon fill=\"#efb387\" stroke=\"#000000\" points=\"2196.5,-365 2080.5,-365 2080.5,-297 2196.5,-297 2196.5,-365\"/>\n<text text-anchor=\"middle\" x=\"2138.5\" y=\"-349.8\" font-family=\"Helvetica,sans-Serif\" font-size=\"14.00\" fill=\"#000000\">HMG &lt;= 16.75</text>\n<text text-anchor=\"middle\" x=\"2138.5\" y=\"-334.8\" font-family=\"Helvetica,sans-Serif\" font-size=\"14.00\" fill=\"#000000\">samples = 46</text>\n<text text-anchor=\"middle\" x=\"2138.5\" y=\"-319.8\" font-family=\"Helvetica,sans-Serif\" font-size=\"14.00\" fill=\"#000000\">value = [33, 13]</text>\n<text text-anchor=\"middle\" x=\"2138.5\" y=\"-304.8\" font-family=\"Helvetica,sans-Serif\" font-size=\"14.00\" fill=\"#000000\">class = NO</text>\n</g>\n<!-- 40&#45;&gt;41 -->\n<g id=\"edge41\" class=\"edge\">\n<title>40&#45;&gt;41</title>\n<path fill=\"none\" stroke=\"#000000\" d=\"M2261.579,-400.9465C2243.6628,-390.7647 2223.9056,-379.5365 2205.5623,-369.1119\"/>\n<polygon fill=\"#000000\" stroke=\"#000000\" points=\"2207.1087,-365.965 2196.6852,-364.067 2203.65,-372.0509 2207.1087,-365.965\"/>\n</g>\n<!-- 50 -->\n<g id=\"node51\" class=\"node\">\n<title>50</title>\n<polygon fill=\"#e88f4e\" stroke=\"#000000\" points=\"2404,-365 2239,-365 2239,-297 2404,-297 2404,-365\"/>\n<text text-anchor=\"middle\" x=\"2321.5\" y=\"-349.8\" font-family=\"Helvetica,sans-Serif\" font-size=\"14.00\" fill=\"#000000\">TOT_CHOLE &lt;= 265.0</text>\n<text text-anchor=\"middle\" x=\"2321.5\" y=\"-334.8\" font-family=\"Helvetica,sans-Serif\" font-size=\"14.00\" fill=\"#000000\">samples = 711</text>\n<text text-anchor=\"middle\" x=\"2321.5\" y=\"-319.8\" font-family=\"Helvetica,sans-Serif\" font-size=\"14.00\" fill=\"#000000\">value = [642, 69]</text>\n<text text-anchor=\"middle\" x=\"2321.5\" y=\"-304.8\" font-family=\"Helvetica,sans-Serif\" font-size=\"14.00\" fill=\"#000000\">class = NO</text>\n</g>\n<!-- 40&#45;&gt;50 -->\n<g id=\"edge50\" class=\"edge\">\n<title>40&#45;&gt;50</title>\n<path fill=\"none\" stroke=\"#000000\" d=\"M2321.5,-400.9465C2321.5,-392.776 2321.5,-383.9318 2321.5,-375.3697\"/>\n<polygon fill=\"#000000\" stroke=\"#000000\" points=\"2325.0001,-375.13 2321.5,-365.13 2318.0001,-375.13 2325.0001,-375.13\"/>\n</g>\n<!-- 42 -->\n<g id=\"node43\" class=\"node\">\n<title>42</title>\n<polygon fill=\"#eda775\" stroke=\"#000000\" points=\"1964.5,-261 1780.5,-261 1780.5,-193 1964.5,-193 1964.5,-261\"/>\n<text text-anchor=\"middle\" x=\"1872.5\" y=\"-245.8\" font-family=\"Helvetica,sans-Serif\" font-size=\"14.00\" fill=\"#000000\">TRIGLYCERIDE &lt;= 312.0</text>\n<text text-anchor=\"middle\" x=\"1872.5\" y=\"-230.8\" font-family=\"Helvetica,sans-Serif\" font-size=\"14.00\" fill=\"#000000\">samples = 43</text>\n<text text-anchor=\"middle\" x=\"1872.5\" y=\"-215.8\" font-family=\"Helvetica,sans-Serif\" font-size=\"14.00\" fill=\"#000000\">value = [33, 10]</text>\n<text text-anchor=\"middle\" x=\"1872.5\" y=\"-200.8\" font-family=\"Helvetica,sans-Serif\" font-size=\"14.00\" fill=\"#000000\">class = NO</text>\n</g>\n<!-- 41&#45;&gt;42 -->\n<g id=\"edge42\" class=\"edge\">\n<title>41&#45;&gt;42</title>\n<path fill=\"none\" stroke=\"#000000\" d=\"M2080.0704,-305.8336C2072.8251,-302.8116 2065.5048,-299.8052 2058.5,-297 2031.2809,-286.0996 2001.6367,-274.7225 1974.1769,-264.3864\"/>\n<polygon fill=\"#000000\" stroke=\"#000000\" points=\"1975.1548,-261.015 1964.5627,-260.7762 1972.694,-267.5682 1975.1548,-261.015\"/>\n</g>\n<!-- 49 -->\n<g id=\"node50\" class=\"node\">\n<title>49</title>\n<polygon fill=\"#399de5\" stroke=\"#000000\" points=\"2188,-253.5 2089,-253.5 2089,-200.5 2188,-200.5 2188,-253.5\"/>\n<text text-anchor=\"middle\" x=\"2138.5\" y=\"-238.3\" font-family=\"Helvetica,sans-Serif\" font-size=\"14.00\" fill=\"#000000\">samples = 3</text>\n<text text-anchor=\"middle\" x=\"2138.5\" y=\"-223.3\" font-family=\"Helvetica,sans-Serif\" font-size=\"14.00\" fill=\"#000000\">value = [0, 3]</text>\n<text text-anchor=\"middle\" x=\"2138.5\" y=\"-208.3\" font-family=\"Helvetica,sans-Serif\" font-size=\"14.00\" fill=\"#000000\">class = YES</text>\n</g>\n<!-- 41&#45;&gt;49 -->\n<g id=\"edge49\" class=\"edge\">\n<title>41&#45;&gt;49</title>\n<path fill=\"none\" stroke=\"#000000\" d=\"M2138.5,-296.9465C2138.5,-286.2621 2138.5,-274.4254 2138.5,-263.5742\"/>\n<polygon fill=\"#000000\" stroke=\"#000000\" points=\"2142.0001,-263.5421 2138.5,-253.5422 2135.0001,-263.5422 2142.0001,-263.5421\"/>\n</g>\n<!-- 43 -->\n<g id=\"node44\" class=\"node\">\n<title>43</title>\n<polygon fill=\"#eb9d64\" stroke=\"#000000\" points=\"1747,-157 1606,-157 1606,-89 1747,-89 1747,-157\"/>\n<text text-anchor=\"middle\" x=\"1676.5\" y=\"-141.8\" font-family=\"Helvetica,sans-Serif\" font-size=\"14.00\" fill=\"#000000\">BP_HIGH &lt;= 151.0</text>\n<text text-anchor=\"middle\" x=\"1676.5\" y=\"-126.8\" font-family=\"Helvetica,sans-Serif\" font-size=\"14.00\" fill=\"#000000\">samples = 39</text>\n<text text-anchor=\"middle\" x=\"1676.5\" y=\"-111.8\" font-family=\"Helvetica,sans-Serif\" font-size=\"14.00\" fill=\"#000000\">value = [32, 7]</text>\n<text text-anchor=\"middle\" x=\"1676.5\" y=\"-96.8\" font-family=\"Helvetica,sans-Serif\" font-size=\"14.00\" fill=\"#000000\">class = NO</text>\n</g>\n<!-- 42&#45;&gt;43 -->\n<g id=\"edge43\" class=\"edge\">\n<title>42&#45;&gt;43</title>\n<path fill=\"none\" stroke=\"#000000\" d=\"M1808.3223,-192.9465C1789.6245,-183.0252 1769.0544,-172.1105 1749.8375,-161.9138\"/>\n<polygon fill=\"#000000\" stroke=\"#000000\" points=\"1751.2959,-158.7255 1740.8219,-157.13 1748.0149,-164.9089 1751.2959,-158.7255\"/>\n</g>\n<!-- 46 -->\n<g id=\"node47\" class=\"node\">\n<title>46</title>\n<polygon fill=\"#7bbeee\" stroke=\"#000000\" points=\"1941,-157 1804,-157 1804,-89 1941,-89 1941,-157\"/>\n<text text-anchor=\"middle\" x=\"1872.5\" y=\"-141.8\" font-family=\"Helvetica,sans-Serif\" font-size=\"14.00\" fill=\"#000000\">BP_LWST &lt;= 93.5</text>\n<text text-anchor=\"middle\" x=\"1872.5\" y=\"-126.8\" font-family=\"Helvetica,sans-Serif\" font-size=\"14.00\" fill=\"#000000\">samples = 4</text>\n<text text-anchor=\"middle\" x=\"1872.5\" y=\"-111.8\" font-family=\"Helvetica,sans-Serif\" font-size=\"14.00\" fill=\"#000000\">value = [1, 3]</text>\n<text text-anchor=\"middle\" x=\"1872.5\" y=\"-96.8\" font-family=\"Helvetica,sans-Serif\" font-size=\"14.00\" fill=\"#000000\">class = YES</text>\n</g>\n<!-- 42&#45;&gt;46 -->\n<g id=\"edge46\" class=\"edge\">\n<title>42&#45;&gt;46</title>\n<path fill=\"none\" stroke=\"#000000\" d=\"M1872.5,-192.9465C1872.5,-184.776 1872.5,-175.9318 1872.5,-167.3697\"/>\n<polygon fill=\"#000000\" stroke=\"#000000\" points=\"1876.0001,-167.13 1872.5,-157.13 1869.0001,-167.13 1876.0001,-167.13\"/>\n</g>\n<!-- 44 -->\n<g id=\"node45\" class=\"node\">\n<title>44</title>\n<polygon fill=\"#e89153\" stroke=\"#000000\" points=\"1609,-53 1502,-53 1502,0 1609,0 1609,-53\"/>\n<text text-anchor=\"middle\" x=\"1555.5\" y=\"-37.8\" font-family=\"Helvetica,sans-Serif\" font-size=\"14.00\" fill=\"#000000\">samples = 35</text>\n<text text-anchor=\"middle\" x=\"1555.5\" y=\"-22.8\" font-family=\"Helvetica,sans-Serif\" font-size=\"14.00\" fill=\"#000000\">value = [31, 4]</text>\n<text text-anchor=\"middle\" x=\"1555.5\" y=\"-7.8\" font-family=\"Helvetica,sans-Serif\" font-size=\"14.00\" fill=\"#000000\">class = NO</text>\n</g>\n<!-- 43&#45;&gt;44 -->\n<g id=\"edge44\" class=\"edge\">\n<title>43&#45;&gt;44</title>\n<path fill=\"none\" stroke=\"#000000\" d=\"M1633.8399,-88.9777C1621.8989,-79.4545 1608.9395,-69.1191 1597.063,-59.6473\"/>\n<polygon fill=\"#000000\" stroke=\"#000000\" points=\"1599.04,-56.7473 1589.0395,-53.2485 1594.6754,-62.22 1599.04,-56.7473\"/>\n</g>\n<!-- 45 -->\n<g id=\"node46\" class=\"node\">\n<title>45</title>\n<polygon fill=\"#7bbeee\" stroke=\"#000000\" points=\"1726,-53 1627,-53 1627,0 1726,0 1726,-53\"/>\n<text text-anchor=\"middle\" x=\"1676.5\" y=\"-37.8\" font-family=\"Helvetica,sans-Serif\" font-size=\"14.00\" fill=\"#000000\">samples = 4</text>\n<text text-anchor=\"middle\" x=\"1676.5\" y=\"-22.8\" font-family=\"Helvetica,sans-Serif\" font-size=\"14.00\" fill=\"#000000\">value = [1, 3]</text>\n<text text-anchor=\"middle\" x=\"1676.5\" y=\"-7.8\" font-family=\"Helvetica,sans-Serif\" font-size=\"14.00\" fill=\"#000000\">class = YES</text>\n</g>\n<!-- 43&#45;&gt;45 -->\n<g id=\"edge45\" class=\"edge\">\n<title>43&#45;&gt;45</title>\n<path fill=\"none\" stroke=\"#000000\" d=\"M1676.5,-88.9777C1676.5,-80.7364 1676.5,-71.887 1676.5,-63.5153\"/>\n<polygon fill=\"#000000\" stroke=\"#000000\" points=\"1680.0001,-63.2484 1676.5,-53.2485 1673.0001,-63.2485 1680.0001,-63.2484\"/>\n</g>\n<!-- 47 -->\n<g id=\"node48\" class=\"node\">\n<title>47</title>\n<polygon fill=\"#399de5\" stroke=\"#000000\" points=\"1843,-53 1744,-53 1744,0 1843,0 1843,-53\"/>\n<text text-anchor=\"middle\" x=\"1793.5\" y=\"-37.8\" font-family=\"Helvetica,sans-Serif\" font-size=\"14.00\" fill=\"#000000\">samples = 3</text>\n<text text-anchor=\"middle\" x=\"1793.5\" y=\"-22.8\" font-family=\"Helvetica,sans-Serif\" font-size=\"14.00\" fill=\"#000000\">value = [0, 3]</text>\n<text text-anchor=\"middle\" x=\"1793.5\" y=\"-7.8\" font-family=\"Helvetica,sans-Serif\" font-size=\"14.00\" fill=\"#000000\">class = YES</text>\n</g>\n<!-- 46&#45;&gt;47 -->\n<g id=\"edge47\" class=\"edge\">\n<title>46&#45;&gt;47</title>\n<path fill=\"none\" stroke=\"#000000\" d=\"M1844.6476,-88.9777C1837.2261,-79.9123 1829.2023,-70.111 1821.7593,-61.0192\"/>\n<polygon fill=\"#000000\" stroke=\"#000000\" points=\"1824.4405,-58.7692 1815.3977,-53.2485 1819.0241,-63.2034 1824.4405,-58.7692\"/>\n</g>\n<!-- 48 -->\n<g id=\"node49\" class=\"node\">\n<title>48</title>\n<polygon fill=\"#e58139\" stroke=\"#000000\" points=\"1960,-53 1861,-53 1861,0 1960,0 1960,-53\"/>\n<text text-anchor=\"middle\" x=\"1910.5\" y=\"-37.8\" font-family=\"Helvetica,sans-Serif\" font-size=\"14.00\" fill=\"#000000\">samples = 1</text>\n<text text-anchor=\"middle\" x=\"1910.5\" y=\"-22.8\" font-family=\"Helvetica,sans-Serif\" font-size=\"14.00\" fill=\"#000000\">value = [1, 0]</text>\n<text text-anchor=\"middle\" x=\"1910.5\" y=\"-7.8\" font-family=\"Helvetica,sans-Serif\" font-size=\"14.00\" fill=\"#000000\">class = NO</text>\n</g>\n<!-- 46&#45;&gt;48 -->\n<g id=\"edge48\" class=\"edge\">\n<title>46&#45;&gt;48</title>\n<path fill=\"none\" stroke=\"#000000\" d=\"M1885.8974,-88.9777C1889.2508,-80.4617 1892.86,-71.2963 1896.253,-62.6798\"/>\n<polygon fill=\"#000000\" stroke=\"#000000\" points=\"1899.5595,-63.8355 1899.9669,-53.2485 1893.0463,-61.2707 1899.5595,-63.8355\"/>\n</g>\n<!-- 51 -->\n<g id=\"node52\" class=\"node\">\n<title>51</title>\n<polygon fill=\"#e88e4d\" stroke=\"#000000\" points=\"2383,-261 2222,-261 2222,-193 2383,-193 2383,-261\"/>\n<text text-anchor=\"middle\" x=\"2302.5\" y=\"-245.8\" font-family=\"Helvetica,sans-Serif\" font-size=\"14.00\" fill=\"#000000\">AGE_GROUP &lt;= 13.5</text>\n<text text-anchor=\"middle\" x=\"2302.5\" y=\"-230.8\" font-family=\"Helvetica,sans-Serif\" font-size=\"14.00\" fill=\"#000000\">samples = 692</text>\n<text text-anchor=\"middle\" x=\"2302.5\" y=\"-215.8\" font-family=\"Helvetica,sans-Serif\" font-size=\"14.00\" fill=\"#000000\">value = [629, 63]</text>\n<text text-anchor=\"middle\" x=\"2302.5\" y=\"-200.8\" font-family=\"Helvetica,sans-Serif\" font-size=\"14.00\" fill=\"#000000\">class = NO</text>\n</g>\n<!-- 50&#45;&gt;51 -->\n<g id=\"edge51\" class=\"edge\">\n<title>50&#45;&gt;51</title>\n<path fill=\"none\" stroke=\"#000000\" d=\"M2315.2787,-296.9465C2313.7696,-288.6863 2312.1347,-279.7374 2310.5545,-271.0875\"/>\n<polygon fill=\"#000000\" stroke=\"#000000\" points=\"2313.9756,-270.3381 2308.7353,-261.13 2307.0895,-271.5962 2313.9756,-270.3381\"/>\n</g>\n<!-- 58 -->\n<g id=\"node59\" class=\"node\">\n<title>58</title>\n<polygon fill=\"#f1bb94\" stroke=\"#000000\" points=\"2517.5,-261 2401.5,-261 2401.5,-193 2517.5,-193 2517.5,-261\"/>\n<text text-anchor=\"middle\" x=\"2459.5\" y=\"-245.8\" font-family=\"Helvetica,sans-Serif\" font-size=\"14.00\" fill=\"#000000\">BLDS &lt;= 116.0</text>\n<text text-anchor=\"middle\" x=\"2459.5\" y=\"-230.8\" font-family=\"Helvetica,sans-Serif\" font-size=\"14.00\" fill=\"#000000\">samples = 19</text>\n<text text-anchor=\"middle\" x=\"2459.5\" y=\"-215.8\" font-family=\"Helvetica,sans-Serif\" font-size=\"14.00\" fill=\"#000000\">value = [13, 6]</text>\n<text text-anchor=\"middle\" x=\"2459.5\" y=\"-200.8\" font-family=\"Helvetica,sans-Serif\" font-size=\"14.00\" fill=\"#000000\">class = NO</text>\n</g>\n<!-- 50&#45;&gt;58 -->\n<g id=\"edge58\" class=\"edge\">\n<title>50&#45;&gt;58</title>\n<path fill=\"none\" stroke=\"#000000\" d=\"M2366.6864,-296.9465C2379.315,-287.4293 2393.1567,-276.9978 2406.2068,-267.163\"/>\n<polygon fill=\"#000000\" stroke=\"#000000\" points=\"2408.3325,-269.9437 2414.2121,-261.13 2404.1195,-264.3534 2408.3325,-269.9437\"/>\n</g>\n<!-- 52 -->\n<g id=\"node53\" class=\"node\">\n<title>52</title>\n<polygon fill=\"#e89050\" stroke=\"#000000\" points=\"2234.5,-157 2110.5,-157 2110.5,-89 2234.5,-89 2234.5,-157\"/>\n<text text-anchor=\"middle\" x=\"2172.5\" y=\"-141.8\" font-family=\"Helvetica,sans-Serif\" font-size=\"14.00\" fill=\"#000000\">HMG &lt;= 13.75</text>\n<text text-anchor=\"middle\" x=\"2172.5\" y=\"-126.8\" font-family=\"Helvetica,sans-Serif\" font-size=\"14.00\" fill=\"#000000\">samples = 586</text>\n<text text-anchor=\"middle\" x=\"2172.5\" y=\"-111.8\" font-family=\"Helvetica,sans-Serif\" font-size=\"14.00\" fill=\"#000000\">value = [525, 61]</text>\n<text text-anchor=\"middle\" x=\"2172.5\" y=\"-96.8\" font-family=\"Helvetica,sans-Serif\" font-size=\"14.00\" fill=\"#000000\">class = NO</text>\n</g>\n<!-- 51&#45;&gt;52 -->\n<g id=\"edge52\" class=\"edge\">\n<title>51&#45;&gt;52</title>\n<path fill=\"none\" stroke=\"#000000\" d=\"M2259.9331,-192.9465C2248.1488,-183.519 2235.2432,-173.1946 2223.0519,-163.4415\"/>\n<polygon fill=\"#000000\" stroke=\"#000000\" points=\"2225.1577,-160.6439 2215.1625,-157.13 2220.7848,-166.11 2225.1577,-160.6439\"/>\n</g>\n<!-- 55 -->\n<g id=\"node56\" class=\"node\">\n<title>55</title>\n<polygon fill=\"#e6833d\" stroke=\"#000000\" points=\"2368.5,-157 2252.5,-157 2252.5,-89 2368.5,-89 2368.5,-157\"/>\n<text text-anchor=\"middle\" x=\"2310.5\" y=\"-141.8\" font-family=\"Helvetica,sans-Serif\" font-size=\"14.00\" fill=\"#000000\">HMG &lt;= 13.15</text>\n<text text-anchor=\"middle\" x=\"2310.5\" y=\"-126.8\" font-family=\"Helvetica,sans-Serif\" font-size=\"14.00\" fill=\"#000000\">samples = 106</text>\n<text text-anchor=\"middle\" x=\"2310.5\" y=\"-111.8\" font-family=\"Helvetica,sans-Serif\" font-size=\"14.00\" fill=\"#000000\">value = [104, 2]</text>\n<text text-anchor=\"middle\" x=\"2310.5\" y=\"-96.8\" font-family=\"Helvetica,sans-Serif\" font-size=\"14.00\" fill=\"#000000\">class = NO</text>\n</g>\n<!-- 51&#45;&gt;55 -->\n<g id=\"edge55\" class=\"edge\">\n<title>51&#45;&gt;55</title>\n<path fill=\"none\" stroke=\"#000000\" d=\"M2305.1195,-192.9465C2305.748,-184.776 2306.4283,-175.9318 2307.0869,-167.3697\"/>\n<polygon fill=\"#000000\" stroke=\"#000000\" points=\"2310.5973,-167.369 2307.8746,-157.13 2303.6179,-166.8321 2310.5973,-167.369\"/>\n</g>\n<!-- 53 -->\n<g id=\"node54\" class=\"node\">\n<title>53</title>\n<polygon fill=\"#e68641\" stroke=\"#000000\" points=\"2094.5,-53 1978.5,-53 1978.5,0 2094.5,0 2094.5,-53\"/>\n<text text-anchor=\"middle\" x=\"2036.5\" y=\"-37.8\" font-family=\"Helvetica,sans-Serif\" font-size=\"14.00\" fill=\"#000000\">samples = 123</text>\n<text text-anchor=\"middle\" x=\"2036.5\" y=\"-22.8\" font-family=\"Helvetica,sans-Serif\" font-size=\"14.00\" fill=\"#000000\">value = [118, 5]</text>\n<text text-anchor=\"middle\" x=\"2036.5\" y=\"-7.8\" font-family=\"Helvetica,sans-Serif\" font-size=\"14.00\" fill=\"#000000\">class = NO</text>\n</g>\n<!-- 52&#45;&gt;53 -->\n<g id=\"edge53\" class=\"edge\">\n<title>52&#45;&gt;53</title>\n<path fill=\"none\" stroke=\"#000000\" d=\"M2124.5515,-88.9777C2110.872,-79.2713 2096.0036,-68.7213 2082.4466,-59.1018\"/>\n<polygon fill=\"#000000\" stroke=\"#000000\" points=\"2084.3783,-56.1809 2074.1973,-53.2485 2080.3275,-61.8898 2084.3783,-56.1809\"/>\n</g>\n<!-- 54 -->\n<g id=\"node55\" class=\"node\">\n<title>54</title>\n<polygon fill=\"#e99254\" stroke=\"#000000\" points=\"2236.5,-53 2112.5,-53 2112.5,0 2236.5,0 2236.5,-53\"/>\n<text text-anchor=\"middle\" x=\"2174.5\" y=\"-37.8\" font-family=\"Helvetica,sans-Serif\" font-size=\"14.00\" fill=\"#000000\">samples = 463</text>\n<text text-anchor=\"middle\" x=\"2174.5\" y=\"-22.8\" font-family=\"Helvetica,sans-Serif\" font-size=\"14.00\" fill=\"#000000\">value = [407, 56]</text>\n<text text-anchor=\"middle\" x=\"2174.5\" y=\"-7.8\" font-family=\"Helvetica,sans-Serif\" font-size=\"14.00\" fill=\"#000000\">class = NO</text>\n</g>\n<!-- 52&#45;&gt;54 -->\n<g id=\"edge54\" class=\"edge\">\n<title>52&#45;&gt;54</title>\n<path fill=\"none\" stroke=\"#000000\" d=\"M2173.2051,-88.9777C2173.3759,-80.7364 2173.5593,-71.887 2173.7328,-63.5153\"/>\n<polygon fill=\"#000000\" stroke=\"#000000\" points=\"2177.2376,-63.3189 2173.9456,-53.2485 2170.2391,-63.1738 2177.2376,-63.3189\"/>\n</g>\n<!-- 56 -->\n<g id=\"node57\" class=\"node\">\n<title>56</title>\n<polygon fill=\"#e78a48\" stroke=\"#000000\" points=\"2362,-53 2255,-53 2255,0 2362,0 2362,-53\"/>\n<text text-anchor=\"middle\" x=\"2308.5\" y=\"-37.8\" font-family=\"Helvetica,sans-Serif\" font-size=\"14.00\" fill=\"#000000\">samples = 29</text>\n<text text-anchor=\"middle\" x=\"2308.5\" y=\"-22.8\" font-family=\"Helvetica,sans-Serif\" font-size=\"14.00\" fill=\"#000000\">value = [27, 2]</text>\n<text text-anchor=\"middle\" x=\"2308.5\" y=\"-7.8\" font-family=\"Helvetica,sans-Serif\" font-size=\"14.00\" fill=\"#000000\">class = NO</text>\n</g>\n<!-- 55&#45;&gt;56 -->\n<g id=\"edge56\" class=\"edge\">\n<title>55&#45;&gt;56</title>\n<path fill=\"none\" stroke=\"#000000\" d=\"M2309.7949,-88.9777C2309.6241,-80.7364 2309.4407,-71.887 2309.2672,-63.5153\"/>\n<polygon fill=\"#000000\" stroke=\"#000000\" points=\"2312.7609,-63.1738 2309.0544,-53.2485 2305.7624,-63.3189 2312.7609,-63.1738\"/>\n</g>\n<!-- 57 -->\n<g id=\"node58\" class=\"node\">\n<title>57</title>\n<polygon fill=\"#e58139\" stroke=\"#000000\" points=\"2487,-53 2380,-53 2380,0 2487,0 2487,-53\"/>\n<text text-anchor=\"middle\" x=\"2433.5\" y=\"-37.8\" font-family=\"Helvetica,sans-Serif\" font-size=\"14.00\" fill=\"#000000\">samples = 77</text>\n<text text-anchor=\"middle\" x=\"2433.5\" y=\"-22.8\" font-family=\"Helvetica,sans-Serif\" font-size=\"14.00\" fill=\"#000000\">value = [77, 0]</text>\n<text text-anchor=\"middle\" x=\"2433.5\" y=\"-7.8\" font-family=\"Helvetica,sans-Serif\" font-size=\"14.00\" fill=\"#000000\">class = NO</text>\n</g>\n<!-- 55&#45;&gt;57 -->\n<g id=\"edge57\" class=\"edge\">\n<title>55&#45;&gt;57</title>\n<path fill=\"none\" stroke=\"#000000\" d=\"M2353.8652,-88.9777C2366.0036,-79.4545 2379.1772,-69.1191 2391.2501,-59.6473\"/>\n<polygon fill=\"#000000\" stroke=\"#000000\" points=\"2393.6989,-62.1748 2399.4061,-53.2485 2389.378,-56.6674 2393.6989,-62.1748\"/>\n</g>\n<!-- 59 -->\n<g id=\"node60\" class=\"node\">\n<title>59</title>\n<polygon fill=\"#e99457\" stroke=\"#000000\" points=\"2526,-157 2415,-157 2415,-89 2526,-89 2526,-157\"/>\n<text text-anchor=\"middle\" x=\"2470.5\" y=\"-141.8\" font-family=\"Helvetica,sans-Serif\" font-size=\"14.00\" fill=\"#000000\">HMG &lt;= 16.65</text>\n<text text-anchor=\"middle\" x=\"2470.5\" y=\"-126.8\" font-family=\"Helvetica,sans-Serif\" font-size=\"14.00\" fill=\"#000000\">samples = 15</text>\n<text text-anchor=\"middle\" x=\"2470.5\" y=\"-111.8\" font-family=\"Helvetica,sans-Serif\" font-size=\"14.00\" fill=\"#000000\">value = [13, 2]</text>\n<text text-anchor=\"middle\" x=\"2470.5\" y=\"-96.8\" font-family=\"Helvetica,sans-Serif\" font-size=\"14.00\" fill=\"#000000\">class = NO</text>\n</g>\n<!-- 58&#45;&gt;59 -->\n<g id=\"edge59\" class=\"edge\">\n<title>58&#45;&gt;59</title>\n<path fill=\"none\" stroke=\"#000000\" d=\"M2463.1018,-192.9465C2463.9755,-184.6863 2464.922,-175.7374 2465.8369,-167.0875\"/>\n<polygon fill=\"#000000\" stroke=\"#000000\" points=\"2469.3188,-167.4427 2466.8901,-157.13 2462.3576,-166.7064 2469.3188,-167.4427\"/>\n</g>\n<!-- 62 -->\n<g id=\"node63\" class=\"node\">\n<title>62</title>\n<polygon fill=\"#399de5\" stroke=\"#000000\" points=\"2643,-149.5 2544,-149.5 2544,-96.5 2643,-96.5 2643,-149.5\"/>\n<text text-anchor=\"middle\" x=\"2593.5\" y=\"-134.3\" font-family=\"Helvetica,sans-Serif\" font-size=\"14.00\" fill=\"#000000\">samples = 4</text>\n<text text-anchor=\"middle\" x=\"2593.5\" y=\"-119.3\" font-family=\"Helvetica,sans-Serif\" font-size=\"14.00\" fill=\"#000000\">value = [0, 4]</text>\n<text text-anchor=\"middle\" x=\"2593.5\" y=\"-104.3\" font-family=\"Helvetica,sans-Serif\" font-size=\"14.00\" fill=\"#000000\">class = YES</text>\n</g>\n<!-- 58&#45;&gt;62 -->\n<g id=\"edge62\" class=\"edge\">\n<title>58&#45;&gt;62</title>\n<path fill=\"none\" stroke=\"#000000\" d=\"M2503.3766,-192.9465C2518.7043,-181.0504 2535.8723,-167.726 2551.0791,-155.9237\"/>\n<polygon fill=\"#000000\" stroke=\"#000000\" points=\"2553.5475,-158.4384 2559.3014,-149.5422 2549.2556,-152.9085 2553.5475,-158.4384\"/>\n</g>\n<!-- 60 -->\n<g id=\"node61\" class=\"node\">\n<title>60</title>\n<polygon fill=\"#e78b48\" stroke=\"#000000\" points=\"2612,-53 2505,-53 2505,0 2612,0 2612,-53\"/>\n<text text-anchor=\"middle\" x=\"2558.5\" y=\"-37.8\" font-family=\"Helvetica,sans-Serif\" font-size=\"14.00\" fill=\"#000000\">samples = 14</text>\n<text text-anchor=\"middle\" x=\"2558.5\" y=\"-22.8\" font-family=\"Helvetica,sans-Serif\" font-size=\"14.00\" fill=\"#000000\">value = [13, 1]</text>\n<text text-anchor=\"middle\" x=\"2558.5\" y=\"-7.8\" font-family=\"Helvetica,sans-Serif\" font-size=\"14.00\" fill=\"#000000\">class = NO</text>\n</g>\n<!-- 59&#45;&gt;60 -->\n<g id=\"edge60\" class=\"edge\">\n<title>59&#45;&gt;60</title>\n<path fill=\"none\" stroke=\"#000000\" d=\"M2501.5255,-88.9777C2509.8759,-79.8207 2518.911,-69.9129 2527.2724,-60.744\"/>\n<polygon fill=\"#000000\" stroke=\"#000000\" points=\"2529.9556,-62.9959 2534.1076,-53.2485 2524.7833,-58.2791 2529.9556,-62.9959\"/>\n</g>\n<!-- 61 -->\n<g id=\"node62\" class=\"node\">\n<title>61</title>\n<polygon fill=\"#399de5\" stroke=\"#000000\" points=\"2729,-53 2630,-53 2630,0 2729,0 2729,-53\"/>\n<text text-anchor=\"middle\" x=\"2679.5\" y=\"-37.8\" font-family=\"Helvetica,sans-Serif\" font-size=\"14.00\" fill=\"#000000\">samples = 1</text>\n<text text-anchor=\"middle\" x=\"2679.5\" y=\"-22.8\" font-family=\"Helvetica,sans-Serif\" font-size=\"14.00\" fill=\"#000000\">value = [0, 1]</text>\n<text text-anchor=\"middle\" x=\"2679.5\" y=\"-7.8\" font-family=\"Helvetica,sans-Serif\" font-size=\"14.00\" fill=\"#000000\">class = YES</text>\n</g>\n<!-- 59&#45;&gt;61 -->\n<g id=\"edge61\" class=\"edge\">\n<title>59&#45;&gt;61</title>\n<path fill=\"none\" stroke=\"#000000\" d=\"M2526.1943,-93.0255C2528.9913,-91.6418 2531.7711,-90.2927 2534.5,-89 2571.947,-71.2613 2582.4866,-69.49 2620.5,-53 2620.5966,-52.9581 2620.6932,-52.9162 2620.79,-52.8742\"/>\n<polygon fill=\"#000000\" stroke=\"#000000\" points=\"2622.208,-56.0742 2629.9664,-48.8591 2619.402,-49.6612 2622.208,-56.0742\"/>\n</g>\n<!-- 64 -->\n<g id=\"node65\" class=\"node\">\n<title>64</title>\n<polygon fill=\"#88c4ef\" stroke=\"#000000\" points=\"2612.5,-365 2456.5,-365 2456.5,-297 2612.5,-297 2612.5,-365\"/>\n<text text-anchor=\"middle\" x=\"2534.5\" y=\"-349.8\" font-family=\"Helvetica,sans-Serif\" font-size=\"14.00\" fill=\"#000000\">CREATININE &lt;= 1.05</text>\n<text text-anchor=\"middle\" x=\"2534.5\" y=\"-334.8\" font-family=\"Helvetica,sans-Serif\" font-size=\"14.00\" fill=\"#000000\">samples = 7</text>\n<text text-anchor=\"middle\" x=\"2534.5\" y=\"-319.8\" font-family=\"Helvetica,sans-Serif\" font-size=\"14.00\" fill=\"#000000\">value = [2, 5]</text>\n<text text-anchor=\"middle\" x=\"2534.5\" y=\"-304.8\" font-family=\"Helvetica,sans-Serif\" font-size=\"14.00\" fill=\"#000000\">class = YES</text>\n</g>\n<!-- 63&#45;&gt;64 -->\n<g id=\"edge64\" class=\"edge\">\n<title>63&#45;&gt;64</title>\n<path fill=\"none\" stroke=\"#000000\" d=\"M2534.5,-400.9465C2534.5,-392.776 2534.5,-383.9318 2534.5,-375.3697\"/>\n<polygon fill=\"#000000\" stroke=\"#000000\" points=\"2538.0001,-375.13 2534.5,-365.13 2531.0001,-375.13 2538.0001,-375.13\"/>\n</g>\n<!-- 69 -->\n<g id=\"node70\" class=\"node\">\n<title>69</title>\n<polygon fill=\"#e58139\" stroke=\"#000000\" points=\"2730,-357.5 2631,-357.5 2631,-304.5 2730,-304.5 2730,-357.5\"/>\n<text text-anchor=\"middle\" x=\"2680.5\" y=\"-342.3\" font-family=\"Helvetica,sans-Serif\" font-size=\"14.00\" fill=\"#000000\">samples = 3</text>\n<text text-anchor=\"middle\" x=\"2680.5\" y=\"-327.3\" font-family=\"Helvetica,sans-Serif\" font-size=\"14.00\" fill=\"#000000\">value = [3, 0]</text>\n<text text-anchor=\"middle\" x=\"2680.5\" y=\"-312.3\" font-family=\"Helvetica,sans-Serif\" font-size=\"14.00\" fill=\"#000000\">class = NO</text>\n</g>\n<!-- 63&#45;&gt;69 -->\n<g id=\"edge69\" class=\"edge\">\n<title>63&#45;&gt;69</title>\n<path fill=\"none\" stroke=\"#000000\" d=\"M2582.3059,-400.9465C2599.1608,-388.9403 2618.0581,-375.4791 2634.7399,-363.5962\"/>\n<polygon fill=\"#000000\" stroke=\"#000000\" points=\"2637.1247,-366.1947 2643.2389,-357.5422 2633.0633,-360.4933 2637.1247,-366.1947\"/>\n</g>\n<!-- 65 -->\n<g id=\"node66\" class=\"node\">\n<title>65</title>\n<polygon fill=\"#399de5\" stroke=\"#000000\" points=\"2635,-253.5 2536,-253.5 2536,-200.5 2635,-200.5 2635,-253.5\"/>\n<text text-anchor=\"middle\" x=\"2585.5\" y=\"-238.3\" font-family=\"Helvetica,sans-Serif\" font-size=\"14.00\" fill=\"#000000\">samples = 4</text>\n<text text-anchor=\"middle\" x=\"2585.5\" y=\"-223.3\" font-family=\"Helvetica,sans-Serif\" font-size=\"14.00\" fill=\"#000000\">value = [0, 4]</text>\n<text text-anchor=\"middle\" x=\"2585.5\" y=\"-208.3\" font-family=\"Helvetica,sans-Serif\" font-size=\"14.00\" fill=\"#000000\">class = YES</text>\n</g>\n<!-- 64&#45;&gt;65 -->\n<g id=\"edge65\" class=\"edge\">\n<title>64&#45;&gt;65</title>\n<path fill=\"none\" stroke=\"#000000\" d=\"M2551.1993,-296.9465C2556.6008,-285.9316 2562.6029,-273.6922 2568.0569,-262.5703\"/>\n<polygon fill=\"#000000\" stroke=\"#000000\" points=\"2571.2236,-264.0618 2572.4841,-253.5422 2564.9386,-260.9797 2571.2236,-264.0618\"/>\n</g>\n<!-- 66 -->\n<g id=\"node67\" class=\"node\">\n<title>66</title>\n<polygon fill=\"#f2c09c\" stroke=\"#000000\" points=\"2809.5,-261 2653.5,-261 2653.5,-193 2809.5,-193 2809.5,-261\"/>\n<text text-anchor=\"middle\" x=\"2731.5\" y=\"-245.8\" font-family=\"Helvetica,sans-Serif\" font-size=\"14.00\" fill=\"#000000\">CREATININE &lt;= 1.15</text>\n<text text-anchor=\"middle\" x=\"2731.5\" y=\"-230.8\" font-family=\"Helvetica,sans-Serif\" font-size=\"14.00\" fill=\"#000000\">samples = 3</text>\n<text text-anchor=\"middle\" x=\"2731.5\" y=\"-215.8\" font-family=\"Helvetica,sans-Serif\" font-size=\"14.00\" fill=\"#000000\">value = [2, 1]</text>\n<text text-anchor=\"middle\" x=\"2731.5\" y=\"-200.8\" font-family=\"Helvetica,sans-Serif\" font-size=\"14.00\" fill=\"#000000\">class = NO</text>\n</g>\n<!-- 64&#45;&gt;66 -->\n<g id=\"edge66\" class=\"edge\">\n<title>64&#45;&gt;66</title>\n<path fill=\"none\" stroke=\"#000000\" d=\"M2599.0052,-296.9465C2617.7984,-287.0252 2638.4734,-276.1105 2657.7883,-265.9138\"/>\n<polygon fill=\"#000000\" stroke=\"#000000\" points=\"2659.6406,-268.8938 2666.8499,-261.13 2656.3726,-262.7034 2659.6406,-268.8938\"/>\n</g>\n<!-- 67 -->\n<g id=\"node68\" class=\"node\">\n<title>67</title>\n<polygon fill=\"#e58139\" stroke=\"#000000\" points=\"2774,-149.5 2675,-149.5 2675,-96.5 2774,-96.5 2774,-149.5\"/>\n<text text-anchor=\"middle\" x=\"2724.5\" y=\"-134.3\" font-family=\"Helvetica,sans-Serif\" font-size=\"14.00\" fill=\"#000000\">samples = 2</text>\n<text text-anchor=\"middle\" x=\"2724.5\" y=\"-119.3\" font-family=\"Helvetica,sans-Serif\" font-size=\"14.00\" fill=\"#000000\">value = [2, 0]</text>\n<text text-anchor=\"middle\" x=\"2724.5\" y=\"-104.3\" font-family=\"Helvetica,sans-Serif\" font-size=\"14.00\" fill=\"#000000\">class = NO</text>\n</g>\n<!-- 66&#45;&gt;67 -->\n<g id=\"edge67\" class=\"edge\">\n<title>66&#45;&gt;67</title>\n<path fill=\"none\" stroke=\"#000000\" d=\"M2729.2079,-192.9465C2728.4888,-182.2621 2727.6921,-170.4254 2726.9617,-159.5742\"/>\n<polygon fill=\"#000000\" stroke=\"#000000\" points=\"2730.4502,-159.2845 2726.2865,-149.5422 2723.466,-159.7547 2730.4502,-159.2845\"/>\n</g>\n<!-- 68 -->\n<g id=\"node69\" class=\"node\">\n<title>68</title>\n<polygon fill=\"#399de5\" stroke=\"#000000\" points=\"2891,-149.5 2792,-149.5 2792,-96.5 2891,-96.5 2891,-149.5\"/>\n<text text-anchor=\"middle\" x=\"2841.5\" y=\"-134.3\" font-family=\"Helvetica,sans-Serif\" font-size=\"14.00\" fill=\"#000000\">samples = 1</text>\n<text text-anchor=\"middle\" x=\"2841.5\" y=\"-119.3\" font-family=\"Helvetica,sans-Serif\" font-size=\"14.00\" fill=\"#000000\">value = [0, 1]</text>\n<text text-anchor=\"middle\" x=\"2841.5\" y=\"-104.3\" font-family=\"Helvetica,sans-Serif\" font-size=\"14.00\" fill=\"#000000\">class = YES</text>\n</g>\n<!-- 66&#45;&gt;68 -->\n<g id=\"edge68\" class=\"edge\">\n<title>66&#45;&gt;68</title>\n<path fill=\"none\" stroke=\"#000000\" d=\"M2767.5181,-192.9465C2779.8675,-181.2707 2793.6722,-168.219 2805.9817,-156.5809\"/>\n<polygon fill=\"#000000\" stroke=\"#000000\" points=\"2808.5646,-158.9556 2813.4266,-149.5422 2803.7555,-153.869 2808.5646,-158.9556\"/>\n</g>\n<!-- 71 -->\n<g id=\"node72\" class=\"node\">\n<title>71</title>\n<polygon fill=\"#eda572\" stroke=\"#000000\" points=\"2911.5,-469 2795.5,-469 2795.5,-401 2911.5,-401 2911.5,-469\"/>\n<text text-anchor=\"middle\" x=\"2853.5\" y=\"-453.8\" font-family=\"Helvetica,sans-Serif\" font-size=\"14.00\" fill=\"#000000\">HMG &lt;= 14.0</text>\n<text text-anchor=\"middle\" x=\"2853.5\" y=\"-438.8\" font-family=\"Helvetica,sans-Serif\" font-size=\"14.00\" fill=\"#000000\">samples = 58</text>\n<text text-anchor=\"middle\" x=\"2853.5\" y=\"-423.8\" font-family=\"Helvetica,sans-Serif\" font-size=\"14.00\" fill=\"#000000\">value = [45, 13]</text>\n<text text-anchor=\"middle\" x=\"2853.5\" y=\"-408.8\" font-family=\"Helvetica,sans-Serif\" font-size=\"14.00\" fill=\"#000000\">class = NO</text>\n</g>\n<!-- 70&#45;&gt;71 -->\n<g id=\"edge71\" class=\"edge\">\n<title>70&#45;&gt;71</title>\n<path fill=\"none\" stroke=\"#000000\" d=\"M2853.5,-504.9465C2853.5,-496.776 2853.5,-487.9318 2853.5,-479.3697\"/>\n<polygon fill=\"#000000\" stroke=\"#000000\" points=\"2857.0001,-479.13 2853.5,-469.13 2850.0001,-479.13 2857.0001,-479.13\"/>\n</g>\n<!-- 80 -->\n<g id=\"node81\" class=\"node\">\n<title>80</title>\n<polygon fill=\"#52a9e8\" stroke=\"#000000\" points=\"3226,-469 2981,-469 2981,-401 3226,-401 3226,-469\"/>\n<text text-anchor=\"middle\" x=\"3103.5\" y=\"-453.8\" font-family=\"Helvetica,sans-Serif\" font-size=\"14.00\" fill=\"#000000\">SMK_STAT_TYPE_CD_Yes &lt;= 0.5</text>\n<text text-anchor=\"middle\" x=\"3103.5\" y=\"-438.8\" font-family=\"Helvetica,sans-Serif\" font-size=\"14.00\" fill=\"#000000\">samples = 9</text>\n<text text-anchor=\"middle\" x=\"3103.5\" y=\"-423.8\" font-family=\"Helvetica,sans-Serif\" font-size=\"14.00\" fill=\"#000000\">value = [1, 8]</text>\n<text text-anchor=\"middle\" x=\"3103.5\" y=\"-408.8\" font-family=\"Helvetica,sans-Serif\" font-size=\"14.00\" fill=\"#000000\">class = YES</text>\n</g>\n<!-- 70&#45;&gt;80 -->\n<g id=\"edge80\" class=\"edge\">\n<title>70&#45;&gt;80</title>\n<path fill=\"none\" stroke=\"#000000\" d=\"M2911.7984,-514.7479C2941.6041,-502.3487 2978.5654,-486.9728 3012.0561,-473.0407\"/>\n<polygon fill=\"#000000\" stroke=\"#000000\" points=\"3013.5127,-476.2256 3021.4013,-469.1531 3010.824,-469.7625 3013.5127,-476.2256\"/>\n</g>\n<!-- 72 -->\n<g id=\"node73\" class=\"node\">\n<title>72</title>\n<polygon fill=\"#e58139\" stroke=\"#000000\" points=\"2855,-357.5 2748,-357.5 2748,-304.5 2855,-304.5 2855,-357.5\"/>\n<text text-anchor=\"middle\" x=\"2801.5\" y=\"-342.3\" font-family=\"Helvetica,sans-Serif\" font-size=\"14.00\" fill=\"#000000\">samples = 17</text>\n<text text-anchor=\"middle\" x=\"2801.5\" y=\"-327.3\" font-family=\"Helvetica,sans-Serif\" font-size=\"14.00\" fill=\"#000000\">value = [17, 0]</text>\n<text text-anchor=\"middle\" x=\"2801.5\" y=\"-312.3\" font-family=\"Helvetica,sans-Serif\" font-size=\"14.00\" fill=\"#000000\">class = NO</text>\n</g>\n<!-- 71&#45;&gt;72 -->\n<g id=\"edge72\" class=\"edge\">\n<title>71&#45;&gt;72</title>\n<path fill=\"none\" stroke=\"#000000\" d=\"M2836.4733,-400.9465C2830.9658,-389.9316 2824.8461,-377.6922 2819.2851,-366.5703\"/>\n<polygon fill=\"#000000\" stroke=\"#000000\" points=\"2822.3738,-364.9212 2814.7711,-357.5422 2816.1128,-368.0517 2822.3738,-364.9212\"/>\n</g>\n<!-- 73 -->\n<g id=\"node74\" class=\"node\">\n<title>73</title>\n<polygon fill=\"#f1bc95\" stroke=\"#000000\" points=\"3036,-365 2873,-365 2873,-297 3036,-297 3036,-365\"/>\n<text text-anchor=\"middle\" x=\"2954.5\" y=\"-349.8\" font-family=\"Helvetica,sans-Serif\" font-size=\"14.00\" fill=\"#000000\">LDL_CHOLE &lt;= 114.0</text>\n<text text-anchor=\"middle\" x=\"2954.5\" y=\"-334.8\" font-family=\"Helvetica,sans-Serif\" font-size=\"14.00\" fill=\"#000000\">samples = 41</text>\n<text text-anchor=\"middle\" x=\"2954.5\" y=\"-319.8\" font-family=\"Helvetica,sans-Serif\" font-size=\"14.00\" fill=\"#000000\">value = [28, 13]</text>\n<text text-anchor=\"middle\" x=\"2954.5\" y=\"-304.8\" font-family=\"Helvetica,sans-Serif\" font-size=\"14.00\" fill=\"#000000\">class = NO</text>\n</g>\n<!-- 71&#45;&gt;73 -->\n<g id=\"edge73\" class=\"edge\">\n<title>71&#45;&gt;73</title>\n<path fill=\"none\" stroke=\"#000000\" d=\"M2886.5712,-400.9465C2895.3779,-391.8782 2904.9907,-381.9799 2914.1403,-372.5585\"/>\n<polygon fill=\"#000000\" stroke=\"#000000\" points=\"2916.8985,-374.7422 2921.3545,-365.13 2911.8768,-369.8654 2916.8985,-374.7422\"/>\n</g>\n<!-- 74 -->\n<g id=\"node75\" class=\"node\">\n<title>74</title>\n<polygon fill=\"#e58139\" stroke=\"#000000\" points=\"2965,-253.5 2866,-253.5 2866,-200.5 2965,-200.5 2965,-253.5\"/>\n<text text-anchor=\"middle\" x=\"2915.5\" y=\"-238.3\" font-family=\"Helvetica,sans-Serif\" font-size=\"14.00\" fill=\"#000000\">samples = 8</text>\n<text text-anchor=\"middle\" x=\"2915.5\" y=\"-223.3\" font-family=\"Helvetica,sans-Serif\" font-size=\"14.00\" fill=\"#000000\">value = [8, 0]</text>\n<text text-anchor=\"middle\" x=\"2915.5\" y=\"-208.3\" font-family=\"Helvetica,sans-Serif\" font-size=\"14.00\" fill=\"#000000\">class = NO</text>\n</g>\n<!-- 73&#45;&gt;74 -->\n<g id=\"edge74\" class=\"edge\">\n<title>73&#45;&gt;74</title>\n<path fill=\"none\" stroke=\"#000000\" d=\"M2941.7299,-296.9465C2937.682,-286.1519 2933.193,-274.1813 2929.0896,-263.2389\"/>\n<polygon fill=\"#000000\" stroke=\"#000000\" points=\"2932.2418,-261.6765 2925.4533,-253.5422 2925.6875,-264.1344 2932.2418,-261.6765\"/>\n</g>\n<!-- 75 -->\n<g id=\"node76\" class=\"node\">\n<title>75</title>\n<polygon fill=\"#f6d3ba\" stroke=\"#000000\" points=\"3120,-261 2983,-261 2983,-193 3120,-193 3120,-261\"/>\n<text text-anchor=\"middle\" x=\"3051.5\" y=\"-245.8\" font-family=\"Helvetica,sans-Serif\" font-size=\"14.00\" fill=\"#000000\">BP_LWST &lt;= 73.0</text>\n<text text-anchor=\"middle\" x=\"3051.5\" y=\"-230.8\" font-family=\"Helvetica,sans-Serif\" font-size=\"14.00\" fill=\"#000000\">samples = 33</text>\n<text text-anchor=\"middle\" x=\"3051.5\" y=\"-215.8\" font-family=\"Helvetica,sans-Serif\" font-size=\"14.00\" fill=\"#000000\">value = [20, 13]</text>\n<text text-anchor=\"middle\" x=\"3051.5\" y=\"-200.8\" font-family=\"Helvetica,sans-Serif\" font-size=\"14.00\" fill=\"#000000\">class = NO</text>\n</g>\n<!-- 73&#45;&gt;75 -->\n<g id=\"edge75\" class=\"edge\">\n<title>73&#45;&gt;75</title>\n<path fill=\"none\" stroke=\"#000000\" d=\"M2986.2614,-296.9465C2994.7194,-287.8782 3003.9514,-277.9799 3012.7387,-268.5585\"/>\n<polygon fill=\"#000000\" stroke=\"#000000\" points=\"3015.406,-270.8302 3019.6672,-261.13 3010.287,-266.0557 3015.406,-270.8302\"/>\n</g>\n<!-- 76 -->\n<g id=\"node77\" class=\"node\">\n<title>76</title>\n<polygon fill=\"#399de5\" stroke=\"#000000\" points=\"3051,-149.5 2952,-149.5 2952,-96.5 3051,-96.5 3051,-149.5\"/>\n<text text-anchor=\"middle\" x=\"3001.5\" y=\"-134.3\" font-family=\"Helvetica,sans-Serif\" font-size=\"14.00\" fill=\"#000000\">samples = 3</text>\n<text text-anchor=\"middle\" x=\"3001.5\" y=\"-119.3\" font-family=\"Helvetica,sans-Serif\" font-size=\"14.00\" fill=\"#000000\">value = [0, 3]</text>\n<text text-anchor=\"middle\" x=\"3001.5\" y=\"-104.3\" font-family=\"Helvetica,sans-Serif\" font-size=\"14.00\" fill=\"#000000\">class = YES</text>\n</g>\n<!-- 75&#45;&gt;76 -->\n<g id=\"edge76\" class=\"edge\">\n<title>75&#45;&gt;76</title>\n<path fill=\"none\" stroke=\"#000000\" d=\"M3035.1281,-192.9465C3029.8325,-181.9316 3023.9482,-169.6922 3018.6011,-158.5703\"/>\n<polygon fill=\"#000000\" stroke=\"#000000\" points=\"3021.748,-157.0381 3014.2607,-149.5422 3015.4393,-160.0712 3021.748,-157.0381\"/>\n</g>\n<!-- 77 -->\n<g id=\"node78\" class=\"node\">\n<title>77</title>\n<polygon fill=\"#f2c09c\" stroke=\"#000000\" points=\"3185.5,-157 3069.5,-157 3069.5,-89 3185.5,-89 3185.5,-157\"/>\n<text text-anchor=\"middle\" x=\"3127.5\" y=\"-141.8\" font-family=\"Helvetica,sans-Serif\" font-size=\"14.00\" fill=\"#000000\">BLDS &lt;= 94.5</text>\n<text text-anchor=\"middle\" x=\"3127.5\" y=\"-126.8\" font-family=\"Helvetica,sans-Serif\" font-size=\"14.00\" fill=\"#000000\">samples = 30</text>\n<text text-anchor=\"middle\" x=\"3127.5\" y=\"-111.8\" font-family=\"Helvetica,sans-Serif\" font-size=\"14.00\" fill=\"#000000\">value = [20, 10]</text>\n<text text-anchor=\"middle\" x=\"3127.5\" y=\"-96.8\" font-family=\"Helvetica,sans-Serif\" font-size=\"14.00\" fill=\"#000000\">class = NO</text>\n</g>\n<!-- 75&#45;&gt;77 -->\n<g id=\"edge77\" class=\"edge\">\n<title>75&#45;&gt;77</title>\n<path fill=\"none\" stroke=\"#000000\" d=\"M3076.3852,-192.9465C3082.8153,-184.1475 3089.8163,-174.5672 3096.5159,-165.3993\"/>\n<polygon fill=\"#000000\" stroke=\"#000000\" points=\"3099.4845,-167.269 3102.5588,-157.13 3093.8328,-163.1389 3099.4845,-167.269\"/>\n</g>\n<!-- 78 -->\n<g id=\"node79\" class=\"node\">\n<title>78</title>\n<polygon fill=\"#e58139\" stroke=\"#000000\" points=\"3114,-53 3015,-53 3015,0 3114,0 3114,-53\"/>\n<text text-anchor=\"middle\" x=\"3064.5\" y=\"-37.8\" font-family=\"Helvetica,sans-Serif\" font-size=\"14.00\" fill=\"#000000\">samples = 6</text>\n<text text-anchor=\"middle\" x=\"3064.5\" y=\"-22.8\" font-family=\"Helvetica,sans-Serif\" font-size=\"14.00\" fill=\"#000000\">value = [6, 0]</text>\n<text text-anchor=\"middle\" x=\"3064.5\" y=\"-7.8\" font-family=\"Helvetica,sans-Serif\" font-size=\"14.00\" fill=\"#000000\">class = NO</text>\n</g>\n<!-- 77&#45;&gt;78 -->\n<g id=\"edge78\" class=\"edge\">\n<title>77&#45;&gt;78</title>\n<path fill=\"none\" stroke=\"#000000\" d=\"M3105.2886,-88.9777C3099.5496,-80.187 3093.3588,-70.7044 3087.5767,-61.8477\"/>\n<polygon fill=\"#000000\" stroke=\"#000000\" points=\"3090.3602,-59.7087 3081.9627,-53.2485 3084.4987,-63.5354 3090.3602,-59.7087\"/>\n</g>\n<!-- 79 -->\n<g id=\"node80\" class=\"node\">\n<title>79</title>\n<polygon fill=\"#f8dbc6\" stroke=\"#000000\" points=\"3248.5,-53 3132.5,-53 3132.5,0 3248.5,0 3248.5,-53\"/>\n<text text-anchor=\"middle\" x=\"3190.5\" y=\"-37.8\" font-family=\"Helvetica,sans-Serif\" font-size=\"14.00\" fill=\"#000000\">samples = 24</text>\n<text text-anchor=\"middle\" x=\"3190.5\" y=\"-22.8\" font-family=\"Helvetica,sans-Serif\" font-size=\"14.00\" fill=\"#000000\">value = [14, 10]</text>\n<text text-anchor=\"middle\" x=\"3190.5\" y=\"-7.8\" font-family=\"Helvetica,sans-Serif\" font-size=\"14.00\" fill=\"#000000\">class = NO</text>\n</g>\n<!-- 77&#45;&gt;79 -->\n<g id=\"edge79\" class=\"edge\">\n<title>77&#45;&gt;79</title>\n<path fill=\"none\" stroke=\"#000000\" d=\"M3149.7114,-88.9777C3155.4504,-80.187 3161.6412,-70.7044 3167.4233,-61.8477\"/>\n<polygon fill=\"#000000\" stroke=\"#000000\" points=\"3170.5013,-63.5354 3173.0373,-53.2485 3164.6398,-59.7087 3170.5013,-63.5354\"/>\n</g>\n<!-- 81 -->\n<g id=\"node82\" class=\"node\">\n<title>81</title>\n<polygon fill=\"#399de5\" stroke=\"#000000\" points=\"3153,-357.5 3054,-357.5 3054,-304.5 3153,-304.5 3153,-357.5\"/>\n<text text-anchor=\"middle\" x=\"3103.5\" y=\"-342.3\" font-family=\"Helvetica,sans-Serif\" font-size=\"14.00\" fill=\"#000000\">samples = 8</text>\n<text text-anchor=\"middle\" x=\"3103.5\" y=\"-327.3\" font-family=\"Helvetica,sans-Serif\" font-size=\"14.00\" fill=\"#000000\">value = [0, 8]</text>\n<text text-anchor=\"middle\" x=\"3103.5\" y=\"-312.3\" font-family=\"Helvetica,sans-Serif\" font-size=\"14.00\" fill=\"#000000\">class = YES</text>\n</g>\n<!-- 80&#45;&gt;81 -->\n<g id=\"edge81\" class=\"edge\">\n<title>80&#45;&gt;81</title>\n<path fill=\"none\" stroke=\"#000000\" d=\"M3103.5,-400.9465C3103.5,-390.2621 3103.5,-378.4254 3103.5,-367.5742\"/>\n<polygon fill=\"#000000\" stroke=\"#000000\" points=\"3107.0001,-367.5421 3103.5,-357.5422 3100.0001,-367.5422 3107.0001,-367.5421\"/>\n</g>\n<!-- 82 -->\n<g id=\"node83\" class=\"node\">\n<title>82</title>\n<polygon fill=\"#e58139\" stroke=\"#000000\" points=\"3270,-357.5 3171,-357.5 3171,-304.5 3270,-304.5 3270,-357.5\"/>\n<text text-anchor=\"middle\" x=\"3220.5\" y=\"-342.3\" font-family=\"Helvetica,sans-Serif\" font-size=\"14.00\" fill=\"#000000\">samples = 1</text>\n<text text-anchor=\"middle\" x=\"3220.5\" y=\"-327.3\" font-family=\"Helvetica,sans-Serif\" font-size=\"14.00\" fill=\"#000000\">value = [1, 0]</text>\n<text text-anchor=\"middle\" x=\"3220.5\" y=\"-312.3\" font-family=\"Helvetica,sans-Serif\" font-size=\"14.00\" fill=\"#000000\">class = NO</text>\n</g>\n<!-- 80&#45;&gt;82 -->\n<g id=\"edge82\" class=\"edge\">\n<title>80&#45;&gt;82</title>\n<path fill=\"none\" stroke=\"#000000\" d=\"M3141.8102,-400.9465C3155.0694,-389.1606 3169.9058,-375.9726 3183.0916,-364.2519\"/>\n<polygon fill=\"#000000\" stroke=\"#000000\" points=\"3185.4912,-366.8018 3190.6401,-357.5422 3180.8407,-361.5699 3185.4912,-366.8018\"/>\n</g>\n</g>\n</svg>\n"
          },
          "metadata": {}
        }
      ]
    },
    {
      "cell_type": "code",
      "source": [
        "result = tree.feature_importances_ #변수의 중요도 계산\n",
        "print(\"변수의 중요도:\\n\", result) #print(df이름.columns)했을때 순서대로 나타남"
      ],
      "metadata": {
        "colab": {
          "base_uri": "https://localhost:8080/"
        },
        "id": "QH_OmJ3hUETm",
        "outputId": "4fa63ede-d280-48a7-db41-7c59edb4df6e"
      },
      "execution_count": 21,
      "outputs": [
        {
          "output_type": "stream",
          "name": "stdout",
          "text": [
            "변수의 중요도:\n",
            " [0.03706999 0.09758101 0.08354249 0.16869965 0.02009143 0.12087493\n",
            " 0.03199898 0.02149335 0.15839118 0.         0.04693602 0.17806972\n",
            " 0.         0.         0.01613193 0.         0.01911933 0.\n",
            " 0.        ]\n"
          ]
        }
      ]
    },
    {
      "cell_type": "code",
      "source": [
        "import numpy as np\n",
        "\n",
        "def plot_feature_importances_hd(model): #변수중요도를 측정하여 보여주는 함수 정의\n",
        "    plt.rcParams[\"figure.figsize\"] = (9,6) #가로 9, 세로 6\n",
        "    n_features = len(X.columns[:]) \n",
        "    plt.barh(np.arange(n_features), model.feature_importances_, align='center') #align = 'center' 막대가 눈금 중간에 오도록\n",
        "    plt.yticks(np.arange(n_features), X.columns[:])   # 30개의 눈금을 표시하고 눈금 레이블을 변수 이름으로 지정\n",
        "    plt.xlabel(\"feature importance\")\n",
        "    plt.ylabel(\"feature\")\n",
        "    plt.ylim(-1, n_features) #Y 축 범위 지정 (-1 ~ 30)\n",
        "\n",
        "plot_feature_importances_hd(tree)"
      ],
      "metadata": {
        "colab": {
          "base_uri": "https://localhost:8080/",
          "height": 388
        },
        "id": "gdyNBGqUUUxh",
        "outputId": "a8fb737f-91aa-46e4-9483-ef9fa89320fc"
      },
      "execution_count": 22,
      "outputs": [
        {
          "output_type": "display_data",
          "data": {
            "text/plain": [
              "<Figure size 648x432 with 1 Axes>"
            ],
            "image/png": "[encoded data removed]"
          },
          "metadata": {
            "needs_background": "light"
          }
        }
      ]
    },
    {
      "cell_type": "markdown",
      "source": [
        "중요도 1위 : BMI\n",
        "- 비만과 간질환은 밀접한 관련을 가지고 있다는 것은 이미 잘 알고 있는 사실이다. 이 데이터셋 학습에서도 이 사실을 분명하게 보여준다. 알코올 섭취가 거의 없이 비만, 당뇨병 등 대사증후군으로 인해 발생하는 것을 비알코올성 지방간이라고 부른다. 이러한 비알코올성 지방간은 앞으로 가장 비만은 비알코올성 지방간의 가장 큰 원인으로 꼽히며, 복부비만과 관련이 매우 깊다고 한다.\n",
        "- 참조 : [술 안 마셔도 '지방간'에 걸릴 수 있어... 80%는 비알코올성] https://www.hidoc.co.kr/healthstory/news/C0000747011\n",
        "- 참조 : [\"비알콜성 지방간, 10년 뒤 가장 중요한 만성질환 될 것\"] https://www.medigatenews.com/news/104992943\n",
        "\n",
        "중요도 2위 : 식전혈당(공복혈당)\n",
        "- 간질환이 있거나 간에 지방이 과도하게 축적된경우에 포도당이 간에 제대로 저장되지 못해 공복 혈당이 높아질 수 있다고 한다.\n",
        "\n",
        "중요도 3위 : 혈색소\n",
        "- 혈색소침착증은 유전적으로 철분이 체내에 과잉 흡수 및 과잉 저장되는 유전 질환인데, 철분이 부적절하게  많이 흡수되면 간, 심장, 피부, 췌장, 관절, 고환 등에 철분이 과잉 저장되고, 이로 인해 질환이 유발된다고 한다.따라서 혈색소에 문제가 있으면 음주자가 아니더라도 간경화나 간암이 발생할 가능성이 있다.\n",
        "\n",
        "중요도 4위 : 트리글리세라이드 \n",
        "- 비만, 운동 부족, 흡연, 과음, 탄수화물 다량 섭취와 같은 생활습관에 의해 상승할 수 있는 요소로 BMI와 비슷한 이유로 중요도가 높음을 알 수 있다."
      ],
      "metadata": {
        "id": "xjrWTpVNGJ58"
      }
    },
    {
      "cell_type": "markdown",
      "source": [
        "**모델 2. 랜덤포레스트**"
      ],
      "metadata": {
        "id": "e76RCBNQ2_Jz"
      }
    },
    {
      "cell_type": "code",
      "source": [
        "# 랜덤포레스트 분류 알고리즘\n",
        "algorithm = RFC\n",
        "algorithm_name = 'rfc'"
      ],
      "metadata": {
        "id": "imb33oIbIwtQ"
      },
      "execution_count": 23,
      "outputs": []
    },
    {
      "cell_type": "code",
      "source": [
        "# 100개의 나무 생성 (정확도가 높아짐)\n",
        "\n",
        "forest = RFC(n_estimators=100, random_state=0)\n",
        "forest.fit(X_train, y_train)\n",
        "\n",
        "print(\"학습용 데이터 세트 정확도: {:.3f}\".format(forest.score(X_train, y_train)))\n",
        "print(\"시험용 데이터 세트 정확도: {:.3f}\".format(forest.score(X_test, y_test)))"
      ],
      "metadata": {
        "colab": {
          "base_uri": "https://localhost:8080/"
        },
        "id": "GwKAgI06OE6N",
        "outputId": "50c0d9e7-ddab-4259-cf1f-0fc1acecfee6"
      },
      "execution_count": 24,
      "outputs": [
        {
          "output_type": "stream",
          "name": "stderr",
          "text": [
            "/usr/local/lib/python3.7/dist-packages/ipykernel_launcher.py:4: DataConversionWarning: A column-vector y was passed when a 1d array was expected. Please change the shape of y to (n_samples,), for example using ravel().\n",
            "  after removing the cwd from sys.path.\n"
          ]
        },
        {
          "output_type": "stream",
          "name": "stdout",
          "text": [
            "학습용 데이터 세트 정확도: 1.000\n",
            "시험용 데이터 세트 정확도: 0.937\n"
          ]
        }
      ]
    },
    {
      "cell_type": "code",
      "source": [
        "plot_feature_importances_hd(forest)"
      ],
      "metadata": {
        "colab": {
          "base_uri": "https://localhost:8080/",
          "height": 388
        },
        "id": "zGg-RAhKNNS3",
        "outputId": "f07c22ca-df7e-4fb5-c4b5-5d781ee35feb"
      },
      "execution_count": 25,
      "outputs": [
        {
          "output_type": "display_data",
          "data": {
            "text/plain": [
              "<Figure size 648x432 with 1 Axes>"
            ],
            "image/png": "[encoded data removed]"
          },
          "metadata": {
            "needs_background": "light"
          }
        }
      ]
    },
    {
      "cell_type": "markdown",
      "source": [
        "우선 전체적으로 변수의 중요도가 증가했다. 랜덤포레스트에서도 가장 중요한 변수는 BMI이나, BLDS(공복혈당)보다 HMG(혈색소)의 중요도가 더 높게 측정되었다. 또한, 의사결정나무에서는 트리글리세라이드보다 낮았던 수축기혈압의 중요도가 올라갔다."
      ],
      "metadata": {
        "id": "3XRlCEFybJvu"
      }
    },
    {
      "cell_type": "code",
      "source": [
        "from sklearn.model_selection import cross_val_score\n",
        "\n",
        "# 교차 검증을 10번 수행하여 10번의 교차 검증 평균 정확도를 비교 (10-fold cross validation)\n",
        "# default cv=5\n",
        "\n",
        "dt_scores = cross_val_score(tree, X_train, y_train, cv=10, scoring='accuracy')  \n",
        "rf_scores = cross_val_score(forest, X_train, y_train, cv=10, scoring='accuracy')\n",
        "\n",
        "print(\"Accuracy\")\n",
        "print(\"Decision tree: \", dt_scores) \n",
        "print(\"Random forest: \", rf_scores) \n",
        "\n",
        "print(\"Accuracy mean\")\n",
        "print(\"Decision tree :{:.3f}\".format(dt_scores.mean())) \n",
        "print(\"Random forest :{:.3f}\".format(rf_scores.mean())) "
      ],
      "metadata": {
        "colab": {
          "base_uri": "https://localhost:8080/"
        },
        "id": "4-1FPWCsS7kF",
        "outputId": "ecc08a0e-4018-4c00-a205-c73bcec4ca82"
      },
      "execution_count": 26,
      "outputs": [
        {
          "output_type": "stream",
          "name": "stderr",
          "text": [
            "/usr/local/lib/python3.7/dist-packages/sklearn/model_selection/_validation.py:680: DataConversionWarning: A column-vector y was passed when a 1d array was expected. Please change the shape of y to (n_samples,), for example using ravel().\n",
            "  estimator.fit(X_train, y_train, **fit_params)\n",
            "/usr/local/lib/python3.7/dist-packages/sklearn/model_selection/_validation.py:680: DataConversionWarning: A column-vector y was passed when a 1d array was expected. Please change the shape of y to (n_samples,), for example using ravel().\n",
            "  estimator.fit(X_train, y_train, **fit_params)\n",
            "/usr/local/lib/python3.7/dist-packages/sklearn/model_selection/_validation.py:680: DataConversionWarning: A column-vector y was passed when a 1d array was expected. Please change the shape of y to (n_samples,), for example using ravel().\n",
            "  estimator.fit(X_train, y_train, **fit_params)\n",
            "/usr/local/lib/python3.7/dist-packages/sklearn/model_selection/_validation.py:680: DataConversionWarning: A column-vector y was passed when a 1d array was expected. Please change the shape of y to (n_samples,), for example using ravel().\n",
            "  estimator.fit(X_train, y_train, **fit_params)\n",
            "/usr/local/lib/python3.7/dist-packages/sklearn/model_selection/_validation.py:680: DataConversionWarning: A column-vector y was passed when a 1d array was expected. Please change the shape of y to (n_samples,), for example using ravel().\n",
            "  estimator.fit(X_train, y_train, **fit_params)\n",
            "/usr/local/lib/python3.7/dist-packages/sklearn/model_selection/_validation.py:680: DataConversionWarning: A column-vector y was passed when a 1d array was expected. Please change the shape of y to (n_samples,), for example using ravel().\n",
            "  estimator.fit(X_train, y_train, **fit_params)\n",
            "/usr/local/lib/python3.7/dist-packages/sklearn/model_selection/_validation.py:680: DataConversionWarning: A column-vector y was passed when a 1d array was expected. Please change the shape of y to (n_samples,), for example using ravel().\n",
            "  estimator.fit(X_train, y_train, **fit_params)\n",
            "/usr/local/lib/python3.7/dist-packages/sklearn/model_selection/_validation.py:680: DataConversionWarning: A column-vector y was passed when a 1d array was expected. Please change the shape of y to (n_samples,), for example using ravel().\n",
            "  estimator.fit(X_train, y_train, **fit_params)\n",
            "/usr/local/lib/python3.7/dist-packages/sklearn/model_selection/_validation.py:680: DataConversionWarning: A column-vector y was passed when a 1d array was expected. Please change the shape of y to (n_samples,), for example using ravel().\n",
            "  estimator.fit(X_train, y_train, **fit_params)\n",
            "/usr/local/lib/python3.7/dist-packages/sklearn/model_selection/_validation.py:680: DataConversionWarning: A column-vector y was passed when a 1d array was expected. Please change the shape of y to (n_samples,), for example using ravel().\n",
            "  estimator.fit(X_train, y_train, **fit_params)\n"
          ]
        },
        {
          "output_type": "stream",
          "name": "stdout",
          "text": [
            "Accuracy\n",
            "Decision tree:  [0.93436293 0.93822394 0.9034749  0.93822394 0.93822394 0.91891892\n",
            " 0.92277992 0.91891892 0.8996139  0.92635659]\n",
            "Random forest:  [0.93436293 0.93436293 0.93050193 0.93436293 0.93436293 0.93822394\n",
            " 0.93050193 0.93436293 0.93050193 0.93410853]\n",
            "Accuracy mean\n",
            "Decision tree :0.924\n",
            "Random forest :0.934\n"
          ]
        }
      ]
    },
    {
      "cell_type": "code",
      "source": [
        "#의사결정나무와 랜덤포레스트 정확도 비교 시각화\n",
        "cv_list = [    \n",
        "            ['decision_tree',dt_scores],\n",
        "            ['random_forest',rf_scores],\n",
        "          ]\n",
        "df = pd.DataFrame.from_dict(dict(cv_list))\n",
        "df.plot()"
      ],
      "metadata": {
        "colab": {
          "base_uri": "https://localhost:8080/",
          "height": 395
        },
        "id": "8o6zRFwRTEc2",
        "outputId": "3556ec14-dbfd-4c64-c37b-76a73f4e5585"
      },
      "execution_count": 27,
      "outputs": [
        {
          "output_type": "execute_result",
          "data": {
            "text/plain": [
              "<matplotlib.axes._subplots.AxesSubplot at 0x7fd0d606c290>"
            ]
          },
          "metadata": {},
          "execution_count": 27
        },
        {
          "output_type": "display_data",
          "data": {
            "text/plain": [
              "<Figure size 648x432 with 1 Axes>"
            ],
            "image/png": "[encoded data removed]"
          },
          "metadata": {
            "needs_background": "light"
          }
        }
      ]
    },
    {
      "cell_type": "markdown",
      "source": [
        "**모델 3. 그래디언트부스팅**"
      ],
      "metadata": {
        "id": "kJaREIcq5E1q"
      }
    },
    {
      "cell_type": "code",
      "source": [
        "from sklearn.ensemble import GradientBoostingClassifier\n",
        "# 기본값은 max_depth= 3, n_estimators=100, learning_rate = 0.1\n",
        "\n",
        "gbrt = GradientBoostingClassifier(random_state=0)\n",
        "gbrt.fit(X_train, y_train)"
      ],
      "metadata": {
        "colab": {
          "base_uri": "https://localhost:8080/"
        },
        "id": "2KFkiVZ75HKV",
        "outputId": "25de628a-fea0-4a55-b8f4-acb8aa0bba29"
      },
      "execution_count": 28,
      "outputs": [
        {
          "output_type": "stream",
          "name": "stderr",
          "text": [
            "/usr/local/lib/python3.7/dist-packages/sklearn/ensemble/_gb.py:494: DataConversionWarning: A column-vector y was passed when a 1d array was expected. Please change the shape of y to (n_samples, ), for example using ravel().\n",
            "  y = column_or_1d(y, warn=True)\n"
          ]
        },
        {
          "output_type": "execute_result",
          "data": {
            "text/plain": [
              "GradientBoostingClassifier(random_state=0)"
            ]
          },
          "metadata": {},
          "execution_count": 28
        }
      ]
    },
    {
      "cell_type": "code",
      "source": [
        "print(\"학습용 데이터 세트 정확도: {:.3f}\".format(gbrt.score(X_train, y_train)))\n",
        "print(\"시험용 데이터 세트 정확도: {:.3f}\".format(gbrt.score(X_test, y_test)))"
      ],
      "metadata": {
        "colab": {
          "base_uri": "https://localhost:8080/"
        },
        "id": "QMbW2h1d5I-f",
        "outputId": "ab131de5-d053-4450-b572-485ef8fd828b"
      },
      "execution_count": 29,
      "outputs": [
        {
          "output_type": "stream",
          "name": "stdout",
          "text": [
            "학습용 데이터 세트 정확도: 0.951\n",
            "시험용 데이터 세트 정확도: 0.932\n"
          ]
        }
      ]
    },
    {
      "cell_type": "code",
      "source": [
        "plot_feature_importances_hd(gbrt)"
      ],
      "metadata": {
        "colab": {
          "base_uri": "https://localhost:8080/",
          "height": 388
        },
        "id": "RG-faNFt5U2L",
        "outputId": "e8f004a9-fef7-4baa-9208-29155ecdc56e"
      },
      "execution_count": 30,
      "outputs": [
        {
          "output_type": "display_data",
          "data": {
            "text/plain": [
              "<Figure size 648x432 with 1 Axes>"
            ],
            "image/png": "[encoded data removed]"
          },
          "metadata": {
            "needs_background": "light"
          }
        }
      ]
    },
    {
      "cell_type": "markdown",
      "source": [
        "역시 가장 중요한 변수는 BMI로 측정되었다. BLDS(공복혈당)와 HMG(혈색소)의 중요도 차이가 더 벌어졌다."
      ],
      "metadata": {
        "id": "HzNRVLqRTqg-"
      }
    },
    {
      "cell_type": "markdown",
      "source": [
        "**모델 평가 : 그리드서치**"
      ],
      "metadata": {
        "id": "-O3dm7IxPC_h"
      }
    },
    {
      "cell_type": "code",
      "source": [
        "from sklearn.model_selection import GridSearchCV\n",
        "\n",
        "# 파라미터를 dictionary 형태로 설정\n",
        "parameters = {'max_depth':[1,2,3], 'learning_rate':[0.1,0.08, 0.06, 0.04, 0.02]}"
      ],
      "metadata": {
        "id": "OWKn2EUVUYHW"
      },
      "execution_count": 31,
      "outputs": []
    },
    {
      "cell_type": "code",
      "source": [
        "# param_grid의 파라미터들을 3개의 fold 로 나누어 검증\n",
        "# refit=True (기본값): 가장 좋은 파라미터 설정으로 재학습  \n",
        "init_gbrt = GradientBoostingClassifier(random_state=0)\n",
        "grid_gbrt = GridSearchCV(init_gbrt, param_grid=parameters, cv=3, refit=True)\n",
        "print(grid_gbrt)\n",
        "# 파라미터들을 순차적으로 학습, 검증\n",
        "grid_gbrt.fit(X_train, y_train)\n",
        "\n",
        "# GridSearchCV 결과 추출하여 DataFrame으로 변환\n",
        "scores_df = pd.DataFrame(grid_gbrt.cv_results_)\n",
        "scores_df[['params', 'mean_test_score', 'rank_test_score', 'split0_test_score', 'split1_test_score', 'split2_test_score']]"
      ],
      "metadata": {
        "colab": {
          "base_uri": "https://localhost:8080/",
          "height": 1000
        },
        "id": "pd5lFcKQUeap",
        "outputId": "a74d11b4-b06b-4fda-eb1f-2b0ee4f5e9ca"
      },
      "execution_count": 32,
      "outputs": [
        {
          "output_type": "stream",
          "name": "stdout",
          "text": [
            "GridSearchCV(cv=3, estimator=GradientBoostingClassifier(random_state=0),\n",
            "             param_grid={'learning_rate': [0.1, 0.08, 0.06, 0.04, 0.02],\n",
            "                         'max_depth': [1, 2, 3]})\n"
          ]
        },
        {
          "output_type": "stream",
          "name": "stderr",
          "text": [
            "/usr/local/lib/python3.7/dist-packages/sklearn/ensemble/_gb.py:494: DataConversionWarning: A column-vector y was passed when a 1d array was expected. Please change the shape of y to (n_samples, ), for example using ravel().\n",
            "  y = column_or_1d(y, warn=True)\n",
            "/usr/local/lib/python3.7/dist-packages/sklearn/ensemble/_gb.py:494: DataConversionWarning: A column-vector y was passed when a 1d array was expected. Please change the shape of y to (n_samples, ), for example using ravel().\n",
            "  y = column_or_1d(y, warn=True)\n",
            "/usr/local/lib/python3.7/dist-packages/sklearn/ensemble/_gb.py:494: DataConversionWarning: A column-vector y was passed when a 1d array was expected. Please change the shape of y to (n_samples, ), for example using ravel().\n",
            "  y = column_or_1d(y, warn=True)\n",
            "/usr/local/lib/python3.7/dist-packages/sklearn/ensemble/_gb.py:494: DataConversionWarning: A column-vector y was passed when a 1d array was expected. Please change the shape of y to (n_samples, ), for example using ravel().\n",
            "  y = column_or_1d(y, warn=True)\n",
            "/usr/local/lib/python3.7/dist-packages/sklearn/ensemble/_gb.py:494: DataConversionWarning: A column-vector y was passed when a 1d array was expected. Please change the shape of y to (n_samples, ), for example using ravel().\n",
            "  y = column_or_1d(y, warn=True)\n",
            "/usr/local/lib/python3.7/dist-packages/sklearn/ensemble/_gb.py:494: DataConversionWarning: A column-vector y was passed when a 1d array was expected. Please change the shape of y to (n_samples, ), for example using ravel().\n",
            "  y = column_or_1d(y, warn=True)\n",
            "/usr/local/lib/python3.7/dist-packages/sklearn/ensemble/_gb.py:494: DataConversionWarning: A column-vector y was passed when a 1d array was expected. Please change the shape of y to (n_samples, ), for example using ravel().\n",
            "  y = column_or_1d(y, warn=True)\n",
            "/usr/local/lib/python3.7/dist-packages/sklearn/ensemble/_gb.py:494: DataConversionWarning: A column-vector y was passed when a 1d array was expected. Please change the shape of y to (n_samples, ), for example using ravel().\n",
            "  y = column_or_1d(y, warn=True)\n",
            "/usr/local/lib/python3.7/dist-packages/sklearn/ensemble/_gb.py:494: DataConversionWarning: A column-vector y was passed when a 1d array was expected. Please change the shape of y to (n_samples, ), for example using ravel().\n",
            "  y = column_or_1d(y, warn=True)\n",
            "/usr/local/lib/python3.7/dist-packages/sklearn/ensemble/_gb.py:494: DataConversionWarning: A column-vector y was passed when a 1d array was expected. Please change the shape of y to (n_samples, ), for example using ravel().\n",
            "  y = column_or_1d(y, warn=True)\n",
            "/usr/local/lib/python3.7/dist-packages/sklearn/ensemble/_gb.py:494: DataConversionWarning: A column-vector y was passed when a 1d array was expected. Please change the shape of y to (n_samples, ), for example using ravel().\n",
            "  y = column_or_1d(y, warn=True)\n",
            "/usr/local/lib/python3.7/dist-packages/sklearn/ensemble/_gb.py:494: DataConversionWarning: A column-vector y was passed when a 1d array was expected. Please change the shape of y to (n_samples, ), for example using ravel().\n",
            "  y = column_or_1d(y, warn=True)\n",
            "/usr/local/lib/python3.7/dist-packages/sklearn/ensemble/_gb.py:494: DataConversionWarning: A column-vector y was passed when a 1d array was expected. Please change the shape of y to (n_samples, ), for example using ravel().\n",
            "  y = column_or_1d(y, warn=True)\n",
            "/usr/local/lib/python3.7/dist-packages/sklearn/ensemble/_gb.py:494: DataConversionWarning: A column-vector y was passed when a 1d array was expected. Please change the shape of y to (n_samples, ), for example using ravel().\n",
            "  y = column_or_1d(y, warn=True)\n",
            "/usr/local/lib/python3.7/dist-packages/sklearn/ensemble/_gb.py:494: DataConversionWarning: A column-vector y was passed when a 1d array was expected. Please change the shape of y to (n_samples, ), for example using ravel().\n",
            "  y = column_or_1d(y, warn=True)\n",
            "/usr/local/lib/python3.7/dist-packages/sklearn/ensemble/_gb.py:494: DataConversionWarning: A column-vector y was passed when a 1d array was expected. Please change the shape of y to (n_samples, ), for example using ravel().\n",
            "  y = column_or_1d(y, warn=True)\n",
            "/usr/local/lib/python3.7/dist-packages/sklearn/ensemble/_gb.py:494: DataConversionWarning: A column-vector y was passed when a 1d array was expected. Please change the shape of y to (n_samples, ), for example using ravel().\n",
            "  y = column_or_1d(y, warn=True)\n",
            "/usr/local/lib/python3.7/dist-packages/sklearn/ensemble/_gb.py:494: DataConversionWarning: A column-vector y was passed when a 1d array was expected. Please change the shape of y to (n_samples, ), for example using ravel().\n",
            "  y = column_or_1d(y, warn=True)\n",
            "/usr/local/lib/python3.7/dist-packages/sklearn/ensemble/_gb.py:494: DataConversionWarning: A column-vector y was passed when a 1d array was expected. Please change the shape of y to (n_samples, ), for example using ravel().\n",
            "  y = column_or_1d(y, warn=True)\n",
            "/usr/local/lib/python3.7/dist-packages/sklearn/ensemble/_gb.py:494: DataConversionWarning: A column-vector y was passed when a 1d array was expected. Please change the shape of y to (n_samples, ), for example using ravel().\n",
            "  y = column_or_1d(y, warn=True)\n",
            "/usr/local/lib/python3.7/dist-packages/sklearn/ensemble/_gb.py:494: DataConversionWarning: A column-vector y was passed when a 1d array was expected. Please change the shape of y to (n_samples, ), for example using ravel().\n",
            "  y = column_or_1d(y, warn=True)\n",
            "/usr/local/lib/python3.7/dist-packages/sklearn/ensemble/_gb.py:494: DataConversionWarning: A column-vector y was passed when a 1d array was expected. Please change the shape of y to (n_samples, ), for example using ravel().\n",
            "  y = column_or_1d(y, warn=True)\n",
            "/usr/local/lib/python3.7/dist-packages/sklearn/ensemble/_gb.py:494: DataConversionWarning: A column-vector y was passed when a 1d array was expected. Please change the shape of y to (n_samples, ), for example using ravel().\n",
            "  y = column_or_1d(y, warn=True)\n",
            "/usr/local/lib/python3.7/dist-packages/sklearn/ensemble/_gb.py:494: DataConversionWarning: A column-vector y was passed when a 1d array was expected. Please change the shape of y to (n_samples, ), for example using ravel().\n",
            "  y = column_or_1d(y, warn=True)\n",
            "/usr/local/lib/python3.7/dist-packages/sklearn/ensemble/_gb.py:494: DataConversionWarning: A column-vector y was passed when a 1d array was expected. Please change the shape of y to (n_samples, ), for example using ravel().\n",
            "  y = column_or_1d(y, warn=True)\n",
            "/usr/local/lib/python3.7/dist-packages/sklearn/ensemble/_gb.py:494: DataConversionWarning: A column-vector y was passed when a 1d array was expected. Please change the shape of y to (n_samples, ), for example using ravel().\n",
            "  y = column_or_1d(y, warn=True)\n",
            "/usr/local/lib/python3.7/dist-packages/sklearn/ensemble/_gb.py:494: DataConversionWarning: A column-vector y was passed when a 1d array was expected. Please change the shape of y to (n_samples, ), for example using ravel().\n",
            "  y = column_or_1d(y, warn=True)\n",
            "/usr/local/lib/python3.7/dist-packages/sklearn/ensemble/_gb.py:494: DataConversionWarning: A column-vector y was passed when a 1d array was expected. Please change the shape of y to (n_samples, ), for example using ravel().\n",
            "  y = column_or_1d(y, warn=True)\n",
            "/usr/local/lib/python3.7/dist-packages/sklearn/ensemble/_gb.py:494: DataConversionWarning: A column-vector y was passed when a 1d array was expected. Please change the shape of y to (n_samples, ), for example using ravel().\n",
            "  y = column_or_1d(y, warn=True)\n",
            "/usr/local/lib/python3.7/dist-packages/sklearn/ensemble/_gb.py:494: DataConversionWarning: A column-vector y was passed when a 1d array was expected. Please change the shape of y to (n_samples, ), for example using ravel().\n",
            "  y = column_or_1d(y, warn=True)\n",
            "/usr/local/lib/python3.7/dist-packages/sklearn/ensemble/_gb.py:494: DataConversionWarning: A column-vector y was passed when a 1d array was expected. Please change the shape of y to (n_samples, ), for example using ravel().\n",
            "  y = column_or_1d(y, warn=True)\n",
            "/usr/local/lib/python3.7/dist-packages/sklearn/ensemble/_gb.py:494: DataConversionWarning: A column-vector y was passed when a 1d array was expected. Please change the shape of y to (n_samples, ), for example using ravel().\n",
            "  y = column_or_1d(y, warn=True)\n",
            "/usr/local/lib/python3.7/dist-packages/sklearn/ensemble/_gb.py:494: DataConversionWarning: A column-vector y was passed when a 1d array was expected. Please change the shape of y to (n_samples, ), for example using ravel().\n",
            "  y = column_or_1d(y, warn=True)\n",
            "/usr/local/lib/python3.7/dist-packages/sklearn/ensemble/_gb.py:494: DataConversionWarning: A column-vector y was passed when a 1d array was expected. Please change the shape of y to (n_samples, ), for example using ravel().\n",
            "  y = column_or_1d(y, warn=True)\n",
            "/usr/local/lib/python3.7/dist-packages/sklearn/ensemble/_gb.py:494: DataConversionWarning: A column-vector y was passed when a 1d array was expected. Please change the shape of y to (n_samples, ), for example using ravel().\n",
            "  y = column_or_1d(y, warn=True)\n",
            "/usr/local/lib/python3.7/dist-packages/sklearn/ensemble/_gb.py:494: DataConversionWarning: A column-vector y was passed when a 1d array was expected. Please change the shape of y to (n_samples, ), for example using ravel().\n",
            "  y = column_or_1d(y, warn=True)\n",
            "/usr/local/lib/python3.7/dist-packages/sklearn/ensemble/_gb.py:494: DataConversionWarning: A column-vector y was passed when a 1d array was expected. Please change the shape of y to (n_samples, ), for example using ravel().\n",
            "  y = column_or_1d(y, warn=True)\n",
            "/usr/local/lib/python3.7/dist-packages/sklearn/ensemble/_gb.py:494: DataConversionWarning: A column-vector y was passed when a 1d array was expected. Please change the shape of y to (n_samples, ), for example using ravel().\n",
            "  y = column_or_1d(y, warn=True)\n",
            "/usr/local/lib/python3.7/dist-packages/sklearn/ensemble/_gb.py:494: DataConversionWarning: A column-vector y was passed when a 1d array was expected. Please change the shape of y to (n_samples, ), for example using ravel().\n",
            "  y = column_or_1d(y, warn=True)\n",
            "/usr/local/lib/python3.7/dist-packages/sklearn/ensemble/_gb.py:494: DataConversionWarning: A column-vector y was passed when a 1d array was expected. Please change the shape of y to (n_samples, ), for example using ravel().\n",
            "  y = column_or_1d(y, warn=True)\n",
            "/usr/local/lib/python3.7/dist-packages/sklearn/ensemble/_gb.py:494: DataConversionWarning: A column-vector y was passed when a 1d array was expected. Please change the shape of y to (n_samples, ), for example using ravel().\n",
            "  y = column_or_1d(y, warn=True)\n",
            "/usr/local/lib/python3.7/dist-packages/sklearn/ensemble/_gb.py:494: DataConversionWarning: A column-vector y was passed when a 1d array was expected. Please change the shape of y to (n_samples, ), for example using ravel().\n",
            "  y = column_or_1d(y, warn=True)\n",
            "/usr/local/lib/python3.7/dist-packages/sklearn/ensemble/_gb.py:494: DataConversionWarning: A column-vector y was passed when a 1d array was expected. Please change the shape of y to (n_samples, ), for example using ravel().\n",
            "  y = column_or_1d(y, warn=True)\n",
            "/usr/local/lib/python3.7/dist-packages/sklearn/ensemble/_gb.py:494: DataConversionWarning: A column-vector y was passed when a 1d array was expected. Please change the shape of y to (n_samples, ), for example using ravel().\n",
            "  y = column_or_1d(y, warn=True)\n",
            "/usr/local/lib/python3.7/dist-packages/sklearn/ensemble/_gb.py:494: DataConversionWarning: A column-vector y was passed when a 1d array was expected. Please change the shape of y to (n_samples, ), for example using ravel().\n",
            "  y = column_or_1d(y, warn=True)\n",
            "/usr/local/lib/python3.7/dist-packages/sklearn/ensemble/_gb.py:494: DataConversionWarning: A column-vector y was passed when a 1d array was expected. Please change the shape of y to (n_samples, ), for example using ravel().\n",
            "  y = column_or_1d(y, warn=True)\n"
          ]
        },
        {
          "output_type": "execute_result",
          "data": {
            "text/plain": [
              "                                     params  mean_test_score  rank_test_score  \\\n",
              "0    {'learning_rate': 0.1, 'max_depth': 1}         0.930861               12   \n",
              "1    {'learning_rate': 0.1, 'max_depth': 2}         0.933179                5   \n",
              "2    {'learning_rate': 0.1, 'max_depth': 3}         0.926999               15   \n",
              "3   {'learning_rate': 0.08, 'max_depth': 1}         0.931248               11   \n",
              "4   {'learning_rate': 0.08, 'max_depth': 2}         0.932793                7   \n",
              "5   {'learning_rate': 0.08, 'max_depth': 3}         0.929703               14   \n",
              "6   {'learning_rate': 0.06, 'max_depth': 1}         0.931634               10   \n",
              "7   {'learning_rate': 0.06, 'max_depth': 2}         0.933565                3   \n",
              "8   {'learning_rate': 0.06, 'max_depth': 3}         0.930861               12   \n",
              "9   {'learning_rate': 0.04, 'max_depth': 1}         0.932406                8   \n",
              "10  {'learning_rate': 0.04, 'max_depth': 2}         0.934724                1   \n",
              "11  {'learning_rate': 0.04, 'max_depth': 3}         0.932020                9   \n",
              "12  {'learning_rate': 0.02, 'max_depth': 1}         0.933565                3   \n",
              "13  {'learning_rate': 0.02, 'max_depth': 2}         0.933951                2   \n",
              "14  {'learning_rate': 0.02, 'max_depth': 3}         0.933179                5   \n",
              "\n",
              "    split0_test_score  split1_test_score  split2_test_score  \n",
              "0            0.930475           0.930475           0.931634  \n",
              "1            0.931634           0.932793           0.935110  \n",
              "2            0.924681           0.925840           0.930475  \n",
              "3            0.930475           0.931634           0.931634  \n",
              "4            0.931634           0.931634           0.935110  \n",
              "5            0.929316           0.931634           0.928158  \n",
              "6            0.931634           0.932793           0.930475  \n",
              "7            0.933951           0.931634           0.935110  \n",
              "8            0.930475           0.930475           0.931634  \n",
              "9            0.932793           0.933951           0.930475  \n",
              "10           0.933951           0.932793           0.937428  \n",
              "11           0.930475           0.932793           0.932793  \n",
              "12           0.932793           0.933951           0.933951  \n",
              "13           0.931634           0.933951           0.936269  \n",
              "14           0.931634           0.933951           0.933951  "
            ],
            "text/html": [
              "\n",
              "  <div id=\"df-b34fe38f-02c4-41c0-9f08-439cc8b2b45c\">\n",
              "    <div class=\"colab-df-container\">\n",
              "      <div>\n",
              "<style scoped>\n",
              "    .dataframe tbody tr th:only-of-type {\n",
              "        vertical-align: middle;\n",
              "    }\n",
              "\n",
              "    .dataframe tbody tr th {\n",
              "        vertical-align: top;\n",
              "    }\n",
              "\n",
              "    .dataframe thead th {\n",
              "        text-align: right;\n",
              "    }\n",
              "</style>\n",
              "<table border=\"1\" class=\"dataframe\">\n",
              "  <thead>\n",
              "    <tr style=\"text-align: right;\">\n",
              "      <th></th>\n",
              "      <th>params</th>\n",
              "      <th>mean_test_score</th>\n",
              "      <th>rank_test_score</th>\n",
              "      <th>split0_test_score</th>\n",
              "      <th>split1_test_score</th>\n",
              "      <th>split2_test_score</th>\n",
              "    </tr>\n",
              "  </thead>\n",
              "  <tbody>\n",
              "    <tr>\n",
              "      <th>0</th>\n",
              "      <td>{'learning_rate': 0.1, 'max_depth': 1}</td>\n",
              "      <td>0.930861</td>\n",
              "      <td>12</td>\n",
              "      <td>0.930475</td>\n",
              "      <td>0.930475</td>\n",
              "      <td>0.931634</td>\n",
              "    </tr>\n",
              "    <tr>\n",
              "      <th>1</th>\n",
              "      <td>{'learning_rate': 0.1, 'max_depth': 2}</td>\n",
              "      <td>0.933179</td>\n",
              "      <td>5</td>\n",
              "      <td>0.931634</td>\n",
              "      <td>0.932793</td>\n",
              "      <td>0.935110</td>\n",
              "    </tr>\n",
              "    <tr>\n",
              "      <th>2</th>\n",
              "      <td>{'learning_rate': 0.1, 'max_depth': 3}</td>\n",
              "      <td>0.926999</td>\n",
              "      <td>15</td>\n",
              "      <td>0.924681</td>\n",
              "      <td>0.925840</td>\n",
              "      <td>0.930475</td>\n",
              "    </tr>\n",
              "    <tr>\n",
              "      <th>3</th>\n",
              "      <td>{'learning_rate': 0.08, 'max_depth': 1}</td>\n",
              "      <td>0.931248</td>\n",
              "      <td>11</td>\n",
              "      <td>0.930475</td>\n",
              "      <td>0.931634</td>\n",
              "      <td>0.931634</td>\n",
              "    </tr>\n",
              "    <tr>\n",
              "      <th>4</th>\n",
              "      <td>{'learning_rate': 0.08, 'max_depth': 2}</td>\n",
              "      <td>0.932793</td>\n",
              "      <td>7</td>\n",
              "      <td>0.931634</td>\n",
              "      <td>0.931634</td>\n",
              "      <td>0.935110</td>\n",
              "    </tr>\n",
              "    <tr>\n",
              "      <th>5</th>\n",
              "      <td>{'learning_rate': 0.08, 'max_depth': 3}</td>\n",
              "      <td>0.929703</td>\n",
              "      <td>14</td>\n",
              "      <td>0.929316</td>\n",
              "      <td>0.931634</td>\n",
              "      <td>0.928158</td>\n",
              "    </tr>\n",
              "    <tr>\n",
              "      <th>6</th>\n",
              "      <td>{'learning_rate': 0.06, 'max_depth': 1}</td>\n",
              "      <td>0.931634</td>\n",
              "      <td>10</td>\n",
              "      <td>0.931634</td>\n",
              "      <td>0.932793</td>\n",
              "      <td>0.930475</td>\n",
              "    </tr>\n",
              "    <tr>\n",
              "      <th>7</th>\n",
              "      <td>{'learning_rate': 0.06, 'max_depth': 2}</td>\n",
              "      <td>0.933565</td>\n",
              "      <td>3</td>\n",
              "      <td>0.933951</td>\n",
              "      <td>0.931634</td>\n",
              "      <td>0.935110</td>\n",
              "    </tr>\n",
              "    <tr>\n",
              "      <th>8</th>\n",
              "      <td>{'learning_rate': 0.06, 'max_depth': 3}</td>\n",
              "      <td>0.930861</td>\n",
              "      <td>12</td>\n",
              "      <td>0.930475</td>\n",
              "      <td>0.930475</td>\n",
              "      <td>0.931634</td>\n",
              "    </tr>\n",
              "    <tr>\n",
              "      <th>9</th>\n",
              "      <td>{'learning_rate': 0.04, 'max_depth': 1}</td>\n",
              "      <td>0.932406</td>\n",
              "      <td>8</td>\n",
              "      <td>0.932793</td>\n",
              "      <td>0.933951</td>\n",
              "      <td>0.930475</td>\n",
              "    </tr>\n",
              "    <tr>\n",
              "      <th>10</th>\n",
              "      <td>{'learning_rate': 0.04, 'max_depth': 2}</td>\n",
              "      <td>0.934724</td>\n",
              "      <td>1</td>\n",
              "      <td>0.933951</td>\n",
              "      <td>0.932793</td>\n",
              "      <td>0.937428</td>\n",
              "    </tr>\n",
              "    <tr>\n",
              "      <th>11</th>\n",
              "      <td>{'learning_rate': 0.04, 'max_depth': 3}</td>\n",
              "      <td>0.932020</td>\n",
              "      <td>9</td>\n",
              "      <td>0.930475</td>\n",
              "      <td>0.932793</td>\n",
              "      <td>0.932793</td>\n",
              "    </tr>\n",
              "    <tr>\n",
              "      <th>12</th>\n",
              "      <td>{'learning_rate': 0.02, 'max_depth': 1}</td>\n",
              "      <td>0.933565</td>\n",
              "      <td>3</td>\n",
              "      <td>0.932793</td>\n",
              "      <td>0.933951</td>\n",
              "      <td>0.933951</td>\n",
              "    </tr>\n",
              "    <tr>\n",
              "      <th>13</th>\n",
              "      <td>{'learning_rate': 0.02, 'max_depth': 2}</td>\n",
              "      <td>0.933951</td>\n",
              "      <td>2</td>\n",
              "      <td>0.931634</td>\n",
              "      <td>0.933951</td>\n",
              "      <td>0.936269</td>\n",
              "    </tr>\n",
              "    <tr>\n",
              "      <th>14</th>\n",
              "      <td>{'learning_rate': 0.02, 'max_depth': 3}</td>\n",
              "      <td>0.933179</td>\n",
              "      <td>5</td>\n",
              "      <td>0.931634</td>\n",
              "      <td>0.933951</td>\n",
              "      <td>0.933951</td>\n",
              "    </tr>\n",
              "  </tbody>\n",
              "</table>\n",
              "</div>\n",
              "      <button class=\"colab-df-convert\" onclick=\"convertToInteractive('df-b34fe38f-02c4-41c0-9f08-439cc8b2b45c')\"\n",
              "              title=\"Convert this dataframe to an interactive table.\"\n",
              "              style=\"display:none;\">\n",
              "        \n",
              "  <svg xmlns=\"http://www.w3.org/2000/svg\" height=\"24px\"viewBox=\"0 0 24 24\"\n",
              "       width=\"24px\">\n",
              "    <path d=\"M0 0h24v24H0V0z\" fill=\"none\"/>\n",
              "    <path d=\"M18.56 5.44l.94 2.06.94-2.06 2.06-.94-2.06-.94-.94-2.06-.94 2.06-2.06.94zm-11 1L8.5 8.5l.94-2.06 2.06-.94-2.06-.94L8.5 2.5l-.94 2.06-2.06.94zm10 10l.94 2.06.94-2.06 2.06-.94-2.06-.94-.94-2.06-.94 2.06-2.06.94z\"/><path d=\"M17.41 7.96l-1.37-1.37c-.4-.4-.92-.59-1.43-.59-.52 0-1.04.2-1.43.59L10.3 9.45l-7.72 7.72c-.78.78-.78 2.05 0 2.83L4 21.41c.39.39.9.59 1.41.59.51 0 1.02-.2 1.41-.59l7.78-7.78 2.81-2.81c.8-.78.8-2.07 0-2.86zM5.41 20L4 18.59l7.72-7.72 1.47 1.35L5.41 20z\"/>\n",
              "  </svg>\n",
              "      </button>\n",
              "      \n",
              "  <style>\n",
              "    .colab-df-container {\n",
              "      display:flex;\n",
              "      flex-wrap:wrap;\n",
              "      gap: 12px;\n",
              "    }\n",
              "\n",
              "    .colab-df-convert {\n",
              "      background-color: #E8F0FE;\n",
              "      border: none;\n",
              "      border-radius: 50%;\n",
              "      cursor: pointer;\n",
              "      display: none;\n",
              "      fill: #1967D2;\n",
              "      height: 32px;\n",
              "      padding: 0 0 0 0;\n",
              "      width: 32px;\n",
              "    }\n",
              "\n",
              "    .colab-df-convert:hover {\n",
              "      background-color: #E2EBFA;\n",
              "      box-shadow: 0px 1px 2px rgba(60, 64, 67, 0.3), 0px 1px 3px 1px rgba(60, 64, 67, 0.15);\n",
              "      fill: #174EA6;\n",
              "    }\n",
              "\n",
              "    [theme=dark] .colab-df-convert {\n",
              "      background-color: #3B4455;\n",
              "      fill: #D2E3FC;\n",
              "    }\n",
              "\n",
              "    [theme=dark] .colab-df-convert:hover {\n",
              "      background-color: #434B5C;\n",
              "      box-shadow: 0px 1px 3px 1px rgba(0, 0, 0, 0.15);\n",
              "      filter: drop-shadow(0px 1px 2px rgba(0, 0, 0, 0.3));\n",
              "      fill: #FFFFFF;\n",
              "    }\n",
              "  </style>\n",
              "\n",
              "      <script>\n",
              "        const buttonEl =\n",
              "          document.querySelector('#df-b34fe38f-02c4-41c0-9f08-439cc8b2b45c button.colab-df-convert');\n",
              "        buttonEl.style.display =\n",
              "          google.colab.kernel.accessAllowed ? 'block' : 'none';\n",
              "\n",
              "        async function convertToInteractive(key) {\n",
              "          const element = document.querySelector('#df-b34fe38f-02c4-41c0-9f08-439cc8b2b45c');\n",
              "          const dataTable =\n",
              "            await google.colab.kernel.invokeFunction('convertToInteractive',\n",
              "                                                     [key], {});\n",
              "          if (!dataTable) return;\n",
              "\n",
              "          const docLinkHtml = 'Like what you see? Visit the ' +\n",
              "            '<a target=\"_blank\" href=https://colab.research.google.com/notebooks/data_table.ipynb>data table notebook</a>'\n",
              "            + ' to learn more about interactive tables.';\n",
              "          element.innerHTML = '';\n",
              "          dataTable['output_type'] = 'display_data';\n",
              "          await google.colab.output.renderOutput(dataTable, element);\n",
              "          const docLink = document.createElement('div');\n",
              "          docLink.innerHTML = docLinkHtml;\n",
              "          element.appendChild(docLink);\n",
              "        }\n",
              "      </script>\n",
              "    </div>\n",
              "  </div>\n",
              "  "
            ]
          },
          "metadata": {},
          "execution_count": 32
        }
      ]
    },
    {
      "cell_type": "code",
      "source": [
        "print('GridSearchCV 최적 파라미터:', grid_gbrt.best_params_)\n",
        "print('GridSearchCV 최고 정확도: {0:.4f}'.format(grid_gbrt.best_score_))"
      ],
      "metadata": {
        "colab": {
          "base_uri": "https://localhost:8080/"
        },
        "id": "U3_X-I0dVjkF",
        "outputId": "ce0938c2-4888-41a0-d0ca-fc6e612b73db"
      },
      "execution_count": 33,
      "outputs": [
        {
          "output_type": "stream",
          "name": "stdout",
          "text": [
            "GridSearchCV 최적 파라미터: {'learning_rate': 0.04, 'max_depth': 2}\n",
            "GridSearchCV 최고 정확도: 0.9347\n"
          ]
        }
      ]
    },
    {
      "cell_type": "code",
      "source": [
        "# 최적 파라미터로 학습이 된 모델을 이용하여 시험용 데이터 세트 분류\n",
        "print(\"시험용 데이터 세트 정확도: {:.3f}\".format(grid_gbrt.score(X_test, y_test)))"
      ],
      "metadata": {
        "colab": {
          "base_uri": "https://localhost:8080/"
        },
        "id": "UrzMxjv0VoBE",
        "outputId": "feca4a47-0adb-4750-9119-af08bb4a193e"
      },
      "execution_count": 34,
      "outputs": [
        {
          "output_type": "stream",
          "name": "stdout",
          "text": [
            "시험용 데이터 세트 정확도: 0.935\n"
          ]
        }
      ]
    }
  ]
}